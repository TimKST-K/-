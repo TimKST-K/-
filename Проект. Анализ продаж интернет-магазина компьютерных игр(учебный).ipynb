{
 "cells": [
  {
   "cell_type": "markdown",
   "metadata": {},
   "source": [
    "# Проект. Интернет-магазин \"Стримчик\"\n",
    "Из открытых источников доступны исторические данные о продажах игр, оценки пользователей и экспертов, жанры и платформы (например, Xbox или PlayStation). Мне, как аналитику, нужно выявить определяющие успешность игры закономерности. Это позволит сделать ставку на потенциально популярный продукт и спланировать рекламные кампании.\n",
    "Перед вами данные до 2016 года. Представим, что сейчас декабрь 2016 г., и я планирую кампанию на 2017-й. Нужно отработать принцип работы с данными. \n",
    "В наборе данных попадается аббревиатура ESRB (Entertainment Software Rating Board) — это ассоциация, определяющая возрастной рейтинг компьютерных игр. ESRB оценивает игровой контент и присваивает ему подходящую возрастную категорию, например, «Для взрослых», «Для детей младшего возраста» или «Для подростков»."
   ]
  },
  {
   "cell_type": "markdown",
   "metadata": {},
   "source": [
    "**Заголовок:** Исследования продаж видеоигр\n",
    "\n",
    "**Описание проекта:** Из открытых источников доступны исторические данные о продажах игр, оценки пользователей и экспертов, жанры и платформы (например, Xbox или PlayStation). Мне, как аналитику, нужно выявить определяющие успешность игры закономерности. Это позволит сделать ставку на потенциально популярный продукт и спланировать рекламные кампании. Перед вами данные до 2016 года. Представим, что сейчас декабрь 2016 г., и я планирую кампанию на 2017-й. Нужно отработать принцип работы с данными. В наборе данных попадается аббревиатура ESRB (Entertainment Software Rating Board) — это ассоциация, определяющая возрастной рейтинг компьютерных игр. ESRB оценивает игровой контент и присваивает ему подходящую возрастную категорию, например, «Для взрослых», «Для детей младшего возраста» или «Для подростков».\n",
    "\n",
    "**Цель исследования:** Определить зависимость продаж видеоигр на различных платформах и спланировать кампанию продаж на 2017 год\n",
    "\n",
    "**Ход исследования:**\n",
    "- Загрузка данных\n",
    "- Предобработка данных\n",
    "- Исследовательский анализ\n",
    "- Проверка гипотез\n",
    "\n",
    "**Общий вывод:** Резюмирование всей проделанной работы"
   ]
  },
  {
   "cell_type": "markdown",
   "metadata": {},
   "source": [
    "##  Загрузка данных"
   ]
  },
  {
   "cell_type": "code",
   "execution_count": 1,
   "metadata": {},
   "outputs": [],
   "source": [
    "import matplotlib.pyplot as plt\n",
    "import pandas as pd\n",
    "from scipy import stats as st\n",
    "import seaborn as sns"
   ]
  },
  {
   "cell_type": "code",
   "execution_count": 2,
   "metadata": {},
   "outputs": [
    {
     "ename": "FileNotFoundError",
     "evalue": "[Errno 2] No such file or directory: '/datasets/games.csv'",
     "output_type": "error",
     "traceback": [
      "\u001b[0;31m---------------------------------------------------------------------------\u001b[0m",
      "\u001b[0;31mFileNotFoundError\u001b[0m                         Traceback (most recent call last)",
      "Cell \u001b[0;32mIn[2], line 1\u001b[0m\n\u001b[0;32m----> 1\u001b[0m df \u001b[38;5;241m=\u001b[39m pd\u001b[38;5;241m.\u001b[39mread_csv(\u001b[38;5;124m'\u001b[39m\u001b[38;5;124m/datasets/games.csv\u001b[39m\u001b[38;5;124m'\u001b[39m)\n\u001b[1;32m      2\u001b[0m \u001b[38;5;66;03m#Посмотрим, как выглядит сама таблица\u001b[39;00m\n\u001b[1;32m      3\u001b[0m display(df\u001b[38;5;241m.\u001b[39mhead())\n",
      "File \u001b[0;32m/opt/anaconda3/lib/python3.11/site-packages/pandas/io/parsers/readers.py:948\u001b[0m, in \u001b[0;36mread_csv\u001b[0;34m(filepath_or_buffer, sep, delimiter, header, names, index_col, usecols, dtype, engine, converters, true_values, false_values, skipinitialspace, skiprows, skipfooter, nrows, na_values, keep_default_na, na_filter, verbose, skip_blank_lines, parse_dates, infer_datetime_format, keep_date_col, date_parser, date_format, dayfirst, cache_dates, iterator, chunksize, compression, thousands, decimal, lineterminator, quotechar, quoting, doublequote, escapechar, comment, encoding, encoding_errors, dialect, on_bad_lines, delim_whitespace, low_memory, memory_map, float_precision, storage_options, dtype_backend)\u001b[0m\n\u001b[1;32m    935\u001b[0m kwds_defaults \u001b[38;5;241m=\u001b[39m _refine_defaults_read(\n\u001b[1;32m    936\u001b[0m     dialect,\n\u001b[1;32m    937\u001b[0m     delimiter,\n\u001b[0;32m   (...)\u001b[0m\n\u001b[1;32m    944\u001b[0m     dtype_backend\u001b[38;5;241m=\u001b[39mdtype_backend,\n\u001b[1;32m    945\u001b[0m )\n\u001b[1;32m    946\u001b[0m kwds\u001b[38;5;241m.\u001b[39mupdate(kwds_defaults)\n\u001b[0;32m--> 948\u001b[0m \u001b[38;5;28;01mreturn\u001b[39;00m _read(filepath_or_buffer, kwds)\n",
      "File \u001b[0;32m/opt/anaconda3/lib/python3.11/site-packages/pandas/io/parsers/readers.py:611\u001b[0m, in \u001b[0;36m_read\u001b[0;34m(filepath_or_buffer, kwds)\u001b[0m\n\u001b[1;32m    608\u001b[0m _validate_names(kwds\u001b[38;5;241m.\u001b[39mget(\u001b[38;5;124m\"\u001b[39m\u001b[38;5;124mnames\u001b[39m\u001b[38;5;124m\"\u001b[39m, \u001b[38;5;28;01mNone\u001b[39;00m))\n\u001b[1;32m    610\u001b[0m \u001b[38;5;66;03m# Create the parser.\u001b[39;00m\n\u001b[0;32m--> 611\u001b[0m parser \u001b[38;5;241m=\u001b[39m TextFileReader(filepath_or_buffer, \u001b[38;5;241m*\u001b[39m\u001b[38;5;241m*\u001b[39mkwds)\n\u001b[1;32m    613\u001b[0m \u001b[38;5;28;01mif\u001b[39;00m chunksize \u001b[38;5;129;01mor\u001b[39;00m iterator:\n\u001b[1;32m    614\u001b[0m     \u001b[38;5;28;01mreturn\u001b[39;00m parser\n",
      "File \u001b[0;32m/opt/anaconda3/lib/python3.11/site-packages/pandas/io/parsers/readers.py:1448\u001b[0m, in \u001b[0;36mTextFileReader.__init__\u001b[0;34m(self, f, engine, **kwds)\u001b[0m\n\u001b[1;32m   1445\u001b[0m     \u001b[38;5;28mself\u001b[39m\u001b[38;5;241m.\u001b[39moptions[\u001b[38;5;124m\"\u001b[39m\u001b[38;5;124mhas_index_names\u001b[39m\u001b[38;5;124m\"\u001b[39m] \u001b[38;5;241m=\u001b[39m kwds[\u001b[38;5;124m\"\u001b[39m\u001b[38;5;124mhas_index_names\u001b[39m\u001b[38;5;124m\"\u001b[39m]\n\u001b[1;32m   1447\u001b[0m \u001b[38;5;28mself\u001b[39m\u001b[38;5;241m.\u001b[39mhandles: IOHandles \u001b[38;5;241m|\u001b[39m \u001b[38;5;28;01mNone\u001b[39;00m \u001b[38;5;241m=\u001b[39m \u001b[38;5;28;01mNone\u001b[39;00m\n\u001b[0;32m-> 1448\u001b[0m \u001b[38;5;28mself\u001b[39m\u001b[38;5;241m.\u001b[39m_engine \u001b[38;5;241m=\u001b[39m \u001b[38;5;28mself\u001b[39m\u001b[38;5;241m.\u001b[39m_make_engine(f, \u001b[38;5;28mself\u001b[39m\u001b[38;5;241m.\u001b[39mengine)\n",
      "File \u001b[0;32m/opt/anaconda3/lib/python3.11/site-packages/pandas/io/parsers/readers.py:1705\u001b[0m, in \u001b[0;36mTextFileReader._make_engine\u001b[0;34m(self, f, engine)\u001b[0m\n\u001b[1;32m   1703\u001b[0m     \u001b[38;5;28;01mif\u001b[39;00m \u001b[38;5;124m\"\u001b[39m\u001b[38;5;124mb\u001b[39m\u001b[38;5;124m\"\u001b[39m \u001b[38;5;129;01mnot\u001b[39;00m \u001b[38;5;129;01min\u001b[39;00m mode:\n\u001b[1;32m   1704\u001b[0m         mode \u001b[38;5;241m+\u001b[39m\u001b[38;5;241m=\u001b[39m \u001b[38;5;124m\"\u001b[39m\u001b[38;5;124mb\u001b[39m\u001b[38;5;124m\"\u001b[39m\n\u001b[0;32m-> 1705\u001b[0m \u001b[38;5;28mself\u001b[39m\u001b[38;5;241m.\u001b[39mhandles \u001b[38;5;241m=\u001b[39m get_handle(\n\u001b[1;32m   1706\u001b[0m     f,\n\u001b[1;32m   1707\u001b[0m     mode,\n\u001b[1;32m   1708\u001b[0m     encoding\u001b[38;5;241m=\u001b[39m\u001b[38;5;28mself\u001b[39m\u001b[38;5;241m.\u001b[39moptions\u001b[38;5;241m.\u001b[39mget(\u001b[38;5;124m\"\u001b[39m\u001b[38;5;124mencoding\u001b[39m\u001b[38;5;124m\"\u001b[39m, \u001b[38;5;28;01mNone\u001b[39;00m),\n\u001b[1;32m   1709\u001b[0m     compression\u001b[38;5;241m=\u001b[39m\u001b[38;5;28mself\u001b[39m\u001b[38;5;241m.\u001b[39moptions\u001b[38;5;241m.\u001b[39mget(\u001b[38;5;124m\"\u001b[39m\u001b[38;5;124mcompression\u001b[39m\u001b[38;5;124m\"\u001b[39m, \u001b[38;5;28;01mNone\u001b[39;00m),\n\u001b[1;32m   1710\u001b[0m     memory_map\u001b[38;5;241m=\u001b[39m\u001b[38;5;28mself\u001b[39m\u001b[38;5;241m.\u001b[39moptions\u001b[38;5;241m.\u001b[39mget(\u001b[38;5;124m\"\u001b[39m\u001b[38;5;124mmemory_map\u001b[39m\u001b[38;5;124m\"\u001b[39m, \u001b[38;5;28;01mFalse\u001b[39;00m),\n\u001b[1;32m   1711\u001b[0m     is_text\u001b[38;5;241m=\u001b[39mis_text,\n\u001b[1;32m   1712\u001b[0m     errors\u001b[38;5;241m=\u001b[39m\u001b[38;5;28mself\u001b[39m\u001b[38;5;241m.\u001b[39moptions\u001b[38;5;241m.\u001b[39mget(\u001b[38;5;124m\"\u001b[39m\u001b[38;5;124mencoding_errors\u001b[39m\u001b[38;5;124m\"\u001b[39m, \u001b[38;5;124m\"\u001b[39m\u001b[38;5;124mstrict\u001b[39m\u001b[38;5;124m\"\u001b[39m),\n\u001b[1;32m   1713\u001b[0m     storage_options\u001b[38;5;241m=\u001b[39m\u001b[38;5;28mself\u001b[39m\u001b[38;5;241m.\u001b[39moptions\u001b[38;5;241m.\u001b[39mget(\u001b[38;5;124m\"\u001b[39m\u001b[38;5;124mstorage_options\u001b[39m\u001b[38;5;124m\"\u001b[39m, \u001b[38;5;28;01mNone\u001b[39;00m),\n\u001b[1;32m   1714\u001b[0m )\n\u001b[1;32m   1715\u001b[0m \u001b[38;5;28;01massert\u001b[39;00m \u001b[38;5;28mself\u001b[39m\u001b[38;5;241m.\u001b[39mhandles \u001b[38;5;129;01mis\u001b[39;00m \u001b[38;5;129;01mnot\u001b[39;00m \u001b[38;5;28;01mNone\u001b[39;00m\n\u001b[1;32m   1716\u001b[0m f \u001b[38;5;241m=\u001b[39m \u001b[38;5;28mself\u001b[39m\u001b[38;5;241m.\u001b[39mhandles\u001b[38;5;241m.\u001b[39mhandle\n",
      "File \u001b[0;32m/opt/anaconda3/lib/python3.11/site-packages/pandas/io/common.py:863\u001b[0m, in \u001b[0;36mget_handle\u001b[0;34m(path_or_buf, mode, encoding, compression, memory_map, is_text, errors, storage_options)\u001b[0m\n\u001b[1;32m    858\u001b[0m \u001b[38;5;28;01melif\u001b[39;00m \u001b[38;5;28misinstance\u001b[39m(handle, \u001b[38;5;28mstr\u001b[39m):\n\u001b[1;32m    859\u001b[0m     \u001b[38;5;66;03m# Check whether the filename is to be opened in binary mode.\u001b[39;00m\n\u001b[1;32m    860\u001b[0m     \u001b[38;5;66;03m# Binary mode does not support 'encoding' and 'newline'.\u001b[39;00m\n\u001b[1;32m    861\u001b[0m     \u001b[38;5;28;01mif\u001b[39;00m ioargs\u001b[38;5;241m.\u001b[39mencoding \u001b[38;5;129;01mand\u001b[39;00m \u001b[38;5;124m\"\u001b[39m\u001b[38;5;124mb\u001b[39m\u001b[38;5;124m\"\u001b[39m \u001b[38;5;129;01mnot\u001b[39;00m \u001b[38;5;129;01min\u001b[39;00m ioargs\u001b[38;5;241m.\u001b[39mmode:\n\u001b[1;32m    862\u001b[0m         \u001b[38;5;66;03m# Encoding\u001b[39;00m\n\u001b[0;32m--> 863\u001b[0m         handle \u001b[38;5;241m=\u001b[39m \u001b[38;5;28mopen\u001b[39m(\n\u001b[1;32m    864\u001b[0m             handle,\n\u001b[1;32m    865\u001b[0m             ioargs\u001b[38;5;241m.\u001b[39mmode,\n\u001b[1;32m    866\u001b[0m             encoding\u001b[38;5;241m=\u001b[39mioargs\u001b[38;5;241m.\u001b[39mencoding,\n\u001b[1;32m    867\u001b[0m             errors\u001b[38;5;241m=\u001b[39merrors,\n\u001b[1;32m    868\u001b[0m             newline\u001b[38;5;241m=\u001b[39m\u001b[38;5;124m\"\u001b[39m\u001b[38;5;124m\"\u001b[39m,\n\u001b[1;32m    869\u001b[0m         )\n\u001b[1;32m    870\u001b[0m     \u001b[38;5;28;01melse\u001b[39;00m:\n\u001b[1;32m    871\u001b[0m         \u001b[38;5;66;03m# Binary mode\u001b[39;00m\n\u001b[1;32m    872\u001b[0m         handle \u001b[38;5;241m=\u001b[39m \u001b[38;5;28mopen\u001b[39m(handle, ioargs\u001b[38;5;241m.\u001b[39mmode)\n",
      "\u001b[0;31mFileNotFoundError\u001b[0m: [Errno 2] No such file or directory: '/datasets/games.csv'"
     ]
    }
   ],
   "source": [
    "df = pd.read_csv('/datasets/games.csv')\n",
    "#Посмотрим, как выглядит сама таблица\n",
    "display(df.head())\n",
    "#Посмотрим информацию о таблице\n",
    "df.info()"
   ]
  },
  {
   "cell_type": "markdown",
   "metadata": {},
   "source": [
    "В исходной таблицы можно наблюдать следующие столбцы:\n",
    "- `Name` — название игры\n",
    "- `Platform` — платформа\n",
    "- `Year_of_Release` — год выпуска\n",
    "- `Genre` — жанр игры\n",
    "- `NA_sales` — продажи в Северной Америке (миллионы проданных копий)\n",
    "- `EU_sales` — продажи в Европе (миллионы проданных копий)\n",
    "- `JP_sales` — продажи в Японии (миллионы проданных копий)\n",
    "- `Other_sales` — продажи в других странах (миллионы проданных копий)\n",
    "- `Critic_Score` — оценка критиков (максимум 100)\n",
    "- `User_Score` — оценка пользователей (максимум 10)\n",
    "- `Rating` — рейтинг от организации ESRB (англ. Entertainment Software Rating Board). Эта ассоциация определяет рейтинг компьютерных игр и присваивает им подходящую возрастную категорию."
   ]
  },
  {
   "cell_type": "markdown",
   "metadata": {},
   "source": [
    "**Вывод:** По первичному анализу видно, что объем данных относительно небольшой и можно предположить, что это лишь выборка из всей генеральной совокупности или же эти данные представляют собой совокупность данных из разных источников. Заметен большое количество пропусков в столбцах `rating`, `critic_score` и `user_score`. Уже сразу можно сказать, что год выпуска должен иметь тип данных int64, а в таблице он float. Будем с этим разбираться"
   ]
  },
  {
   "cell_type": "markdown",
   "metadata": {},
   "source": [
    "<div class=\"alert alert-info\" В исходной таблице можно заметить следующие столбцы: \n",
    "- `Name` — название игры\n",
    "- `Platform` — платформа\n",
    "- `Year_of_Release` — год выпуска\n",
    "- `Genre` — жанр игры\n",
    "- `NA_sales` — продажи в Северной Америке (миллионы проданных копий)\n",
    "- `EU_sales` — продажи в Европе (миллионы проданных копий)\n",
    "- `JP_sales` — продажи в Японии (миллионы проданных копий)\n",
    "- `Other_sales` — продажи в других странах (миллионы проданных копий)\n",
    "- `Critic_Score` — оценка критиков (максимум 100)\n",
    "- `User_Score` — оценка пользователей (максимум 10)\n",
    "- `Rating` — рейтинг от организации ESRB (англ. Entertainment Software Rating Board). Эта ассоциация определяет рейтинг компьютерных игр и присваивает им подходящую возрастную категорию."
   ]
  },
  {
   "cell_type": "markdown",
   "metadata": {},
   "source": [
    "## Предобработка дынных"
   ]
  },
  {
   "cell_type": "markdown",
   "metadata": {},
   "source": [
    "Просмотрев общую информацию о таблице, да и вообще саму таблицу перед собой постаивл следующие задачи:\n",
    "- 1. Привести название столбцов к нижнему регистру\n",
    "- 2. Поменять тип данных в нескольких столбцах\n",
    "- 3. Обработать дубликаты, явнеы и неявные\n",
    "- 4. Обработать пропуски там, где это возможно"
   ]
  },
  {
   "cell_type": "markdown",
   "metadata": {},
   "source": [
    "### Приведение столбцов к нижнему регистру"
   ]
  },
  {
   "cell_type": "code",
   "execution_count": null,
   "metadata": {},
   "outputs": [],
   "source": [
    "#Приведем названия столбцлв к нижнему регистру\n",
    "df.columns = df.columns.str.lower()\n",
    "df.head()"
   ]
  },
  {
   "cell_type": "markdown",
   "metadata": {},
   "source": [
    "### Обработка дубликатов"
   ]
  },
  {
   "cell_type": "code",
   "execution_count": null,
   "metadata": {},
   "outputs": [],
   "source": [
    "#Проверим наличие дубликатов\n",
    "df.duplicated().sum()"
   ]
  },
  {
   "cell_type": "code",
   "execution_count": null,
   "metadata": {},
   "outputs": [],
   "source": [
    "#Проверим невяные дубликаты в столбце platform\n",
    "df['platform'].unique()"
   ]
  },
  {
   "cell_type": "markdown",
   "metadata": {},
   "source": [
    "**Неявных дубликатов нет**"
   ]
  },
  {
   "cell_type": "code",
   "execution_count": null,
   "metadata": {},
   "outputs": [],
   "source": [
    "df['year_of_release'].sort_values().unique()"
   ]
  },
  {
   "cell_type": "markdown",
   "metadata": {},
   "source": [
    "**Неявных дубликатов нет**"
   ]
  },
  {
   "cell_type": "code",
   "execution_count": null,
   "metadata": {},
   "outputs": [],
   "source": [
    "df[df['name'].duplicated()]"
   ]
  },
  {
   "cell_type": "code",
   "execution_count": null,
   "metadata": {},
   "outputs": [],
   "source": [
    "df[df['name'] == 'Call of Duty: Black Ops']"
   ]
  },
  {
   "cell_type": "markdown",
   "metadata": {},
   "source": [
    "**Заметно, что дубликаты имеются, но это можно объяснить тем, что одна игра выходит на разные платформы. В этом, ничего страшного нет**"
   ]
  },
  {
   "cell_type": "code",
   "execution_count": null,
   "metadata": {},
   "outputs": [],
   "source": [
    "# Код ревьюера\n",
    "df[df[['name', 'platform','year_of_release']].duplicated(keep=False)]"
   ]
  },
  {
   "cell_type": "markdown",
   "metadata": {},
   "source": [
    "### Обработка пропусков"
   ]
  },
  {
   "cell_type": "code",
   "execution_count": null,
   "metadata": {},
   "outputs": [],
   "source": [
    "#Посмотрим на количесвто пропусков\n",
    "df.isna().sum()"
   ]
  },
  {
   "cell_type": "markdown",
   "metadata": {},
   "source": [
    "Смотря на пропуски, есть следующие идеи, как с ними можно справиться:\n",
    "- `name` - пропуски в этом столбце заполнить из имеющихся данных нельзя\n",
    "- `year_of_release` - пропуски здесь можно заполнить таким медианным значением, в зависимости от того, на какой платформе вышла игра. Думаю, это логично, ведь явно для ps4, которая вышла относительно недавно и для приставик 2600, которая вышла в 1977 игры выходили в разное время\n",
    "- `genre` - так как в столбце 'genre' всего два пропуски, то можно найти эти игры и вручную заполнить эти пропуски\n",
    "- `critic_score` - \n",
    "- `user_score` - смущает тот факт, что тип данных здесь object, а не числовой(int или float). Это весьма странно. Сначала разберемся, откуда там строки\n",
    "- `rating` - этот столбец показывает оценку специальной организации. То есть, ни с какими данными рейтинг не имеет взаимосвязь, поэтому, пропуски здесь лучше просто оставить"
   ]
  },
  {
   "cell_type": "markdown",
   "metadata": {},
   "source": [
    "#### Пропуски в `name`"
   ]
  },
  {
   "cell_type": "code",
   "execution_count": null,
   "metadata": {},
   "outputs": [],
   "source": [
    "#Посмотрим на строки, где пропуски есть в столбце 'genre'\n",
    "df[df['genre'].isnull()]"
   ]
  },
  {
   "cell_type": "markdown",
   "metadata": {},
   "source": [
    "Неприятно, что там, где есть пропуски в столбце genre пропуски и в столбце name, следовательно, заполнить пропуски, даже вручную невозможно"
   ]
  },
  {
   "cell_type": "code",
   "execution_count": null,
   "metadata": {},
   "outputs": [],
   "source": [
    "#Так как доля пропусков менее 5%, удалим эти две строки\n",
    "df = df.dropna(subset=['name']).reset_index()"
   ]
  },
  {
   "cell_type": "markdown",
   "metadata": {},
   "source": [
    "#### Пропуски в `year_of_release`"
   ]
  },
  {
   "cell_type": "code",
   "execution_count": null,
   "metadata": {},
   "outputs": [],
   "source": [
    "#Посмотрим в целом на строки, где есть пропуски в столбце 'year_of_release'\n",
    "df['year_of_release'].isna().sum()"
   ]
  },
  {
   "cell_type": "markdown",
   "metadata": {},
   "source": [
    "Доля пропусков в столбце `year_of_release` составляет около 2%. Можно удалить эти строки без потери статистических данных"
   ]
  },
  {
   "cell_type": "code",
   "execution_count": null,
   "metadata": {},
   "outputs": [],
   "source": [
    "df = df.dropna(subset=['year_of_release'])"
   ]
  },
  {
   "cell_type": "code",
   "execution_count": null,
   "metadata": {},
   "outputs": [],
   "source": [
    "#Так как изначально тип данных в этом столбце float64, поменяем его на int64\n",
    "df['year_of_release'] = df['year_of_release'].astype('int')"
   ]
  },
  {
   "cell_type": "markdown",
   "metadata": {},
   "source": [
    "#### Пропуски в `user_score`"
   ]
  },
  {
   "cell_type": "markdown",
   "metadata": {},
   "source": [
    "Далее посмотрим, как распределены ползовательские оценки"
   ]
  },
  {
   "cell_type": "code",
   "execution_count": null,
   "metadata": {},
   "outputs": [],
   "source": [
    "#Посмотрим на распределение пользовательских оценок\n",
    "df['user_score'].value_counts().sort_index(ascending=False).plot(kind='bar',\n",
    "                                                                 figsize=(20, 5),\n",
    "                                                                 grid=True,\n",
    "                                                                title = 'Распределение пользовательских оценок',\n",
    "                                                                xlabel = 'Пользовательская оценка',\n",
    "                                                                 ylabel = 'Количество',\n",
    "                                                                color='r');"
   ]
  },
  {
   "cell_type": "markdown",
   "metadata": {},
   "source": [
    "Большинство оценок приходится на tbd. Вероятнее всего, такие оценки у игр, которые ожидают своего выхода"
   ]
  },
  {
   "cell_type": "code",
   "execution_count": null,
   "metadata": {},
   "outputs": [],
   "source": [
    "#Проверим гипотезу\n",
    "df.query('user_score == \"tbd\"')['year_of_release'].value_counts().sort_index(ascending=False)\\\n",
    ".plot(kind='bar',\n",
    "     grid=True,\n",
    "     color='g');"
   ]
  },
  {
   "cell_type": "markdown",
   "metadata": {},
   "source": [
    "Гипотеза не подтвердилась. Потому что, в случае, если бы значение tbd было бы у игр, у которые еще ожидают релиза, то мы бы наблюдали значение tbd только бы в последнем году(2016)"
   ]
  },
  {
   "cell_type": "markdown",
   "metadata": {},
   "source": [
    "Предположить, что пользовательская оценка взаимосвязана с какими-то данными из таблицы вряд ли может. Из имеющихся данных нельзя сказать, что конкретно влияет на пользовательскюу оценку. Более того,  мы даже не знаем как она расчитана. Можно конечно думать, что пользовательская оценка расчитывается как среднее, но это предположение все равно нам ничего не дает, так как данных о том, какую оценку поставил каждый пользователь у нас нет. Поэтому, можно думать, что tbd означачет, что оценки просто-напросто нет. "
   ]
  },
  {
   "cell_type": "code",
   "execution_count": null,
   "metadata": {},
   "outputs": [],
   "source": [
    "#Проверим, есть ли в user_score занчение 0\n",
    "df[df['user_score'] == '0']"
   ]
  },
  {
   "cell_type": "markdown",
   "metadata": {},
   "source": [
    "Всего одна такая игра. А это значит, что оценка \"0\" может быть. Поэтому, заполним все пропуски и значение tbd на значение 0"
   ]
  },
  {
   "cell_type": "code",
   "execution_count": null,
   "metadata": {},
   "outputs": [],
   "source": [
    "#Заменим значение tbd на 0\n",
    "df.loc[df['user_score'] == 'tbd', 'user_score'] = 0\n",
    "df['user_score'] = df['user_score'].fillna(0)\n",
    "#Поменяем тип данных на float\n",
    "df['user_score'] = df['user_score'].astype('float')"
   ]
  },
  {
   "cell_type": "markdown",
   "metadata": {},
   "source": [
    "#### Пропуски в `critic_score`"
   ]
  },
  {
   "cell_type": "markdown",
   "metadata": {},
   "source": [
    "Пропуски в этом столбце никак не могут быть взаимосвязаны с имеющимимися в таблице данными. Поэтому, просто заменим пропуски 0"
   ]
  },
  {
   "cell_type": "code",
   "execution_count": null,
   "metadata": {},
   "outputs": [],
   "source": [
    "df['critic_score'] = df['critic_score'].fillna(0)"
   ]
  },
  {
   "cell_type": "markdown",
   "metadata": {},
   "source": [
    "#### Пропуски в `rating`"
   ]
  },
  {
   "cell_type": "markdown",
   "metadata": {},
   "source": [
    "Как я уже сказал ранее, то здесь пропуски заполнить нельзя, но и просто оставить None как-то некрасиво. Зная, что существует специальная абреваитура tbd для тех оценок, которых пока нет, заменим пропуски занчение tbd"
   ]
  },
  {
   "cell_type": "markdown",
   "metadata": {},
   "source": [
    "### Добавление нового столбца с суммарными продажами"
   ]
  },
  {
   "cell_type": "code",
   "execution_count": null,
   "metadata": {},
   "outputs": [],
   "source": [
    "df['revenue'] = df['na_sales'] + df['jp_sales'] + df['other_sales'] + df['eu_sales']"
   ]
  },
  {
   "cell_type": "markdown",
   "metadata": {},
   "source": [
    "**Промежуточный вывод:** На этом этапе мною была проведена следующая работа:\n",
    "- 1. Приведение название столбцов к нижнему регистру\n",
    "- 2. Обработаны дубликаты в датафрейме в общем, а также по отдельным столбцам: `name`, `platform`, `year_of_release`\n",
    "- 3. Обработаны пропуски. Пропуски в столбцах `name` и `genre` совпали. Пропуски были всего в двух строках, поэтому эти строки были удалены. В столбце `year_of_release` также содержалось пропусков менее 5%, поэтому эти строки были удалены, а тип данных был изменен на int. В столбце `user_score` значение 'tbd' было заменено на значение \"0\". Пропуски в этом столбце были оставлены и заменены на 0. В столбце `critic_score` аналогичная ситуация, пропуски были оставлены и заменены на значение \"0\". В столбце `rating` пропуски были заменены на значение 'tbd'."
   ]
  },
  {
   "cell_type": "markdown",
   "metadata": {},
   "source": [
    "## Исследовательский анализ данных"
   ]
  },
  {
   "cell_type": "markdown",
   "metadata": {},
   "source": [
    "### Распределение игр по году выпуска"
   ]
  },
  {
   "cell_type": "code",
   "execution_count": null,
   "metadata": {},
   "outputs": [],
   "source": [
    "#Сделаем график распределения\n",
    "df['year_of_release'].value_counts().sort_index().plot(kind='bar', \n",
    "                                                      figsize=(15, 5),\n",
    "                                                      color='r');\n",
    "plt.xlabel('Год', fontsize=18)\n",
    "plt.ylabel('Количество', fontsize=18)\n",
    "plt.title('Распределение игр по годам', fontsize=18)\n",
    "#Добавим вспомогательную линию-медианное значение выхода игр\n",
    "plt.axhline(y=df.groupby('year_of_release')['rating'].agg('count').median(), color='g', \n",
    "            alpha=0.5, linestyle='dashed')\n",
    "#Добавим вспомогательную линию-среднее значение выхода игр\n",
    "plt.axhline(y=df.groupby('year_of_release')['rating'].agg('count').mean(), color='b', \n",
    "            alpha=0.5, linestyle='dashed')\n",
    "plt.legend()\n",
    "plt.show()"
   ]
  },
  {
   "cell_type": "markdown",
   "metadata": {},
   "source": [
    "По графику можно заметить, что большинство игр выходило уже 21 веке, а именно в период с 2007 по 2011 год. Также, можно заметить, что начиная.с 1999 года игр стало выпускать больше, чем среднее значение, а после 2001 уже и больше, чем медианное. Для дальнейшего прогноза, данные до 1997 года можно отбросить, так как они содержат мало информации, а более того, актуальной информации"
   ]
  },
  {
   "cell_type": "markdown",
   "metadata": {},
   "source": [
    "### Самые популярные платформы"
   ]
  },
  {
   "cell_type": "code",
   "execution_count": null,
   "metadata": {},
   "outputs": [],
   "source": [
    "#Посмотрим сколько всего заработала каждаяя платформа\n",
    "df.groupby('platform')['revenue'].sum().sort_values(ascending=False)"
   ]
  },
  {
   "cell_type": "markdown",
   "metadata": {},
   "source": [
    "Среди всех платформ выберем самые популярные из них и посомтрим, как изменялся объем продаж. Выберем поряда 10 платформ"
   ]
  },
  {
   "cell_type": "code",
   "execution_count": null,
   "metadata": {},
   "outputs": [],
   "source": [
    "platform_popular = df.groupby('platform')['revenue'].sum().sort_values(ascending=False)[:13]\n",
    "platform_popular"
   ]
  },
  {
   "cell_type": "markdown",
   "metadata": {},
   "source": [
    "Визуализиурем каждую платформу на едином графике"
   ]
  },
  {
   "cell_type": "code",
   "execution_count": null,
   "metadata": {},
   "outputs": [],
   "source": [
    "color = ['black', 'b', 'g', 'r', 'gold', 'pink', 'brown', 'orchid', \n",
    "         'deepskyblue', 'gray', 'orange', 'palegreen', 'darkcyan']\n",
    "for i in range(0, len(platform_popular)):\n",
    "    diagramm = df.query('platform == @platform_popular.index[@i]').groupby('year_of_release')['revenue'].sum()\n",
    "    diagramm.plot(x=diagramm.index, y=diagramm.values, color=color[i], grid=True, alpha=0.85,\n",
    "             figsize=(15, 5), xlabel='Год', ylabel='Объем продаж', label=platform_popular.index[i])\n",
    "plt.legend(loc='best')\n",
    "plt.title('Распределение самых популярных платформ по продажам')\n",
    "plt.show()"
   ]
  },
  {
   "cell_type": "markdown",
   "metadata": {},
   "source": [
    "У платформы DS две точки до 2005 года: в 1985 и в 2004. Из интернета нашел информацию, что платформа DS появилаьс только в 2004 году. Посмотрим на значение платформы DS до 2004 года и удалим эти данные"
   ]
  },
  {
   "cell_type": "code",
   "execution_count": null,
   "metadata": {},
   "outputs": [],
   "source": [
    "df.query('platform == \"DS\" and year_of_release < 2004')"
   ]
  },
  {
   "cell_type": "code",
   "execution_count": null,
   "metadata": {},
   "outputs": [],
   "source": [
    "df = df.drop(15955).reset_index()"
   ]
  },
  {
   "cell_type": "markdown",
   "metadata": {},
   "source": [
    "Можно заметить, что новые платформы появляются минимум раз в пять лет. После 2000 года инетрес людей к играм подрос и новые платформы стали выпускаться чаще. Около 2-3 в пять лет. Особенно выделяется промежуток от 2005 до 2010 года. За эти пять лет с рынка ушли две платформы(GB и PS) и появилось сразу 3 новые(PS2, XB, GBA)Также заметно, что все платформы имеют свой скачок по объему продаж, после которого виден спад. Заметно, что ни одна платформа не может долго поддерживать высокий уровень продаж. По графику видно, что сейчас, самой актуальной платформой является PS4. Средний жизненный цикл каждой платформы составляет примерно 10 лет. Это заметно на таких платформах как PS2, Wii, PSP, X360, PS, PS3 но есть и те, которых жизненный цикл больше, например, GB, или наоборот меньше чем 10 лет, как например у GBA."
   ]
  },
  {
   "cell_type": "markdown",
   "metadata": {},
   "source": [
    "### Выбор акутального периода"
   ]
  },
  {
   "cell_type": "markdown",
   "metadata": {},
   "source": [
    "По нашему анализу, можно сказать, что за последние 5 лет на рынке представленно большинство различных платформ одновременно. Но стоит учитывать, что индустрия компьютерных игр быстро меняется, поэтому оптимально всего за начало актуального периода взять год, где в одно существует большинство платформ. **Итог: актуальный период считаем с 2012 года**"
   ]
  },
  {
   "cell_type": "code",
   "execution_count": null,
   "metadata": {},
   "outputs": [],
   "source": [
    "df_actual = df.query('year_of_release >= 2012')"
   ]
  },
  {
   "cell_type": "markdown",
   "metadata": {},
   "source": [
    "### Лидеры по продажам"
   ]
  },
  {
   "cell_type": "code",
   "execution_count": null,
   "metadata": {},
   "outputs": [],
   "source": [
    "#Выведем суммарный объем продаж по платформам\n",
    "df_actual.groupby('platform')['revenue'].sum().sort_values(ascending=False)"
   ]
  },
  {
   "cell_type": "code",
   "execution_count": null,
   "metadata": {},
   "outputs": [],
   "source": [
    "#Построим диаграмму\n",
    "df_actual.groupby('platform')['revenue'].sum().sort_values().\\\n",
    "plot(x=df_actual.groupby('platform')['revenue'].sum().index,\n",
    "                                                  y='revenue',\n",
    "                                                   kind='bar',\n",
    "                                                   figsize=(15, 5),\n",
    "                                                   color='g',\n",
    "                                                   grid=True)\n",
    "plt.xlabel('Платформа', fontsize=18)\n",
    "plt.ylabel('Объем продаж', fontsize=18)\n",
    "plt.title('Общий объем продаж платформ', fontsize=18)\n",
    "plt.show()"
   ]
  },
  {
   "cell_type": "markdown",
   "metadata": {},
   "source": [
    "Заметно, что есть 5 явных лидера по общему объему продаж: PS2, DS, Wii, PS3, X360. Теперь посмотрим, как развивался объем продаж у этих платформ с 2012 года"
   ]
  },
  {
   "cell_type": "code",
   "execution_count": null,
   "metadata": {},
   "outputs": [],
   "source": [
    "df_actual_pivot = df_actual.pivot_table(index='year_of_release', columns='platform', values='revenue', aggfunc='sum')\n",
    "df_actual_pivot"
   ]
  },
  {
   "cell_type": "code",
   "execution_count": null,
   "metadata": {},
   "outputs": [],
   "source": [
    "#Есть значения Nan, для удобства, заменим их на 0\n",
    "df_actual_pivot = df_actual_pivot.fillna(0)\n",
    "df_actual_pivot"
   ]
  },
  {
   "cell_type": "code",
   "execution_count": null,
   "metadata": {},
   "outputs": [],
   "source": [
    "color = ['black', 'b', 'g', 'r', 'gold', 'pink', 'brown', 'orchid', \n",
    "         'deepskyblue', 'gray', 'orange']\n",
    "# Построим все столбцы на одном графике\n",
    "df_actual_pivot.plot(figsize=(15, 6),\n",
    "                    color=color)\n",
    "plt.title('Продажи игр по годам', fontsize=18)\n",
    "plt.xlabel('Год', fontsize=18)\n",
    "plt.ylabel('Объем продаж', fontsize=18)\n",
    "plt.legend(title='Платформа', bbox_to_anchor=(1.05, 1), loc='upper left')\n",
    "plt.show()"
   ]
  },
  {
   "cell_type": "markdown",
   "metadata": {},
   "source": [
    "**Вывод:** \n",
    "- Топ-3 лидера по продажам-PS4, X360, PS3. \n",
    "- Сейчас же наибольшую актуальность имеют платформы- PS4, XOne, 3DS. \n",
    "- Заметно, что в среднем, рост продаж одной платформы занимает 1.5-2 года. Дальше идет небольшой спад в объемах продаж"
   ]
  },
  {
   "cell_type": "code",
   "execution_count": null,
   "metadata": {},
   "outputs": [],
   "source": [
    "#Сделаем отедльную таблицу для самых актуальных на текущий день платформ\n",
    "top_platform = df.query('platform == [\"PS4\", \"XOne\", \"3DS\"]')\n",
    "top_platform.head()"
   ]
  },
  {
   "cell_type": "markdown",
   "metadata": {},
   "source": [
    "### Глобальные продажи по играм в разбивке по платформам(возьмем 8 платформ, так как у остальных обхем продаж доваольно таки небольшой)"
   ]
  },
  {
   "cell_type": "code",
   "execution_count": null,
   "metadata": {},
   "outputs": [],
   "source": [
    "df_actual.groupby('platform')['revenue'].sum().sort_values(ascending=False).head(8)"
   ]
  },
  {
   "cell_type": "code",
   "execution_count": null,
   "metadata": {},
   "outputs": [],
   "source": [
    "plt.figure(figsize=(13, 8))\n",
    "sns.boxplot(data=df_actual, y='revenue', x='platform')\n",
    "\n",
    "plt.title('Продажи по перспективным платформам')\n",
    "plt.xlabel('Платформы')\n",
    "plt.ylabel('Общие продажи')\n",
    "plt.ylim(0, 3)\n",
    "\n",
    "plt.show()"
   ]
  },
  {
   "cell_type": "markdown",
   "metadata": {},
   "source": [
    "Заметно, что у топовых платформ уровень продаж очень похож. У четырех платформ: X360, PS4, Wii и XOne близкие медианные значения-около 0.2. Минимальное же медианное значение у платформы PSP. В остальных уже ближе к значению 0.1. Самыми не попродаваемыми платформами можно назвать PSP, PSV, DS и PC. А наоборот самыми продаваемыми можно назвать X360, PS4, SOne, Wii и PS3"
   ]
  },
  {
   "cell_type": "code",
   "execution_count": null,
   "metadata": {},
   "outputs": [],
   "source": [
    "# Код ревьюера\n",
    "\n",
    "\n",
    "import matplotlib.pyplot as plt\n",
    "import seaborn as sns\n",
    "\n",
    "plt.figure(figsize=(13, 8))\n",
    "sns.boxplot(data=df_actual, y='revenue', x='platform')\n",
    "\n",
    "plt.title('Продажи по перспективным платформам')\n",
    "plt.xlabel('Платформы')\n",
    "plt.ylabel('Общие продажи')\n",
    "plt.ylim(0, 3)\n",
    "\n",
    "plt.show()"
   ]
  },
  {
   "cell_type": "markdown",
   "metadata": {},
   "source": [
    "### Влияние отзывов на продажи"
   ]
  },
  {
   "cell_type": "markdown",
   "metadata": {},
   "source": [
    "По графикам и таблицам мы успели заметить, что самой популярной и акутальной платформой сейчас является X360, следовательно и на ее примере логичнее всего арссматривать влияние оценок"
   ]
  },
  {
   "cell_type": "markdown",
   "metadata": {},
   "source": [
    "#### Влияние оценок критиков на платформу X360"
   ]
  },
  {
   "cell_type": "code",
   "execution_count": null,
   "metadata": {},
   "outputs": [],
   "source": [
    "#Для удобства сделаем отдельную таблицу\n",
    "x360_score = df_actual.query('platform == \"X360\" and critic_score != 0 and user_score != 0')\\\n",
    "[['revenue', 'critic_score', 'user_score']]\n",
    "x360_score.head(3)"
   ]
  },
  {
   "cell_type": "code",
   "execution_count": null,
   "metadata": {},
   "outputs": [],
   "source": [
    "x360_score.corr()"
   ]
  },
  {
   "cell_type": "code",
   "execution_count": null,
   "metadata": {},
   "outputs": [],
   "source": [
    "print('Коэффициент корелляции равен', x360_score.corr().loc['revenue', 'critic_score'])\n",
    "x360_score.plot(kind='scatter',\n",
    "               x='critic_score',\n",
    "               y='revenue',\n",
    "               figsize=(16, 5));\n",
    "plt.title('Влияние оценок критиков на продажи',fontsize=13)\n",
    "plt.xlabel('Оценка критиков', fontsize=13)\n",
    "plt.ylabel('Продажи', fontsize=13)\n",
    "plt.show()"
   ]
  },
  {
   "cell_type": "markdown",
   "metadata": {},
   "source": [
    "#### Влияние пользовательских оценок на продажи"
   ]
  },
  {
   "cell_type": "code",
   "execution_count": null,
   "metadata": {},
   "outputs": [],
   "source": [
    "print('Коэффициент корелляции равен', x360_score.corr().loc['revenue', 'user_score'])\n",
    "x360_score.plot(kind='scatter',\n",
    "               x='user_score',\n",
    "               y='revenue',\n",
    "               figsize=(16, 5));\n",
    "plt.title('Влияние пользовательских оценок на продажи', fontsize=13)\n",
    "plt.xlabel('Оценка пользователей', fontsize=13)\n",
    "plt.ylabel('Продажи', fontsize=13)\n",
    "plt.show()"
   ]
  },
  {
   "cell_type": "markdown",
   "metadata": {},
   "source": [
    "По этим двум графикам видно, что оценка критиков оказывает больше влияние на продажи, нежели пользовательские оценки. Хоть, оценки критиков не оцень сильно влияют,  я бы сказал средне. Зависимость между продажи и оценками пользователями почти отсутсвует. "
   ]
  },
  {
   "cell_type": "markdown",
   "metadata": {},
   "source": [
    "### Влияние оценок на другие платформы"
   ]
  },
  {
   "cell_type": "markdown",
   "metadata": {},
   "source": [
    "Если опираться на предыдущие исследования и брать анализ влияние оценок на продажи X360 за основу, то можно сказать, что корелляция будет не сильно отличаться на других платформах. Предполагаю, что будет похожая зависимость(относительная малая), но с тем, что оценки критиков все же оказывают немного большее влияние, нежели оценки пользователей"
   ]
  },
  {
   "cell_type": "code",
   "execution_count": null,
   "metadata": {},
   "outputs": [],
   "source": [
    "df_actual['platform'].unique()"
   ]
  },
  {
   "cell_type": "code",
   "execution_count": null,
   "metadata": {},
   "outputs": [],
   "source": [
    "ax1 = df_actual.query('platform == \"Wii\" and critic_score != 0 and user_score != 0')\\\n",
    "[['revenue', 'critic_score', 'user_score']].plot(kind='scatter',\n",
    "                                                x='user_score',\n",
    "                                                y='revenue',\n",
    "                                                figsize=(16, 5),\n",
    "                                                color='b',\n",
    "                                                alpha=0.7,\n",
    "                                                label='Wii')\n",
    "ax2 = df_actual.query('platform == \"PS3\" and critic_score != 0 and user_score != 0')\\\n",
    "[['revenue', 'critic_score', 'user_score']].plot(kind='scatter',\n",
    "                                                x='user_score',\n",
    "                                                y='revenue',\n",
    "                                                figsize=(16, 5),\n",
    "                                                color='g',\n",
    "                                                ax=ax1,\n",
    "                                                alpha=0.7,\n",
    "                                                label='PS3')\n",
    "ax3 = df_actual.query('platform == \"PS4\" and critic_score != 0 and user_score != 0')\\\n",
    "[['revenue', 'critic_score', 'user_score']].plot(kind='scatter',\n",
    "                                                x='user_score',\n",
    "                                                y='revenue',\n",
    "                                                figsize=(16, 5),\n",
    "                                                ax=ax2,\n",
    "                                                color='r',\n",
    "                                                alpha=0.7,\n",
    "                                                label='PS4')\n",
    "ax4 = df_actual.query('platform == \"3DS\" and critic_score != 0 and user_score != 0')\\\n",
    "[['revenue', 'critic_score', 'user_score']].plot(kind='scatter',\n",
    "                                                x='user_score',\n",
    "                                                y='revenue',\n",
    "                                                figsize=(16, 5),\n",
    "                                                color='black',\n",
    "                                                ax=ax3,\n",
    "                                                alpha=0.7,\n",
    "                                                label='3DS')\n",
    "ax5 = df_actual.query('platform == \"XOne\" and critic_score != 0 and user_score != 0')\\\n",
    "[['revenue', 'critic_score', 'user_score']].plot(kind='scatter',\n",
    "                                                x='user_score',\n",
    "                                                y='revenue',\n",
    "                                                figsize=(16, 5),\n",
    "                                                color='orange',\n",
    "                                                ax=ax4,\n",
    "                                                alpha=0.7,\n",
    "                                                label='XOne')\n",
    "df_actual.query('platform == \"PC\" and critic_score != 0 and user_score != 0')\\\n",
    "[['revenue', 'critic_score', 'user_score']].plot(kind='scatter',\n",
    "                                                x='user_score',\n",
    "                                                y='revenue',\n",
    "                                                figsize=(16, 5),\n",
    "                                                color='pink',\n",
    "                                                ax=ax5,\n",
    "                                                alpha=0.7,\n",
    "                                                label='PC');\n",
    "plt.title('Влияние пользовательских оценок на продажи 6 платформ', fontsize=13)\n",
    "plt.xlabel('Пользовательская оценка', fontsize=13)\n",
    "plt.ylabel('Объем продаж', fontsize=13)\n",
    "plt.show()\n",
    "for i in ['Wii', 'PS3', 'PS4', '3DS', 'XOne', 'PC']:\n",
    "    print(f'Коэффициент корелляции платформы {i} равен', df_actual.\n",
    "                query('platform == @i and critic_score != 0 and user_score != 0')\\\n",
    "[['revenue', 'critic_score', 'user_score']].corr().loc['revenue', 'user_score'])"
   ]
  },
  {
   "cell_type": "code",
   "execution_count": null,
   "metadata": {},
   "outputs": [],
   "source": [
    "ax1 = df_actual.query('platform == \"Wii\" and critic_score != 0 and user_score != 0')\\\n",
    "[['revenue', 'critic_score', 'user_score']].plot(kind='scatter',\n",
    "                                                x='critic_score',\n",
    "                                                y='revenue',\n",
    "                                                figsize=(16, 5),\n",
    "                                                color='b',\n",
    "                                                alpha=0.7,\n",
    "                                                label='Wii')\n",
    "ax2 = df_actual.query('platform == \"PS3\" and critic_score != 0 and user_score != 0')\\\n",
    "[['revenue', 'critic_score', 'user_score']].plot(kind='scatter',\n",
    "                                                x='critic_score',\n",
    "                                                y='revenue',\n",
    "                                                figsize=(16, 5),\n",
    "                                                color='g',\n",
    "                                                ax=ax1,\n",
    "                                                alpha=0.7,\n",
    "                                                label='PS3')\n",
    "ax3 = df_actual.query('platform == \"PS4\" and critic_score != 0 and user_score != 0')\\\n",
    "[['revenue', 'critic_score', 'user_score']].plot(kind='scatter',\n",
    "                                                x='critic_score',\n",
    "                                                y='revenue',\n",
    "                                                figsize=(16, 5),\n",
    "                                                ax=ax2,\n",
    "                                                color='r',\n",
    "                                                alpha=0.7,\n",
    "                                                label='PS4')\n",
    "ax4 = df_actual.query('platform == \"3DS\" and critic_score != 0 and user_score != 0')\\\n",
    "[['revenue', 'critic_score', 'user_score']].plot(kind='scatter',\n",
    "                                                x='critic_score',\n",
    "                                                y='revenue',\n",
    "                                                figsize=(16, 5),\n",
    "                                                color='black',\n",
    "                                                ax=ax3,\n",
    "                                                alpha=0.7,\n",
    "                                                label='3DS')\n",
    "ax5 = df_actual.query('platform == \"XOne\" and critic_score != 0 and user_score != 0')\\\n",
    "[['revenue', 'critic_score', 'user_score']].plot(kind='scatter',\n",
    "                                                x='critic_score',\n",
    "                                                y='revenue',\n",
    "                                                figsize=(16, 5),\n",
    "                                                color='orange',\n",
    "                                                ax=ax4,\n",
    "                                                alpha=0.7,\n",
    "                                                label='XOne')\n",
    "df_actual.query('platform == \"PC\" and critic_score != 0 and user_score != 0')\\\n",
    "[['revenue', 'critic_score', 'user_score']].plot(kind='scatter',\n",
    "                                                x='critic_score',\n",
    "                                                y='revenue',\n",
    "                                                figsize=(16, 5),\n",
    "                                                color='pink',\n",
    "                                                ax=ax5,\n",
    "                                                alpha=0.7,\n",
    "                                                label='PC');\n",
    "plt.title('Влияние пользовательских оценок на продажи 6 платформ', fontsize=13)\n",
    "plt.xlabel('Пользовательская оценка', fontsize=13)\n",
    "plt.ylabel('Объем продаж', fontsize=13)\n",
    "plt.show()\n",
    "for i in ['Wii', 'PS3', 'PS4', '3DS', 'XOne', 'PC']:\n",
    "    print(f'Коэффициент корелляции платформы {i} равен', df_actual.\n",
    "                query('platform == @i and critic_score != 0 and user_score != 0')\\\n",
    "[['revenue', 'critic_score', 'user_score']].corr().loc['revenue', 'critic_score'])"
   ]
  },
  {
   "cell_type": "markdown",
   "metadata": {},
   "source": [
    "**Вывод:** Общая закономерность понятно. Оценки не очень сильно влияют на продажи, но все же оценки критиков оказывают немного большее влияние, нежели оценки пользователей. Исключения тоже бывают. Из рассматренных мною 6 платформа Wii, которая имеют отрицательную зависимость оценок пользователей от объема продаж. "
   ]
  },
  {
   "cell_type": "markdown",
   "metadata": {},
   "source": [
    "### Распределение игр по жанрам"
   ]
  },
  {
   "cell_type": "code",
   "execution_count": null,
   "metadata": {},
   "outputs": [],
   "source": [
    "df_actual.value_counts('genre')"
   ]
  },
  {
   "cell_type": "code",
   "execution_count": null,
   "metadata": {},
   "outputs": [],
   "source": [
    "ax = df_actual.groupby('genre')['revenue'].median().plot(kind='bar',\n",
    "                                                         color='orange',\n",
    "                                                         figsize=(16, 6),\n",
    "                                                         label='Медианные продажи')\n",
    "ax1 = df_actual.groupby('genre')['revenue'].median().plot(color='b',\n",
    "                                                          figsize=(16, 6),\n",
    "                                                          ax=ax,\n",
    "                                                          alpha=0.4,\n",
    "                                                          label='Медианные продажи')\n",
    "ax2 = df_actual.groupby('genre')['revenue'].mean().plot(kind='bar',\n",
    "                                                        color='pink',\n",
    "                                                        figsize=(16, 6),\n",
    "                                                        ax=ax1, \n",
    "                                                        alpha=0.5,\n",
    "                                                       label='Средние продажи')\n",
    "df_actual.groupby('genre')['revenue'].mean().plot(color='r',\n",
    "                                                  figsize=(16, 6),\n",
    "                                                  ax=ax2,\n",
    "                                                  alpha=0.4,\n",
    "                                                  label='Средние продажи')\n",
    "plt.title('Распределение игр по жанрам', fontsize=13)\n",
    "plt.xlabel('Жанр', fontsize=13)\n",
    "plt.ylabel('Объем', fontsize=13)\n",
    "plt.legend()\n",
    "plt.show()"
   ]
  },
  {
   "cell_type": "markdown",
   "metadata": {},
   "source": [
    "**Вывод:** Анализируя график можно понять, что лидером по продажам являются игры жанра шутера. На втором месте идут платформенные игры, а на третьем спортивные игры. Самые низкопродаваемыми играми являются приключения, пазды и стратегии"
   ]
  },
  {
   "cell_type": "markdown",
   "metadata": {},
   "source": [
    "## Портрет пользователя каждого региона"
   ]
  },
  {
   "cell_type": "markdown",
   "metadata": {},
   "source": [
    "### Самые популярные платформы в регионах"
   ]
  },
  {
   "cell_type": "code",
   "execution_count": null,
   "metadata": {},
   "outputs": [],
   "source": [
    "#Создадим три таблицы, для каждого региона\n",
    "na_platform = pd.DataFrame({'na_sales' : df_actual.groupby('platform')['na_sales'].sum().sort_values\\\n",
    "                            (ascending=False)})\n",
    "eu_platform = pd.DataFrame({'eu_sales' : df_actual.groupby('platform')['eu_sales'].sum().sort_values\\\n",
    "                            (ascending=False)})\n",
    "jp_platform = pd.DataFrame({'jp_sales' : df_actual.groupby('platform')['jp_sales'].sum().sort_values\\\n",
    "                            (ascending=False)})\n",
    "\n",
    "display(na_platform.head())\n",
    "display(eu_platform.head())\n",
    "display(jp_platform.head())"
   ]
  },
  {
   "cell_type": "code",
   "execution_count": null,
   "metadata": {},
   "outputs": [],
   "source": [
    "plt.figure(figsize=(17, 5))\n",
    "plt.subplot(131)\n",
    "#Веберем 5 платформ по продажам и построим три круговые диаграммы для каждого региона\n",
    "#Диаграмма для Северной Америки\n",
    "na_platform['na_sales'].head(5).plot(kind='pie',\n",
    "                         legend=False,\n",
    "                         autopct='%1.1f%%',\n",
    "                         explode=[0.12, 0.1, 0.1, 0.05, 0],\n",
    "                        shadow=True)\n",
    "plt.title('Доля платформ в Северной Америке')\n",
    "\n",
    "#Диаграмма для Европы\n",
    "plt.subplot(132)\n",
    "eu_platform['eu_sales'].head(5).plot(kind='pie',\n",
    "                         legend=False,\n",
    "                         autopct='%1.1f%%',\n",
    "                         explode=[0.12, 0.1, 0.1, 0.05, 0],\n",
    "                        shadow=True)\n",
    "plt.title('Доля платформ в Европе')\n",
    "\n",
    "#Диаграмма для Японии\n",
    "plt.subplot(133)\n",
    "jp_platform['jp_sales'].head(5).plot(kind='pie',\n",
    "                         legend=False,\n",
    "                         autopct='%1.1f%%',\n",
    "                         explode=[0.12, 0.1, 0.1, 0.05, 0],\n",
    "                        shadow=True)\n",
    "plt.title('Доля платформ в Японии')\n",
    "plt.show()"
   ]
  },
  {
   "cell_type": "markdown",
   "metadata": {},
   "source": [
    "По графикам заметно, что в Америке самая популярная платформа-X360, в Европе-PS4, в Японии-3DS. Можно заметить, что игроки в Америке и в Европе больше всего отдают предпочтение 4 платформам-X360, PS3, PS4 и XOne. В Японии же другая ситуация. Лидирующие платформы-3DS, PS3, PSV. Также, PS3-платформа, которая пользуются большой популярностью во всех трех регионах"
   ]
  },
  {
   "cell_type": "markdown",
   "metadata": {},
   "source": [
    "### Самые популярные жанры в регионах"
   ]
  },
  {
   "cell_type": "code",
   "execution_count": null,
   "metadata": {},
   "outputs": [],
   "source": [
    "#Создадим три таблицы, для каждого региона\n",
    "na_genre = pd.DataFrame({'na_sales' : df_actual.groupby('genre')['na_sales'].sum().sort_values\\\n",
    "                            (ascending=False)})\n",
    "eu_genre = pd.DataFrame({'eu_sales' : df_actual.groupby('genre')['eu_sales'].sum().sort_values\\\n",
    "                            (ascending=False)})\n",
    "jp_genre = pd.DataFrame({'jp_sales' : df_actual.groupby('genre')['jp_sales'].sum().sort_values\\\n",
    "                            (ascending=False)})\n",
    "\n",
    "na_genre.head(), eu_genre.head(), jp_genre.head()"
   ]
  },
  {
   "cell_type": "code",
   "execution_count": null,
   "metadata": {},
   "outputs": [],
   "source": [
    "plt.figure(figsize=(17, 5))\n",
    "plt.subplot(131)\n",
    "#Веберем 5 платформ по продажам и построим три круговые диаграммы для каждого региона\n",
    "#Диаграмма для Северной Америки\n",
    "na_genre['na_sales'].head(5).plot(kind='pie',\n",
    "                         legend=False,\n",
    "                         autopct='%1.1f%%',\n",
    "                         explode=[0.12, 0.1, 0.1, 0.05, 0],\n",
    "                         shadow=True)\n",
    "plt.title('Доля жанров в Северной Америке')\n",
    "\n",
    "#Диаграмма для Европы\n",
    "plt.subplot(132)\n",
    "eu_genre['eu_sales'].head(5).plot(kind='pie',\n",
    "                         legend=False,\n",
    "                         autopct='%1.1f%%',\n",
    "                         explode=[0.12, 0.1, 0.1, 0.05, 0],\n",
    "                         shadow=True)\n",
    "plt.title('Доля жанров в Европе')\n",
    "\n",
    "#Диаграмма для Японии\n",
    "plt.subplot(133)\n",
    "jp_genre['jp_sales'].head(5).plot(kind='pie',\n",
    "                         legend=False,\n",
    "                         autopct='%1.1f%%',\n",
    "                         explode=[0.12, 0.1, 0.1, 0.05, 0],\n",
    "                         shadow=True)\n",
    "plt.title('Доля жанров в Японии')\n",
    "plt.show()"
   ]
  },
  {
   "cell_type": "markdown",
   "metadata": {},
   "source": [
    "По графикам видно, что боевики-самые популярные жанры в Европе и Америке. В Японии же лидируют ролевые игры. В Америке и Европе и вовсе видно, что пользователи предпочитают одни и те же жанры игр, отличие есть только в том, что в Европе немного больше предпочитают гонки. В Японии же в большинстве своем выделяются ролевые игры. "
   ]
  },
  {
   "cell_type": "markdown",
   "metadata": {},
   "source": [
    "### Влияние рейтинга ESRB на продажи в регионах"
   ]
  },
  {
   "cell_type": "code",
   "execution_count": null,
   "metadata": {},
   "outputs": [],
   "source": [
    "#Выведем таблицу рейтинга и объема продаж в каждом регионе\n",
    "display(df_actual.groupby('rating')[['na_sales', 'jp_sales', 'eu_sales']].sum()\\\n",
    "        .sort_values(by='na_sales', ascending=False))\n",
    "#Посмотрим отдельно на таблицу, где неопределенного рейтинга нет\n",
    "display(df_actual.query('rating != \"tbd\"').groupby('rating')[['na_sales', 'jp_sales', 'eu_sales']].sum()\\\n",
    "        .sort_values(by='na_sales', ascending=False))"
   ]
  },
  {
   "cell_type": "markdown",
   "metadata": {},
   "source": [
    "Можно выделить 4 самых популярных рейтинга для всех регионов: E, M, T, E10+. Влияние рейтинга во всех регионах примерна одинакова. Заметно только то, что в Японии игр с рейтингом T и E больше, чем с рейтингом M, в отличие от других регионов. А так, влияние примерно одинаковое.\n",
    "\n",
    "Также можно заметить, что большой объем продаж у игр без рейтинга. Можно предположить, что достаточно много игр, у которых маленький объем продаж и которые не получили рейтинга от ESRB. И таким образом образуется большой объем продаж таких игр из-за их большого количества"
   ]
  },
  {
   "cell_type": "markdown",
   "metadata": {},
   "source": [
    "## Проверка гипотез"
   ]
  },
  {
   "cell_type": "markdown",
   "metadata": {},
   "source": [
    "### Гипотеза первая : \"Средние пользовательские рейтинги платформ Xbox One и PC одинаковые\" "
   ]
  },
  {
   "cell_type": "code",
   "execution_count": null,
   "metadata": {},
   "outputs": [],
   "source": [
    "#Создадим отдельную табличку для удобства\n",
    "xbox_pc_user_score = df_actual.query('(platform == \"XOne\") or (platform == \"PC\")')\n",
    "xbox_pc_user_score.head()"
   ]
  },
  {
   "cell_type": "markdown",
   "metadata": {},
   "source": [
    "- **Нулевая гипотеза:** Средняя пользовательская оценка игр на платформе Xbox One равна средней пользовательской оценке игр на платформе PC\n",
    "- **Алтернативная гипотеза:** Средняя пользовательская оценка игр на платформе Xbox One не равна средней пользовательской оценке игр на платформе PC"
   ]
  },
  {
   "cell_type": "code",
   "execution_count": null,
   "metadata": {},
   "outputs": [],
   "source": [
    "#Выведем средние оценки для двух платформ\n",
    "print('Срднее значение выборки:', xbox_pc_user_score.query('platform == \"XOne\" and user_score != 0')\\\n",
    "      ['user_score'].mean())\n",
    "print('Срднее значение выборки:', xbox_pc_user_score.query('platform == \"PC\" and user_score != 0')\\\n",
    "      ['user_score'].mean())\n",
    "results = st.ttest_ind(xbox_pc_user_score.query('platform == \"XOne\" and user_score != 0')['user_score'],\n",
    "                      xbox_pc_user_score.query('platform == \"PC\" and user_score != 0')['user_score'])\n",
    "#Зададим уровень статистической значиомсти\n",
    "alpha = 0.05\n",
    "print('p-value', results.pvalue)\n",
    "if results.pvalue < alpha:\n",
    "    print('Отвергаем гипотезу')\n",
    "else:\n",
    "    print('Не отвергаем гипотезу')"
   ]
  },
  {
   "cell_type": "markdown",
   "metadata": {},
   "source": [
    "По такоум анализу, можно понять, что в действительности, средняя пользвоательская оценка игра на Xbox One  равна средней пользовательской оценке игр на PC. Более того, посчитав среднее знаечние видно, что средние оценки почти не отличаются. Есть основания не отвергать нулевую гипотезу"
   ]
  },
  {
   "cell_type": "markdown",
   "metadata": {},
   "source": [
    "### Вторая гипотеза: Средние пользовательские рейтинги жанров Action и Sports  разные."
   ]
  },
  {
   "cell_type": "markdown",
   "metadata": {},
   "source": [
    "- **Нулевая гипотеза:** Средняя пользовательская оценка игр с жанром \"спорт\"  равна средней пользвоательской оценке игр с жанром \"боевик\"\n",
    "- **Альтернативная гипотеза:** Средняя пользовательская оценка игр с жанром \"спорт\" не равна средней пользвоательской оценке игр с жанром \"боевик\""
   ]
  },
  {
   "cell_type": "code",
   "execution_count": null,
   "metadata": {},
   "outputs": [],
   "source": [
    "#Для удобства сделаем отдельную табличку\n",
    "genre_user_score = df_actual.query('(genre == \"Sports\") or (genre == \"Action\")')\n",
    "genre_user_score.head()"
   ]
  },
  {
   "cell_type": "code",
   "execution_count": null,
   "metadata": {},
   "outputs": [],
   "source": [
    "#Выведем средние оценки для двух жанров\n",
    "print('Срднее значение выборки:', genre_user_score.query('genre == \"Sports\" and user_score != 0')\\\n",
    "      ['user_score'].mean())\n",
    "print('Срднее значение выборки:', genre_user_score.query('genre == \"Action\" and user_score != 0')\\\n",
    "      ['user_score'].mean())\n",
    "results = st.ttest_ind(genre_user_score.query('genre == \"Sports\" and user_score != 0')['user_score'],\n",
    "                      genre_user_score.query('genre == \"Action\" and user_score != 0')['user_score'])\n",
    "#Зададим уровень статистической значиомсти\n",
    "alpha = 0.05\n",
    "print('p-value', results.pvalue)\n",
    "if results.pvalue < alpha:\n",
    "    print('Отвергаем гипотезу')\n",
    "else:\n",
    "    print('Не отвергаем гипотезу')"
   ]
  },
  {
   "cell_type": "markdown",
   "metadata": {},
   "source": [
    "По такому анализу можно понять, что среднияя пользовательская оценка спортивных игр  отличается от боевиков. А это значит, что есть основания отвергнуть гипотезу о равенстве средних оценок и склоняться к равенству этих оценок"
   ]
  },
  {
   "cell_type": "markdown",
   "metadata": {},
   "source": [
    "## Общий вывод"
   ]
  },
  {
   "cell_type": "markdown",
   "metadata": {},
   "source": [
    "Сделанный мною проект можно разделить на 5 этапов:\n",
    "1. **Загрузка данных**\n",
    "- На этом этапе мною были загружены данные, сделан первичный осмотр данных и описание данных в таблице. Сразу же были обнаружены проблемы с названиями столбцов и пропусками в данных.\n",
    "\n",
    "2. **Предобработка данных**\n",
    "- На этом этапы мною была сделана следующая работа:\n",
    "  - 1) Приведены название столбцов к нижнему регистру\n",
    "  - 2) Проверены дубликаты. Далее проверил дубликаты опираясь на конкретные столбцы. А именно, `name`, `year_of_release` и `genre`. Были обнаружены дубликаты по названию игру, но тому нашлось объяснение: одна игра может выпускаться сразу для нескольких платформ\n",
    "  - 3) Обработаны пропуски в столбцах `year_of_release`, `user_score`, `name`, `critic_score` и `rating`. В столбце `year_of_release` доля пропусков составляла около 3%, поэтому эти данные были удалены. В столбце `name` пропуски были всего лишь в 2 строках, поэтому удалил их без влияния на дальнейший анализ. В столбце `user_score` заменил значение 'tbd' на значение 0, а также заменил пропуски значением 0. Аналогично сделал и в столбце `critic_score`. В столбце `rating` заполнил пропуски значением 'tbd'.\n",
    "  - 4) Добавлен в таблицу нвоый столбец `revenue` с суммарной прибылью игру со всех регионов\n",
    "\n",
    "3. **Исследовательский анализ**\n",
    "- На этом этапе я исследовал распределение игр по году выпуска, самые популярные платформы, анализировал лидеров по продажам, а также глобальные продажи по играм в разбивке по платформам. Также исследовал влиятие оценок пользователей и критиков на продажи и исследовал распределение игр по жанрам \n",
    "  - 1) Распределение игр по году выпуска. Болльшинство игр вышло в период с 2002 по 2012 год. Пик выхода игр наблюдался в 2008 году, после же есть спад до 2014 года\n",
    "  - 2) Распределение самых популярных платформ. За все время самыми популярными платформами являлись PS2, X360 и PS3. Средний жизненный цикл каждой платформы составляет примерно 10 лет. Примерно в 5 лет появялется около 2-3 платформ. Уходят же платформы с рынка реже\n",
    "  - 3) Выбор актуального периода. За последние 5 лет на рынке представленно большинство различных платформ одновременно. Но стоит учитывать, что индустрия компьютерных игр быстро меняется, поэтому оптимально всего за начало актуального периода взял год, где в одно существует большинство платформ-с 2012 года\n",
    "  - 4) Лидеры по продажам. С 2012 года лидером по продажам являлась платформа PS4, с объеммо продаж больше 300 миллионов. Дальше же шли PS3 и X360, с объемомо продаж около 250 миллионов. Пик продаж заметен в период с 2013 по 2015 год\n",
    "  - 5) Глобальные продажи по играм в разбивке по платформам. У топовых платформ уровень продаж очень похож. У четырех платформ: X360, PS3, WiiU и PS2 близкие медианные значения-около 0.2. Минимальное же медианное значение у платформы PC. В остальных уже ближе к значению 0.1. У PSP, 3DS и PC большинство продаж находятся до значения в 1 млн. А у  PS2, PS4, PS3, WiiU и X360 мало значений до 1млн, следовательно, он гораздо выше.\n",
    "  - 6) Влияние отзывов на продажи. Взяв за ориентир платформу X360 выяснилось, что оценки критиков и пользователей не сильно влияют на объемы продаж. Но все же, большее влияние оказывают именно оценки критиков, с корелляцией около 0.3. Анализируя другие 6 платформ зависимость сохранилась. Исключением стала платформа Wii, которая имеет отрицательную зависимость оценок пользователей от объема продаж. \n",
    "  - 7) Распределение игр по жанрам. Лидером по продажам являются игры жанра шутера, с медианным значением продаж в 0.5 миллионов и среднем в 1.2млн. На втором месте идут платформенные игры, а на третьем спортивные игры. Самые низкопродаваемыми играми являются приключения, пазлы и стратегии, с медианными значениеями продаж меньше 0.1 млн и средним значением продаж чуть больше 0.1млн.\n",
    "\n",
    "4. **Составление портета пользователя**\n",
    "- На этом этапе я разбил таблицу по регионам(Северная Америка, Япония и Европа) и исследовал самые популярные платформы, жанры и влияние рейтинга ESRB на продажи в каждом регионе.\n",
    "  - Самыми популярными платформами в Америке, Европе и Японии являются X360(35%), PS4(34%) и 3DS(51%), соответсвенно. Платформа PS3 пользуется большой популярностью во всех трех регионах, около 22% пользователей во всех регионах предпочитают именно эту платформу\n",
    "  - Самыми популярными жанрами в Америке и Европе являются боевики(36%), в Японии предпочитают ролевые игры(43%). В целом, в Америке и Европе пользователи предпочитают одни и те же жанры: боевики, шутеры, спортивные и ролевые игры. В Японии предпочтения уходят ролевым играм, симуляторам и дракам\n",
    "  - Влияние рейтинга ESRB на продажи по регионам. Можно выделить 4 самых популярных рейтинга для всех регионов: E, M, T, E10+. Влияние рейтинга во всех регионах примерна одинакова. Заметно только то, что в Японии игр с рейтингом T и E больше, чем с рейтингом M, в отличие от других регионов. А так, влияние примерно одинаковое. Также большой объем продаж у игр без рейтинга. Можно предположить, что достаточно много игр, у которых маленький объем продаж и которые не получили рейтинга от ESRB. И таким образом образуется большой объем продаж таких игр из-за их большого количества\n",
    "\n",
    "5. **Проверка гипотез**\n",
    "- Перед собой я поставил две гипотезы: 1) Средние пользовательские рейтинги платформ Xbox One и PC одинаковые, 2) Средние пользовательские рейтинги жанров Action и Sports разные. Первая гипотеза не была отвергнута. Анализ показал, что средние оценки равны. выведя значения на экран я убедился, что у платформы Xbox One средняя оценка составляет 6.52, а у PC 6.42, что почти одинаково. Вторая гипотеза тоже не была отвергнута. Средняя пользовательская оценка боевиком примерно равна 5.45, в то время как у спортивных игр средняя пользовательская оценка примерно равна 6.82. Разница больше 1 балла. Это дает нам оснвоание полагать, что оценки разные."
   ]
  },
  {
   "cell_type": "markdown",
   "metadata": {},
   "source": [
    "<b>Комментарий студента</b> \n",
    "    \n",
    "Спасибо за работу, за то, что подправлял мои ошибки. По первому спринту мне в принципе все понятно, но парочка вопросов у меня есть.\n",
    "\n",
    "1. Где можно почитать про циклы для датафреймов. В большинстве проектов, когда пытался что-то циклом сделать выдавало ошибку 'The truth value of a Series is ambiguous. Use a.empty, a.bool(), a.item(), a.any() or a.all().'. Вот хотел бы узнать именно про циклы в таблицах\n",
    "\n",
    "</div>"
   ]
  },
  {
   "cell_type": "code",
   "execution_count": null,
   "metadata": {},
   "outputs": [],
   "source": []
  }
 ],
 "metadata": {
  "ExecuteTimeLog": [
   {
    "duration": 423,
    "start_time": "2024-08-07T10:24:33.274Z"
   },
   {
    "duration": 203,
    "start_time": "2024-08-07T10:25:33.461Z"
   },
   {
    "duration": 63,
    "start_time": "2024-08-07T10:25:38.105Z"
   },
   {
    "duration": 64,
    "start_time": "2024-08-07T10:25:49.462Z"
   },
   {
    "duration": 76,
    "start_time": "2024-08-07T10:26:00.095Z"
   },
   {
    "duration": 63,
    "start_time": "2024-08-07T10:37:26.062Z"
   },
   {
    "duration": 4,
    "start_time": "2024-08-07T10:37:29.334Z"
   },
   {
    "duration": 7,
    "start_time": "2024-08-07T10:37:35.071Z"
   },
   {
    "duration": 6,
    "start_time": "2024-08-07T10:37:39.806Z"
   },
   {
    "duration": 5,
    "start_time": "2024-08-07T10:39:38.335Z"
   },
   {
    "duration": 4,
    "start_time": "2024-08-07T10:39:48.994Z"
   },
   {
    "duration": 6,
    "start_time": "2024-08-07T10:39:54.814Z"
   },
   {
    "duration": 6,
    "start_time": "2024-08-07T10:39:59.952Z"
   },
   {
    "duration": 7,
    "start_time": "2024-08-07T10:40:11.531Z"
   },
   {
    "duration": 6,
    "start_time": "2024-08-07T10:40:19.757Z"
   },
   {
    "duration": 8,
    "start_time": "2024-08-07T10:40:23.503Z"
   },
   {
    "duration": 6,
    "start_time": "2024-08-07T10:40:29.012Z"
   },
   {
    "duration": 6,
    "start_time": "2024-08-07T10:40:42.945Z"
   },
   {
    "duration": 6,
    "start_time": "2024-08-07T10:41:36.345Z"
   },
   {
    "duration": 2,
    "start_time": "2024-08-07T10:44:37.531Z"
   },
   {
    "duration": 7,
    "start_time": "2024-08-07T10:44:44.804Z"
   },
   {
    "duration": 378,
    "start_time": "2024-08-07T10:44:55.568Z"
   },
   {
    "duration": 81,
    "start_time": "2024-08-07T10:44:55.947Z"
   },
   {
    "duration": 13,
    "start_time": "2024-08-07T10:44:56.029Z"
   },
   {
    "duration": 359,
    "start_time": "2024-08-07T10:46:49.978Z"
   },
   {
    "duration": 83,
    "start_time": "2024-08-07T10:46:50.339Z"
   },
   {
    "duration": 13,
    "start_time": "2024-08-07T10:46:50.424Z"
   },
   {
    "duration": 68,
    "start_time": "2024-08-07T10:46:50.438Z"
   },
   {
    "duration": 4,
    "start_time": "2024-08-07T10:47:24.077Z"
   },
   {
    "duration": 65,
    "start_time": "2024-08-07T10:47:51.327Z"
   },
   {
    "duration": 16,
    "start_time": "2024-08-07T10:48:13.771Z"
   },
   {
    "duration": 21,
    "start_time": "2024-08-07T10:48:17.978Z"
   },
   {
    "duration": 13,
    "start_time": "2024-08-07T10:48:25.156Z"
   },
   {
    "duration": 9,
    "start_time": "2024-08-07T10:49:00.160Z"
   },
   {
    "duration": 8,
    "start_time": "2024-08-07T10:50:39.192Z"
   },
   {
    "duration": 6,
    "start_time": "2024-08-07T10:50:44.043Z"
   },
   {
    "duration": 13,
    "start_time": "2024-08-07T10:51:11.678Z"
   },
   {
    "duration": 22,
    "start_time": "2024-08-07T10:51:49.281Z"
   },
   {
    "duration": 5,
    "start_time": "2024-08-07T10:52:34.016Z"
   },
   {
    "duration": 5,
    "start_time": "2024-08-07T10:53:12.581Z"
   },
   {
    "duration": 385,
    "start_time": "2024-08-07T10:55:03.277Z"
   },
   {
    "duration": 81,
    "start_time": "2024-08-07T10:55:03.663Z"
   },
   {
    "duration": 13,
    "start_time": "2024-08-07T10:55:03.745Z"
   },
   {
    "duration": 31,
    "start_time": "2024-08-07T10:55:03.760Z"
   },
   {
    "duration": 13,
    "start_time": "2024-08-07T10:55:03.792Z"
   },
   {
    "duration": 14,
    "start_time": "2024-08-07T10:55:03.806Z"
   },
   {
    "duration": 23,
    "start_time": "2024-08-07T10:55:03.821Z"
   },
   {
    "duration": 4,
    "start_time": "2024-08-07T10:55:03.845Z"
   },
   {
    "duration": 21,
    "start_time": "2024-08-07T10:55:16.234Z"
   },
   {
    "duration": 61,
    "start_time": "2024-08-07T10:59:31.339Z"
   },
   {
    "duration": 8,
    "start_time": "2024-08-07T10:59:37.885Z"
   },
   {
    "duration": 73,
    "start_time": "2024-08-07T11:03:48.215Z"
   },
   {
    "duration": 102,
    "start_time": "2024-08-07T11:03:53.005Z"
   },
   {
    "duration": 5,
    "start_time": "2024-08-07T11:04:13.362Z"
   },
   {
    "duration": 4,
    "start_time": "2024-08-07T11:04:43.840Z"
   },
   {
    "duration": 14,
    "start_time": "2024-08-07T11:04:48.751Z"
   },
   {
    "duration": 13,
    "start_time": "2024-08-07T11:14:01.219Z"
   },
   {
    "duration": 5,
    "start_time": "2024-08-07T11:15:06.570Z"
   },
   {
    "duration": 5,
    "start_time": "2024-08-07T11:15:12.334Z"
   },
   {
    "duration": 5,
    "start_time": "2024-08-07T11:15:18.478Z"
   },
   {
    "duration": 404,
    "start_time": "2024-08-07T11:15:47.438Z"
   },
   {
    "duration": 86,
    "start_time": "2024-08-07T11:15:47.843Z"
   },
   {
    "duration": 16,
    "start_time": "2024-08-07T11:15:47.931Z"
   },
   {
    "duration": 23,
    "start_time": "2024-08-07T11:15:47.949Z"
   },
   {
    "duration": 13,
    "start_time": "2024-08-07T11:15:47.973Z"
   },
   {
    "duration": 29,
    "start_time": "2024-08-07T11:15:47.988Z"
   },
   {
    "duration": 116,
    "start_time": "2024-08-07T11:15:48.038Z"
   },
   {
    "duration": 16,
    "start_time": "2024-08-07T11:15:48.156Z"
   },
   {
    "duration": 13,
    "start_time": "2024-08-07T11:15:48.174Z"
   },
   {
    "duration": 12,
    "start_time": "2024-08-07T11:15:48.189Z"
   },
   {
    "duration": 54,
    "start_time": "2024-08-07T11:15:48.202Z"
   },
   {
    "duration": 10,
    "start_time": "2024-08-07T11:15:59.577Z"
   },
   {
    "duration": 77,
    "start_time": "2024-08-07T11:17:40.816Z"
   },
   {
    "duration": 8,
    "start_time": "2024-08-07T11:17:54.830Z"
   },
   {
    "duration": 11,
    "start_time": "2024-08-07T11:17:57.489Z"
   },
   {
    "duration": 419,
    "start_time": "2024-08-07T11:21:01.910Z"
   },
   {
    "duration": 84,
    "start_time": "2024-08-07T11:21:02.331Z"
   },
   {
    "duration": 165,
    "start_time": "2024-08-07T11:21:02.416Z"
   },
   {
    "duration": 75,
    "start_time": "2024-08-07T11:21:02.582Z"
   },
   {
    "duration": 72,
    "start_time": "2024-08-07T11:21:02.658Z"
   },
   {
    "duration": 62,
    "start_time": "2024-08-07T11:21:02.732Z"
   },
   {
    "duration": 27,
    "start_time": "2024-08-07T11:21:02.796Z"
   },
   {
    "duration": 207,
    "start_time": "2024-08-07T11:21:02.824Z"
   },
   {
    "duration": 16,
    "start_time": "2024-08-07T11:21:03.033Z"
   },
   {
    "duration": 48,
    "start_time": "2024-08-07T11:21:03.051Z"
   },
   {
    "duration": 18,
    "start_time": "2024-08-07T11:21:03.101Z"
   },
   {
    "duration": 441,
    "start_time": "2024-08-07T11:22:37.533Z"
   },
   {
    "duration": 97,
    "start_time": "2024-08-07T11:22:37.976Z"
   },
   {
    "duration": 12,
    "start_time": "2024-08-07T11:22:38.075Z"
   },
   {
    "duration": 43,
    "start_time": "2024-08-07T11:22:38.089Z"
   },
   {
    "duration": 13,
    "start_time": "2024-08-07T11:22:38.134Z"
   },
   {
    "duration": 51,
    "start_time": "2024-08-07T11:22:38.148Z"
   },
   {
    "duration": 45,
    "start_time": "2024-08-07T11:22:38.200Z"
   },
   {
    "duration": 138,
    "start_time": "2024-08-07T11:22:38.247Z"
   },
   {
    "duration": 14,
    "start_time": "2024-08-07T11:22:38.387Z"
   },
   {
    "duration": 40,
    "start_time": "2024-08-07T11:22:38.402Z"
   },
   {
    "duration": 12,
    "start_time": "2024-08-07T11:24:49.276Z"
   },
   {
    "duration": 5,
    "start_time": "2024-08-07T11:26:40.927Z"
   },
   {
    "duration": 19,
    "start_time": "2024-08-07T11:27:33.059Z"
   },
   {
    "duration": 77,
    "start_time": "2024-08-07T11:28:33.282Z"
   },
   {
    "duration": 23,
    "start_time": "2024-08-07T11:28:54.581Z"
   },
   {
    "duration": 22,
    "start_time": "2024-08-07T11:29:05.413Z"
   },
   {
    "duration": 359,
    "start_time": "2024-08-07T11:30:38.191Z"
   },
   {
    "duration": 87,
    "start_time": "2024-08-07T11:30:38.552Z"
   },
   {
    "duration": 20,
    "start_time": "2024-08-07T11:30:38.641Z"
   },
   {
    "duration": 45,
    "start_time": "2024-08-07T11:30:38.662Z"
   },
   {
    "duration": 113,
    "start_time": "2024-08-07T11:30:38.710Z"
   },
   {
    "duration": 27,
    "start_time": "2024-08-07T11:30:38.824Z"
   },
   {
    "duration": 103,
    "start_time": "2024-08-07T11:30:38.852Z"
   },
   {
    "duration": 14,
    "start_time": "2024-08-07T11:30:38.957Z"
   },
   {
    "duration": 111,
    "start_time": "2024-08-07T11:30:38.972Z"
   },
   {
    "duration": 13,
    "start_time": "2024-08-07T11:30:39.085Z"
   },
   {
    "duration": 16,
    "start_time": "2024-08-07T11:30:39.100Z"
   },
   {
    "duration": 33,
    "start_time": "2024-08-07T11:30:39.117Z"
   },
   {
    "duration": 85,
    "start_time": "2024-08-07T11:30:39.152Z"
   },
   {
    "duration": 21,
    "start_time": "2024-08-07T11:31:03.709Z"
   },
   {
    "duration": 21,
    "start_time": "2024-08-07T11:31:21.944Z"
   },
   {
    "duration": 41,
    "start_time": "2024-08-07T11:31:26.790Z"
   },
   {
    "duration": 24,
    "start_time": "2024-08-07T11:31:44.703Z"
   },
   {
    "duration": 420,
    "start_time": "2024-08-08T10:12:33.447Z"
   },
   {
    "duration": 429,
    "start_time": "2024-08-08T10:12:33.869Z"
   },
   {
    "duration": 14,
    "start_time": "2024-08-08T10:12:34.299Z"
   },
   {
    "duration": 18,
    "start_time": "2024-08-08T10:12:34.315Z"
   },
   {
    "duration": 21,
    "start_time": "2024-08-08T10:12:34.335Z"
   },
   {
    "duration": 15,
    "start_time": "2024-08-08T10:12:34.358Z"
   },
   {
    "duration": 52,
    "start_time": "2024-08-08T10:12:34.374Z"
   },
   {
    "duration": 13,
    "start_time": "2024-08-08T10:12:34.427Z"
   },
   {
    "duration": 131,
    "start_time": "2024-08-08T10:12:34.442Z"
   },
   {
    "duration": 14,
    "start_time": "2024-08-08T10:12:34.576Z"
   },
   {
    "duration": 12,
    "start_time": "2024-08-08T10:12:34.592Z"
   },
   {
    "duration": 22,
    "start_time": "2024-08-08T10:12:34.606Z"
   },
   {
    "duration": 43,
    "start_time": "2024-08-08T10:12:34.629Z"
   },
   {
    "duration": 70,
    "start_time": "2024-08-08T10:15:09.711Z"
   },
   {
    "duration": 79,
    "start_time": "2024-08-08T10:15:14.010Z"
   },
   {
    "duration": 13,
    "start_time": "2024-08-08T10:15:17.351Z"
   },
   {
    "duration": 31,
    "start_time": "2024-08-08T10:15:28.830Z"
   },
   {
    "duration": 22,
    "start_time": "2024-08-08T10:15:34.494Z"
   },
   {
    "duration": 2243,
    "start_time": "2024-08-08T10:16:02.212Z"
   },
   {
    "duration": 2507,
    "start_time": "2024-08-08T10:16:05.998Z"
   },
   {
    "duration": 23,
    "start_time": "2024-08-08T10:16:12.324Z"
   },
   {
    "duration": 24,
    "start_time": "2024-08-08T10:18:16.114Z"
   },
   {
    "duration": 9,
    "start_time": "2024-08-08T10:19:07.307Z"
   },
   {
    "duration": 9,
    "start_time": "2024-08-08T10:19:21.173Z"
   },
   {
    "duration": 6,
    "start_time": "2024-08-08T10:21:07.895Z"
   },
   {
    "duration": 9,
    "start_time": "2024-08-08T10:26:00.298Z"
   },
   {
    "duration": 13,
    "start_time": "2024-08-08T10:27:52.188Z"
   },
   {
    "duration": 8,
    "start_time": "2024-08-08T10:27:59.645Z"
   },
   {
    "duration": 25,
    "start_time": "2024-08-08T10:28:32.425Z"
   },
   {
    "duration": 9,
    "start_time": "2024-08-08T10:28:50.625Z"
   },
   {
    "duration": 611,
    "start_time": "2024-08-08T10:33:14.379Z"
   },
   {
    "duration": 113,
    "start_time": "2024-08-08T10:34:06.715Z"
   },
   {
    "duration": 15,
    "start_time": "2024-08-08T10:34:20.036Z"
   },
   {
    "duration": 10,
    "start_time": "2024-08-08T10:35:43.030Z"
   },
   {
    "duration": 10,
    "start_time": "2024-08-08T10:36:39.011Z"
   },
   {
    "duration": 49,
    "start_time": "2024-08-08T10:44:39.857Z"
   },
   {
    "duration": 10,
    "start_time": "2024-08-08T10:45:14.534Z"
   },
   {
    "duration": 10,
    "start_time": "2024-08-08T10:45:28.540Z"
   },
   {
    "duration": 20,
    "start_time": "2024-08-08T10:45:50.188Z"
   },
   {
    "duration": 9,
    "start_time": "2024-08-08T10:46:47.262Z"
   },
   {
    "duration": 7,
    "start_time": "2024-08-08T10:47:44.232Z"
   },
   {
    "duration": 5,
    "start_time": "2024-08-08T10:47:48.958Z"
   },
   {
    "duration": 383,
    "start_time": "2024-08-08T10:48:05.604Z"
   },
   {
    "duration": 94,
    "start_time": "2024-08-08T10:48:05.989Z"
   },
   {
    "duration": 16,
    "start_time": "2024-08-08T10:48:06.084Z"
   },
   {
    "duration": 44,
    "start_time": "2024-08-08T10:48:06.102Z"
   },
   {
    "duration": 19,
    "start_time": "2024-08-08T10:48:06.148Z"
   },
   {
    "duration": 19,
    "start_time": "2024-08-08T10:48:06.169Z"
   },
   {
    "duration": 21,
    "start_time": "2024-08-08T10:48:06.190Z"
   },
   {
    "duration": 129,
    "start_time": "2024-08-08T10:48:06.213Z"
   },
   {
    "duration": 20,
    "start_time": "2024-08-08T10:48:06.344Z"
   },
   {
    "duration": 26,
    "start_time": "2024-08-08T10:48:06.367Z"
   },
   {
    "duration": 22,
    "start_time": "2024-08-08T10:48:06.395Z"
   },
   {
    "duration": 8,
    "start_time": "2024-08-08T10:48:06.419Z"
   },
   {
    "duration": 12,
    "start_time": "2024-08-08T10:48:06.428Z"
   },
   {
    "duration": 9,
    "start_time": "2024-08-08T10:48:06.442Z"
   },
   {
    "duration": 19,
    "start_time": "2024-08-08T10:48:06.455Z"
   },
   {
    "duration": 14,
    "start_time": "2024-08-08T10:48:06.476Z"
   },
   {
    "duration": 5,
    "start_time": "2024-08-08T10:48:06.492Z"
   },
   {
    "duration": 20,
    "start_time": "2024-08-08T10:48:06.499Z"
   },
   {
    "duration": 33,
    "start_time": "2024-08-08T10:48:06.520Z"
   },
   {
    "duration": 23,
    "start_time": "2024-08-08T10:49:16.258Z"
   },
   {
    "duration": 12,
    "start_time": "2024-08-08T10:52:51.848Z"
   },
   {
    "duration": 25,
    "start_time": "2024-08-08T10:53:06.451Z"
   },
   {
    "duration": 17,
    "start_time": "2024-08-08T10:53:13.937Z"
   },
   {
    "duration": 12,
    "start_time": "2024-08-08T10:54:14.220Z"
   },
   {
    "duration": 29,
    "start_time": "2024-08-08T10:54:27.744Z"
   },
   {
    "duration": 8,
    "start_time": "2024-08-08T10:55:12.821Z"
   },
   {
    "duration": 74,
    "start_time": "2024-08-08T10:56:15.758Z"
   },
   {
    "duration": 9,
    "start_time": "2024-08-08T10:56:19.144Z"
   },
   {
    "duration": 9,
    "start_time": "2024-08-08T10:56:35.271Z"
   },
   {
    "duration": 11,
    "start_time": "2024-08-08T10:57:14.438Z"
   },
   {
    "duration": 8,
    "start_time": "2024-08-08T10:57:35.107Z"
   },
   {
    "duration": 10,
    "start_time": "2024-08-08T10:57:35.978Z"
   },
   {
    "duration": 10,
    "start_time": "2024-08-08T11:01:18.843Z"
   },
   {
    "duration": 9,
    "start_time": "2024-08-08T11:02:14.309Z"
   },
   {
    "duration": 8,
    "start_time": "2024-08-08T11:02:16.411Z"
   },
   {
    "duration": 8,
    "start_time": "2024-08-08T11:02:21.434Z"
   },
   {
    "duration": 412,
    "start_time": "2024-08-08T13:57:24.875Z"
   },
   {
    "duration": 251,
    "start_time": "2024-08-08T13:57:25.288Z"
   },
   {
    "duration": 15,
    "start_time": "2024-08-08T13:57:25.541Z"
   },
   {
    "duration": 33,
    "start_time": "2024-08-08T13:57:25.557Z"
   },
   {
    "duration": 17,
    "start_time": "2024-08-08T13:57:25.592Z"
   },
   {
    "duration": 20,
    "start_time": "2024-08-08T13:57:25.610Z"
   },
   {
    "duration": 128,
    "start_time": "2024-08-08T13:57:25.631Z"
   },
   {
    "duration": 102,
    "start_time": "2024-08-08T13:57:25.761Z"
   },
   {
    "duration": 13,
    "start_time": "2024-08-08T13:57:25.864Z"
   },
   {
    "duration": 5,
    "start_time": "2024-08-08T13:57:25.879Z"
   },
   {
    "duration": 6,
    "start_time": "2024-08-08T13:57:25.886Z"
   },
   {
    "duration": 10,
    "start_time": "2024-08-08T13:57:25.893Z"
   },
   {
    "duration": 9,
    "start_time": "2024-08-08T13:57:25.905Z"
   },
   {
    "duration": 9,
    "start_time": "2024-08-08T13:57:25.915Z"
   },
   {
    "duration": 2,
    "start_time": "2024-08-08T13:57:25.925Z"
   },
   {
    "duration": 24,
    "start_time": "2024-08-08T13:57:25.929Z"
   },
   {
    "duration": 33,
    "start_time": "2024-08-08T13:57:25.955Z"
   },
   {
    "duration": 9,
    "start_time": "2024-08-08T13:57:25.989Z"
   },
   {
    "duration": 8,
    "start_time": "2024-08-08T13:57:25.999Z"
   },
   {
    "duration": 5,
    "start_time": "2024-08-08T13:57:26.008Z"
   },
   {
    "duration": 19,
    "start_time": "2024-08-08T13:57:26.015Z"
   },
   {
    "duration": 10,
    "start_time": "2024-08-08T13:57:26.036Z"
   },
   {
    "duration": 41,
    "start_time": "2024-08-08T13:57:26.047Z"
   },
   {
    "duration": 13,
    "start_time": "2024-08-08T13:57:34.126Z"
   },
   {
    "duration": 63,
    "start_time": "2024-08-08T13:57:53.988Z"
   },
   {
    "duration": 14,
    "start_time": "2024-08-08T13:58:26.871Z"
   },
   {
    "duration": 9,
    "start_time": "2024-08-08T13:58:35.581Z"
   },
   {
    "duration": 14,
    "start_time": "2024-08-08T13:58:54.813Z"
   },
   {
    "duration": 7,
    "start_time": "2024-08-08T13:59:09.251Z"
   },
   {
    "duration": 957,
    "start_time": "2024-08-08T13:59:19.820Z"
   },
   {
    "duration": 3,
    "start_time": "2024-08-08T14:05:36.924Z"
   },
   {
    "duration": 1545,
    "start_time": "2024-08-08T14:06:43.396Z"
   },
   {
    "duration": 0,
    "start_time": "2024-08-08T14:07:56.712Z"
   },
   {
    "duration": 0,
    "start_time": "2024-08-08T14:07:56.713Z"
   },
   {
    "duration": 1171,
    "start_time": "2024-08-08T14:07:59.583Z"
   },
   {
    "duration": 1160,
    "start_time": "2024-08-08T14:08:09.996Z"
   },
   {
    "duration": 3035,
    "start_time": "2024-08-08T14:08:20.239Z"
   },
   {
    "duration": 1248,
    "start_time": "2024-08-08T14:08:47.943Z"
   },
   {
    "duration": 1262,
    "start_time": "2024-08-08T14:09:32.866Z"
   },
   {
    "duration": 1201,
    "start_time": "2024-08-08T14:09:59.572Z"
   },
   {
    "duration": 3,
    "start_time": "2024-08-08T14:10:20.100Z"
   },
   {
    "duration": 1181,
    "start_time": "2024-08-08T14:10:22.729Z"
   },
   {
    "duration": 1214,
    "start_time": "2024-08-08T14:10:34.700Z"
   },
   {
    "duration": 1252,
    "start_time": "2024-08-08T14:11:01.662Z"
   },
   {
    "duration": 1259,
    "start_time": "2024-08-08T14:11:18.829Z"
   },
   {
    "duration": 1236,
    "start_time": "2024-08-08T14:11:26.137Z"
   },
   {
    "duration": 1265,
    "start_time": "2024-08-08T14:11:37.031Z"
   },
   {
    "duration": 1311,
    "start_time": "2024-08-08T14:12:09.018Z"
   },
   {
    "duration": 5,
    "start_time": "2024-08-08T14:12:10.331Z"
   },
   {
    "duration": 11,
    "start_time": "2024-08-08T14:15:25.051Z"
   },
   {
    "duration": 10,
    "start_time": "2024-08-08T14:16:29.497Z"
   },
   {
    "duration": 10,
    "start_time": "2024-08-08T14:16:43.908Z"
   },
   {
    "duration": 16,
    "start_time": "2024-08-08T14:16:51.458Z"
   },
   {
    "duration": 11,
    "start_time": "2024-08-08T14:17:26.089Z"
   },
   {
    "duration": 8,
    "start_time": "2024-08-08T14:19:57.181Z"
   },
   {
    "duration": 9,
    "start_time": "2024-08-08T14:20:05.479Z"
   },
   {
    "duration": 15,
    "start_time": "2024-08-08T14:20:42.558Z"
   },
   {
    "duration": 26,
    "start_time": "2024-08-08T14:23:52.667Z"
   },
   {
    "duration": 612,
    "start_time": "2024-08-08T14:24:43.557Z"
   },
   {
    "duration": 81,
    "start_time": "2024-08-08T14:24:44.171Z"
   },
   {
    "duration": 14,
    "start_time": "2024-08-08T14:24:44.254Z"
   },
   {
    "duration": 17,
    "start_time": "2024-08-08T14:24:44.270Z"
   },
   {
    "duration": 9,
    "start_time": "2024-08-08T14:24:44.289Z"
   },
   {
    "duration": 19,
    "start_time": "2024-08-08T14:24:44.299Z"
   },
   {
    "duration": 19,
    "start_time": "2024-08-08T14:24:44.319Z"
   },
   {
    "duration": 117,
    "start_time": "2024-08-08T14:24:44.340Z"
   },
   {
    "duration": 3,
    "start_time": "2024-08-08T14:24:44.459Z"
   },
   {
    "duration": 1229,
    "start_time": "2024-08-08T14:24:44.465Z"
   },
   {
    "duration": 29110,
    "start_time": "2024-08-08T14:24:45.696Z"
   },
   {
    "duration": 5,
    "start_time": "2024-08-08T14:25:14.808Z"
   },
   {
    "duration": 177,
    "start_time": "2024-08-08T14:25:32.067Z"
   },
   {
    "duration": 29263,
    "start_time": "2024-08-08T14:25:34.577Z"
   },
   {
    "duration": 0,
    "start_time": "2024-08-08T14:26:03.857Z"
   },
   {
    "duration": 11,
    "start_time": "2024-08-08T14:26:09.635Z"
   },
   {
    "duration": 186,
    "start_time": "2024-08-08T14:26:13.179Z"
   },
   {
    "duration": 47,
    "start_time": "2024-08-08T14:26:42.061Z"
   },
   {
    "duration": 20,
    "start_time": "2024-08-08T14:26:49.052Z"
   },
   {
    "duration": 17,
    "start_time": "2024-08-08T14:26:59.538Z"
   },
   {
    "duration": 19,
    "start_time": "2024-08-08T14:27:07.089Z"
   },
   {
    "duration": 21,
    "start_time": "2024-08-08T14:27:12.334Z"
   },
   {
    "duration": 20,
    "start_time": "2024-08-08T14:27:23.617Z"
   },
   {
    "duration": 18,
    "start_time": "2024-08-08T14:27:32.088Z"
   },
   {
    "duration": 34,
    "start_time": "2024-08-08T14:27:58.431Z"
   },
   {
    "duration": 20,
    "start_time": "2024-08-08T14:28:03.347Z"
   },
   {
    "duration": 18,
    "start_time": "2024-08-08T14:28:06.733Z"
   },
   {
    "duration": 188,
    "start_time": "2024-08-08T14:28:11.741Z"
   },
   {
    "duration": 345,
    "start_time": "2024-08-08T14:28:24.441Z"
   },
   {
    "duration": 60,
    "start_time": "2024-08-08T14:28:42.292Z"
   },
   {
    "duration": 208,
    "start_time": "2024-08-08T14:28:45.173Z"
   },
   {
    "duration": 194,
    "start_time": "2024-08-08T14:28:56.077Z"
   },
   {
    "duration": 213,
    "start_time": "2024-08-08T14:29:00.893Z"
   },
   {
    "duration": 194,
    "start_time": "2024-08-08T14:29:03.209Z"
   },
   {
    "duration": 9,
    "start_time": "2024-08-08T14:33:41.552Z"
   },
   {
    "duration": 11,
    "start_time": "2024-08-08T14:33:52.854Z"
   },
   {
    "duration": 8,
    "start_time": "2024-08-08T14:35:04.076Z"
   },
   {
    "duration": 8,
    "start_time": "2024-08-08T14:36:45.055Z"
   },
   {
    "duration": 8,
    "start_time": "2024-08-08T14:37:05.020Z"
   },
   {
    "duration": 10,
    "start_time": "2024-08-08T14:37:20.516Z"
   },
   {
    "duration": 9,
    "start_time": "2024-08-08T14:37:25.056Z"
   },
   {
    "duration": 4,
    "start_time": "2024-08-08T14:38:00.093Z"
   },
   {
    "duration": 5,
    "start_time": "2024-08-08T14:38:34.509Z"
   },
   {
    "duration": 15,
    "start_time": "2024-08-08T14:38:39.642Z"
   },
   {
    "duration": 4,
    "start_time": "2024-08-08T14:43:34.604Z"
   },
   {
    "duration": 4,
    "start_time": "2024-08-08T14:45:10.272Z"
   },
   {
    "duration": 10,
    "start_time": "2024-08-08T14:45:16.543Z"
   },
   {
    "duration": 14,
    "start_time": "2024-08-08T14:45:30.298Z"
   },
   {
    "duration": 22,
    "start_time": "2024-08-08T14:48:16.040Z"
   },
   {
    "duration": 5,
    "start_time": "2024-08-08T14:48:28.321Z"
   },
   {
    "duration": 297,
    "start_time": "2024-08-08T14:52:00.849Z"
   },
   {
    "duration": 294,
    "start_time": "2024-08-08T14:52:04.359Z"
   },
   {
    "duration": 304,
    "start_time": "2024-08-08T14:52:12.292Z"
   },
   {
    "duration": 325,
    "start_time": "2024-08-08T14:52:54.512Z"
   },
   {
    "duration": 2,
    "start_time": "2024-08-08T14:54:03.744Z"
   },
   {
    "duration": 306,
    "start_time": "2024-08-08T14:54:41.046Z"
   },
   {
    "duration": 47,
    "start_time": "2024-08-08T14:55:17.342Z"
   },
   {
    "duration": 43,
    "start_time": "2024-08-08T14:55:21.409Z"
   },
   {
    "duration": 120,
    "start_time": "2024-08-08T14:57:07.955Z"
   },
   {
    "duration": 119,
    "start_time": "2024-08-08T14:57:32.247Z"
   },
   {
    "duration": 116,
    "start_time": "2024-08-08T14:57:37.761Z"
   },
   {
    "duration": 308,
    "start_time": "2024-08-08T14:58:57.956Z"
   },
   {
    "duration": 60,
    "start_time": "2024-08-08T15:00:43.139Z"
   },
   {
    "duration": 322,
    "start_time": "2024-08-08T15:00:48.570Z"
   },
   {
    "duration": 326,
    "start_time": "2024-08-08T15:01:22.604Z"
   },
   {
    "duration": 610,
    "start_time": "2024-08-08T15:01:53.049Z"
   },
   {
    "duration": 325,
    "start_time": "2024-08-08T15:02:01.608Z"
   },
   {
    "duration": 46,
    "start_time": "2024-08-08T15:02:10.784Z"
   },
   {
    "duration": 346,
    "start_time": "2024-08-08T15:02:50.877Z"
   },
   {
    "duration": 361,
    "start_time": "2024-08-08T15:03:33.313Z"
   },
   {
    "duration": 343,
    "start_time": "2024-08-08T15:03:42.865Z"
   },
   {
    "duration": 338,
    "start_time": "2024-08-08T15:03:59.207Z"
   },
   {
    "duration": 349,
    "start_time": "2024-08-08T15:04:08.227Z"
   },
   {
    "duration": 371,
    "start_time": "2024-08-08T15:04:15.720Z"
   },
   {
    "duration": 375,
    "start_time": "2024-08-08T15:04:22.760Z"
   },
   {
    "duration": 126,
    "start_time": "2024-08-08T15:04:45.420Z"
   },
   {
    "duration": 144,
    "start_time": "2024-08-08T15:05:05.724Z"
   },
   {
    "duration": 127,
    "start_time": "2024-08-08T15:05:29.424Z"
   },
   {
    "duration": 343,
    "start_time": "2024-08-08T15:05:43.521Z"
   },
   {
    "duration": 332,
    "start_time": "2024-08-08T15:05:57.352Z"
   },
   {
    "duration": 763,
    "start_time": "2024-08-08T15:07:31.270Z"
   },
   {
    "duration": 53,
    "start_time": "2024-08-08T15:07:54.081Z"
   },
   {
    "duration": 4,
    "start_time": "2024-08-08T15:09:11.208Z"
   },
   {
    "duration": 14,
    "start_time": "2024-08-08T15:09:21.293Z"
   },
   {
    "duration": 3,
    "start_time": "2024-08-08T15:09:38.135Z"
   },
   {
    "duration": 9,
    "start_time": "2024-08-08T15:09:47.515Z"
   },
   {
    "duration": 8,
    "start_time": "2024-08-08T15:10:08.516Z"
   },
   {
    "duration": 11,
    "start_time": "2024-08-08T15:11:30.990Z"
   },
   {
    "duration": 3,
    "start_time": "2024-08-08T15:11:38.490Z"
   },
   {
    "duration": 2,
    "start_time": "2024-08-08T15:11:40.998Z"
   },
   {
    "duration": 493,
    "start_time": "2024-08-08T15:15:41.003Z"
   },
   {
    "duration": 350,
    "start_time": "2024-08-08T15:16:00.420Z"
   },
   {
    "duration": 13,
    "start_time": "2024-08-08T15:17:21.242Z"
   },
   {
    "duration": 17,
    "start_time": "2024-08-08T15:17:49.290Z"
   },
   {
    "duration": 12,
    "start_time": "2024-08-08T15:18:28.306Z"
   },
   {
    "duration": 6,
    "start_time": "2024-08-08T15:18:36.967Z"
   },
   {
    "duration": 6,
    "start_time": "2024-08-08T15:18:42.963Z"
   },
   {
    "duration": 7,
    "start_time": "2024-08-08T15:18:51.621Z"
   },
   {
    "duration": 499,
    "start_time": "2024-08-08T15:19:04.134Z"
   },
   {
    "duration": 499,
    "start_time": "2024-08-08T15:19:16.296Z"
   },
   {
    "duration": 477,
    "start_time": "2024-08-08T15:19:32.569Z"
   },
   {
    "duration": 493,
    "start_time": "2024-08-08T15:19:38.546Z"
   },
   {
    "duration": 463,
    "start_time": "2024-08-08T15:20:56.866Z"
   },
   {
    "duration": 489,
    "start_time": "2024-08-08T15:22:25.429Z"
   },
   {
    "duration": 345,
    "start_time": "2024-08-08T15:22:55.430Z"
   },
   {
    "duration": 357,
    "start_time": "2024-08-08T15:23:03.976Z"
   },
   {
    "duration": 356,
    "start_time": "2024-08-08T15:23:09.561Z"
   },
   {
    "duration": 748,
    "start_time": "2024-08-08T15:23:17.810Z"
   },
   {
    "duration": 367,
    "start_time": "2024-08-08T15:23:27.044Z"
   },
   {
    "duration": 486,
    "start_time": "2024-08-08T15:23:34.285Z"
   },
   {
    "duration": 465,
    "start_time": "2024-08-08T15:24:00.839Z"
   },
   {
    "duration": 401,
    "start_time": "2024-08-08T15:24:07.876Z"
   },
   {
    "duration": 463,
    "start_time": "2024-08-08T15:24:31.880Z"
   },
   {
    "duration": 439,
    "start_time": "2024-08-08T15:24:48.877Z"
   },
   {
    "duration": 483,
    "start_time": "2024-08-08T15:25:01.803Z"
   },
   {
    "duration": 421,
    "start_time": "2024-08-08T15:25:14.763Z"
   },
   {
    "duration": 452,
    "start_time": "2024-08-08T15:26:28.165Z"
   },
   {
    "duration": 483,
    "start_time": "2024-08-08T15:26:34.337Z"
   },
   {
    "duration": 461,
    "start_time": "2024-08-08T15:26:44.368Z"
   },
   {
    "duration": 414,
    "start_time": "2024-08-08T15:28:19.670Z"
   },
   {
    "duration": 471,
    "start_time": "2024-08-08T15:28:33.287Z"
   },
   {
    "duration": 473,
    "start_time": "2024-08-08T15:29:15.599Z"
   },
   {
    "duration": 606,
    "start_time": "2024-08-08T15:31:30.041Z"
   },
   {
    "duration": 338,
    "start_time": "2024-08-08T15:32:30.044Z"
   },
   {
    "duration": 268,
    "start_time": "2024-08-08T15:32:37.177Z"
   },
   {
    "duration": 140,
    "start_time": "2024-08-08T15:32:46.381Z"
   },
   {
    "duration": 51,
    "start_time": "2024-08-08T15:32:57.948Z"
   },
   {
    "duration": 310,
    "start_time": "2024-08-08T15:33:02.902Z"
   },
   {
    "duration": 61,
    "start_time": "2024-08-08T15:36:30.809Z"
   },
   {
    "duration": 30,
    "start_time": "2024-08-08T15:36:32.785Z"
   },
   {
    "duration": 18,
    "start_time": "2024-08-08T15:36:48.868Z"
   },
   {
    "duration": 3804,
    "start_time": "2024-08-08T15:37:13.443Z"
   },
   {
    "duration": 3564,
    "start_time": "2024-08-08T15:37:41.354Z"
   },
   {
    "duration": 610,
    "start_time": "2024-08-08T15:41:51.910Z"
   },
   {
    "duration": 85,
    "start_time": "2024-08-08T15:41:52.521Z"
   },
   {
    "duration": 13,
    "start_time": "2024-08-08T15:41:52.607Z"
   },
   {
    "duration": 31,
    "start_time": "2024-08-08T15:41:52.622Z"
   },
   {
    "duration": 12,
    "start_time": "2024-08-08T15:41:52.655Z"
   },
   {
    "duration": 23,
    "start_time": "2024-08-08T15:41:52.668Z"
   },
   {
    "duration": 30,
    "start_time": "2024-08-08T15:41:52.693Z"
   },
   {
    "duration": 111,
    "start_time": "2024-08-08T15:41:52.725Z"
   },
   {
    "duration": 3,
    "start_time": "2024-08-08T15:41:52.837Z"
   },
   {
    "duration": 1296,
    "start_time": "2024-08-08T15:41:52.843Z"
   },
   {
    "duration": 219,
    "start_time": "2024-08-08T15:41:54.141Z"
   },
   {
    "duration": 23,
    "start_time": "2024-08-08T15:41:54.361Z"
   },
   {
    "duration": 32,
    "start_time": "2024-08-08T15:41:54.386Z"
   },
   {
    "duration": 17,
    "start_time": "2024-08-08T15:41:54.419Z"
   },
   {
    "duration": 5,
    "start_time": "2024-08-08T15:41:54.438Z"
   },
   {
    "duration": 6,
    "start_time": "2024-08-08T15:41:54.444Z"
   },
   {
    "duration": 483,
    "start_time": "2024-08-08T15:41:54.451Z"
   },
   {
    "duration": 259,
    "start_time": "2024-08-08T15:41:54.936Z"
   },
   {
    "duration": 198830,
    "start_time": "2024-08-08T15:41:55.197Z"
   },
   {
    "duration": 893,
    "start_time": "2024-08-09T09:29:10.544Z"
   },
   {
    "duration": 217,
    "start_time": "2024-08-09T09:29:11.440Z"
   },
   {
    "duration": 15,
    "start_time": "2024-08-09T09:29:11.658Z"
   },
   {
    "duration": 20,
    "start_time": "2024-08-09T09:29:11.675Z"
   },
   {
    "duration": 10,
    "start_time": "2024-08-09T09:29:11.697Z"
   },
   {
    "duration": 15,
    "start_time": "2024-08-09T09:29:11.709Z"
   },
   {
    "duration": 22,
    "start_time": "2024-08-09T09:29:11.755Z"
   },
   {
    "duration": 134,
    "start_time": "2024-08-09T09:29:11.779Z"
   },
   {
    "duration": 4,
    "start_time": "2024-08-09T09:29:11.915Z"
   },
   {
    "duration": 1377,
    "start_time": "2024-08-09T09:29:11.921Z"
   },
   {
    "duration": 249,
    "start_time": "2024-08-09T09:29:13.300Z"
   },
   {
    "duration": 19,
    "start_time": "2024-08-09T09:29:13.555Z"
   },
   {
    "duration": 20,
    "start_time": "2024-08-09T09:29:13.576Z"
   },
   {
    "duration": 4,
    "start_time": "2024-08-09T09:29:13.598Z"
   },
   {
    "duration": 26,
    "start_time": "2024-08-09T09:29:13.604Z"
   },
   {
    "duration": 28,
    "start_time": "2024-08-09T09:29:13.632Z"
   },
   {
    "duration": 552,
    "start_time": "2024-08-09T09:29:13.662Z"
   },
   {
    "duration": 298,
    "start_time": "2024-08-09T09:29:14.216Z"
   },
   {
    "duration": 743,
    "start_time": "2024-08-09T09:30:18.569Z"
   },
   {
    "duration": 90,
    "start_time": "2024-08-09T09:30:19.314Z"
   },
   {
    "duration": 16,
    "start_time": "2024-08-09T09:30:19.406Z"
   },
   {
    "duration": 42,
    "start_time": "2024-08-09T09:30:19.424Z"
   },
   {
    "duration": 39,
    "start_time": "2024-08-09T09:30:19.469Z"
   },
   {
    "duration": 20,
    "start_time": "2024-08-09T09:30:19.510Z"
   },
   {
    "duration": 23,
    "start_time": "2024-08-09T09:30:19.532Z"
   },
   {
    "duration": 114,
    "start_time": "2024-08-09T09:30:19.556Z"
   },
   {
    "duration": 4,
    "start_time": "2024-08-09T09:30:19.671Z"
   },
   {
    "duration": 1331,
    "start_time": "2024-08-09T09:30:19.676Z"
   },
   {
    "duration": 221,
    "start_time": "2024-08-09T09:30:21.009Z"
   },
   {
    "duration": 14,
    "start_time": "2024-08-09T09:30:21.232Z"
   },
   {
    "duration": 9,
    "start_time": "2024-08-09T09:30:21.256Z"
   },
   {
    "duration": 16,
    "start_time": "2024-08-09T09:30:21.267Z"
   },
   {
    "duration": 42,
    "start_time": "2024-08-09T09:30:21.285Z"
   },
   {
    "duration": 21,
    "start_time": "2024-08-09T09:30:21.329Z"
   },
   {
    "duration": 531,
    "start_time": "2024-08-09T09:30:21.352Z"
   },
   {
    "duration": 283,
    "start_time": "2024-08-09T09:30:21.885Z"
   },
   {
    "duration": 76,
    "start_time": "2024-08-09T09:31:06.767Z"
   },
   {
    "duration": 28,
    "start_time": "2024-08-09T09:31:09.472Z"
   },
   {
    "duration": 34,
    "start_time": "2024-08-09T09:32:22.210Z"
   },
   {
    "duration": 28,
    "start_time": "2024-08-09T09:32:35.203Z"
   },
   {
    "duration": 27,
    "start_time": "2024-08-09T09:32:41.343Z"
   },
   {
    "duration": 25,
    "start_time": "2024-08-09T09:32:52.107Z"
   },
   {
    "duration": 575,
    "start_time": "2024-08-09T09:32:59.921Z"
   },
   {
    "duration": 28,
    "start_time": "2024-08-09T09:33:08.702Z"
   },
   {
    "duration": 30,
    "start_time": "2024-08-09T09:33:19.031Z"
   },
   {
    "duration": 35,
    "start_time": "2024-08-09T09:33:23.147Z"
   },
   {
    "duration": 26,
    "start_time": "2024-08-09T09:34:28.400Z"
   },
   {
    "duration": 32,
    "start_time": "2024-08-09T09:34:58.016Z"
   },
   {
    "duration": 68,
    "start_time": "2024-08-09T09:35:24.679Z"
   },
   {
    "duration": 26,
    "start_time": "2024-08-09T09:35:28.768Z"
   },
   {
    "duration": 22,
    "start_time": "2024-08-09T09:35:35.608Z"
   },
   {
    "duration": 169,
    "start_time": "2024-08-09T09:35:38.593Z"
   },
   {
    "duration": 3302,
    "start_time": "2024-08-09T09:36:08.690Z"
   },
   {
    "duration": 349,
    "start_time": "2024-08-09T09:37:50.781Z"
   },
   {
    "duration": 266,
    "start_time": "2024-08-09T09:41:58.322Z"
   },
   {
    "duration": 305,
    "start_time": "2024-08-09T09:42:07.474Z"
   },
   {
    "duration": 336,
    "start_time": "2024-08-09T09:42:40.729Z"
   },
   {
    "duration": 663,
    "start_time": "2024-08-09T09:43:19.965Z"
   },
   {
    "duration": 83,
    "start_time": "2024-08-09T09:43:20.630Z"
   },
   {
    "duration": 14,
    "start_time": "2024-08-09T09:43:20.714Z"
   },
   {
    "duration": 43,
    "start_time": "2024-08-09T09:43:20.730Z"
   },
   {
    "duration": 9,
    "start_time": "2024-08-09T09:43:20.775Z"
   },
   {
    "duration": 28,
    "start_time": "2024-08-09T09:43:20.786Z"
   },
   {
    "duration": 34,
    "start_time": "2024-08-09T09:43:20.816Z"
   },
   {
    "duration": 130,
    "start_time": "2024-08-09T09:43:20.851Z"
   },
   {
    "duration": 4,
    "start_time": "2024-08-09T09:43:20.982Z"
   },
   {
    "duration": 1341,
    "start_time": "2024-08-09T09:43:20.988Z"
   },
   {
    "duration": 215,
    "start_time": "2024-08-09T09:43:22.330Z"
   },
   {
    "duration": 12,
    "start_time": "2024-08-09T09:43:22.555Z"
   },
   {
    "duration": 8,
    "start_time": "2024-08-09T09:43:22.569Z"
   },
   {
    "duration": 3,
    "start_time": "2024-08-09T09:43:22.579Z"
   },
   {
    "duration": 6,
    "start_time": "2024-08-09T09:43:22.583Z"
   },
   {
    "duration": 18,
    "start_time": "2024-08-09T09:43:22.591Z"
   },
   {
    "duration": 564,
    "start_time": "2024-08-09T09:43:22.611Z"
   },
   {
    "duration": 296,
    "start_time": "2024-08-09T09:43:23.177Z"
   },
   {
    "duration": 62,
    "start_time": "2024-08-09T09:43:23.474Z"
   },
   {
    "duration": 0,
    "start_time": "2024-08-09T09:43:23.537Z"
   },
   {
    "duration": 0,
    "start_time": "2024-08-09T09:43:23.538Z"
   },
   {
    "duration": 258,
    "start_time": "2024-08-09T09:43:33.830Z"
   },
   {
    "duration": 512,
    "start_time": "2024-08-09T09:58:34.130Z"
   },
   {
    "duration": 461,
    "start_time": "2024-08-09T09:58:38.367Z"
   },
   {
    "duration": 233,
    "start_time": "2024-08-09T10:00:25.786Z"
   },
   {
    "duration": 8,
    "start_time": "2024-08-09T10:02:41.288Z"
   },
   {
    "duration": 8,
    "start_time": "2024-08-09T10:02:52.586Z"
   },
   {
    "duration": 8,
    "start_time": "2024-08-09T10:03:06.113Z"
   },
   {
    "duration": 70,
    "start_time": "2024-08-09T10:03:40.264Z"
   },
   {
    "duration": 12,
    "start_time": "2024-08-09T10:03:44.075Z"
   },
   {
    "duration": 10,
    "start_time": "2024-08-09T10:03:48.140Z"
   },
   {
    "duration": 16,
    "start_time": "2024-08-09T10:03:50.987Z"
   },
   {
    "duration": 999,
    "start_time": "2024-08-09T10:03:56.410Z"
   },
   {
    "duration": 18,
    "start_time": "2024-08-09T10:04:01.597Z"
   },
   {
    "duration": 18,
    "start_time": "2024-08-09T10:06:26.469Z"
   },
   {
    "duration": 20,
    "start_time": "2024-08-09T10:06:38.766Z"
   },
   {
    "duration": 16,
    "start_time": "2024-08-09T10:07:06.093Z"
   },
   {
    "duration": 13,
    "start_time": "2024-08-09T10:07:55.996Z"
   },
   {
    "duration": 14,
    "start_time": "2024-08-09T10:08:01.269Z"
   },
   {
    "duration": 15,
    "start_time": "2024-08-09T10:08:15.880Z"
   },
   {
    "duration": 22,
    "start_time": "2024-08-09T10:08:33.767Z"
   },
   {
    "duration": 69,
    "start_time": "2024-08-09T10:08:52.407Z"
   },
   {
    "duration": 7,
    "start_time": "2024-08-09T10:08:54.935Z"
   },
   {
    "duration": 7,
    "start_time": "2024-08-09T10:09:08.666Z"
   },
   {
    "duration": 8,
    "start_time": "2024-08-09T10:09:16.409Z"
   },
   {
    "duration": 8,
    "start_time": "2024-08-09T10:09:21.156Z"
   },
   {
    "duration": 8,
    "start_time": "2024-08-09T10:09:27.916Z"
   },
   {
    "duration": 10,
    "start_time": "2024-08-09T10:09:38.882Z"
   },
   {
    "duration": 924,
    "start_time": "2024-08-09T10:12:15.428Z"
   },
   {
    "duration": 14,
    "start_time": "2024-08-09T10:18:16.501Z"
   },
   {
    "duration": 23,
    "start_time": "2024-08-09T10:19:00.970Z"
   },
   {
    "duration": 26,
    "start_time": "2024-08-09T10:19:07.523Z"
   },
   {
    "duration": 33,
    "start_time": "2024-08-09T10:19:24.254Z"
   },
   {
    "duration": 5,
    "start_time": "2024-08-09T10:19:37.323Z"
   },
   {
    "duration": 9,
    "start_time": "2024-08-09T10:19:40.596Z"
   },
   {
    "duration": 23,
    "start_time": "2024-08-09T10:20:05.806Z"
   },
   {
    "duration": 8,
    "start_time": "2024-08-09T10:20:07.789Z"
   },
   {
    "duration": 62,
    "start_time": "2024-08-09T10:20:34.305Z"
   },
   {
    "duration": 21,
    "start_time": "2024-08-09T10:21:05.645Z"
   },
   {
    "duration": 8,
    "start_time": "2024-08-09T10:21:07.713Z"
   },
   {
    "duration": 9,
    "start_time": "2024-08-09T10:22:56.820Z"
   },
   {
    "duration": 11,
    "start_time": "2024-08-09T10:23:34.386Z"
   },
   {
    "duration": 9,
    "start_time": "2024-08-09T10:25:57.741Z"
   },
   {
    "duration": 13,
    "start_time": "2024-08-09T10:26:03.346Z"
   },
   {
    "duration": 13,
    "start_time": "2024-08-09T10:26:06.066Z"
   },
   {
    "duration": 12,
    "start_time": "2024-08-09T10:26:20.805Z"
   },
   {
    "duration": 1005,
    "start_time": "2024-08-09T10:26:41.383Z"
   },
   {
    "duration": 3,
    "start_time": "2024-08-09T10:27:26.278Z"
   },
   {
    "duration": 980,
    "start_time": "2024-08-09T10:28:37.871Z"
   },
   {
    "duration": 11,
    "start_time": "2024-08-09T10:28:47.593Z"
   },
   {
    "duration": 352,
    "start_time": "2024-08-09T10:31:58.389Z"
   },
   {
    "duration": 282,
    "start_time": "2024-08-09T10:32:10.765Z"
   },
   {
    "duration": 8,
    "start_time": "2024-08-09T10:32:31.899Z"
   },
   {
    "duration": 8,
    "start_time": "2024-08-09T10:32:39.083Z"
   },
   {
    "duration": 11,
    "start_time": "2024-08-09T10:32:47.598Z"
   },
   {
    "duration": 20,
    "start_time": "2024-08-09T10:33:59.601Z"
   },
   {
    "duration": 15,
    "start_time": "2024-08-09T10:34:12.288Z"
   },
   {
    "duration": 20,
    "start_time": "2024-08-09T10:34:16.520Z"
   },
   {
    "duration": 15,
    "start_time": "2024-08-09T10:34:23.153Z"
   },
   {
    "duration": 14,
    "start_time": "2024-08-09T10:34:44.494Z"
   },
   {
    "duration": 24,
    "start_time": "2024-08-09T10:34:47.306Z"
   },
   {
    "duration": 771,
    "start_time": "2024-08-09T10:36:06.575Z"
   },
   {
    "duration": 701,
    "start_time": "2024-08-09T10:36:22.760Z"
   },
   {
    "duration": 17,
    "start_time": "2024-08-09T10:36:26.937Z"
   },
   {
    "duration": 741,
    "start_time": "2024-08-09T10:36:37.261Z"
   },
   {
    "duration": 12,
    "start_time": "2024-08-09T10:36:49.011Z"
   },
   {
    "duration": 12,
    "start_time": "2024-08-09T10:36:56.626Z"
   },
   {
    "duration": 15,
    "start_time": "2024-08-09T10:37:06.313Z"
   },
   {
    "duration": 761,
    "start_time": "2024-08-09T10:37:15.941Z"
   },
   {
    "duration": 1015,
    "start_time": "2024-08-09T10:37:42.257Z"
   },
   {
    "duration": 665,
    "start_time": "2024-08-09T10:42:10.985Z"
   },
   {
    "duration": 94,
    "start_time": "2024-08-09T10:42:11.655Z"
   },
   {
    "duration": 16,
    "start_time": "2024-08-09T10:42:11.752Z"
   },
   {
    "duration": 25,
    "start_time": "2024-08-09T10:42:11.770Z"
   },
   {
    "duration": 22,
    "start_time": "2024-08-09T10:42:11.798Z"
   },
   {
    "duration": 16,
    "start_time": "2024-08-09T10:42:11.822Z"
   },
   {
    "duration": 28,
    "start_time": "2024-08-09T10:42:11.855Z"
   },
   {
    "duration": 127,
    "start_time": "2024-08-09T10:42:11.886Z"
   },
   {
    "duration": 4,
    "start_time": "2024-08-09T10:42:12.015Z"
   },
   {
    "duration": 1386,
    "start_time": "2024-08-09T10:42:12.021Z"
   },
   {
    "duration": 256,
    "start_time": "2024-08-09T10:42:13.410Z"
   },
   {
    "duration": 14,
    "start_time": "2024-08-09T10:42:13.668Z"
   },
   {
    "duration": 22,
    "start_time": "2024-08-09T10:42:13.684Z"
   },
   {
    "duration": 43,
    "start_time": "2024-08-09T10:42:13.709Z"
   },
   {
    "duration": 7,
    "start_time": "2024-08-09T10:42:13.753Z"
   },
   {
    "duration": 17,
    "start_time": "2024-08-09T10:42:13.762Z"
   },
   {
    "duration": 534,
    "start_time": "2024-08-09T10:42:13.781Z"
   },
   {
    "duration": 91,
    "start_time": "2024-08-09T10:42:14.317Z"
   },
   {
    "duration": 8,
    "start_time": "2024-08-09T10:42:27.214Z"
   },
   {
    "duration": 11,
    "start_time": "2024-08-09T10:42:48.870Z"
   },
   {
    "duration": 9,
    "start_time": "2024-08-09T10:42:51.860Z"
   },
   {
    "duration": 21,
    "start_time": "2024-08-09T10:43:51.175Z"
   },
   {
    "duration": 21,
    "start_time": "2024-08-09T10:43:55.971Z"
   },
   {
    "duration": 6,
    "start_time": "2024-08-09T10:46:44.167Z"
   },
   {
    "duration": 5,
    "start_time": "2024-08-09T10:46:46.392Z"
   },
   {
    "duration": 7,
    "start_time": "2024-08-09T10:46:59.171Z"
   },
   {
    "duration": 6,
    "start_time": "2024-08-09T10:47:08.551Z"
   },
   {
    "duration": 7,
    "start_time": "2024-08-09T10:47:09.436Z"
   },
   {
    "duration": 5,
    "start_time": "2024-08-09T10:47:28.471Z"
   },
   {
    "duration": 5,
    "start_time": "2024-08-09T10:47:29.996Z"
   },
   {
    "duration": 170,
    "start_time": "2024-08-09T10:47:53.009Z"
   },
   {
    "duration": 157,
    "start_time": "2024-08-09T10:48:10.852Z"
   },
   {
    "duration": 145,
    "start_time": "2024-08-09T10:48:18.593Z"
   },
   {
    "duration": 179,
    "start_time": "2024-08-09T10:48:25.263Z"
   },
   {
    "duration": 180,
    "start_time": "2024-08-09T10:48:44.204Z"
   },
   {
    "duration": 853,
    "start_time": "2024-08-09T10:48:51.539Z"
   },
   {
    "duration": 84,
    "start_time": "2024-08-09T10:49:11.776Z"
   },
   {
    "duration": 858,
    "start_time": "2024-08-09T10:49:15.800Z"
   },
   {
    "duration": 6,
    "start_time": "2024-08-09T10:49:33.987Z"
   },
   {
    "duration": 5,
    "start_time": "2024-08-09T10:49:34.439Z"
   },
   {
    "duration": 844,
    "start_time": "2024-08-09T10:49:34.876Z"
   },
   {
    "duration": 8,
    "start_time": "2024-08-09T10:52:26.028Z"
   },
   {
    "duration": 8,
    "start_time": "2024-08-09T10:52:30.662Z"
   },
   {
    "duration": 11,
    "start_time": "2024-08-09T10:53:01.408Z"
   },
   {
    "duration": 8,
    "start_time": "2024-08-09T10:53:11.749Z"
   },
   {
    "duration": 8,
    "start_time": "2024-08-09T10:53:37.057Z"
   },
   {
    "duration": 27,
    "start_time": "2024-08-09T10:55:04.156Z"
   },
   {
    "duration": 30,
    "start_time": "2024-08-09T10:55:23.542Z"
   },
   {
    "duration": 58,
    "start_time": "2024-08-09T10:56:57.225Z"
   },
   {
    "duration": 29,
    "start_time": "2024-08-09T10:57:37.380Z"
   },
   {
    "duration": 32,
    "start_time": "2024-08-09T10:57:47.108Z"
   },
   {
    "duration": 15,
    "start_time": "2024-08-09T10:58:28.940Z"
   },
   {
    "duration": 23,
    "start_time": "2024-08-09T10:58:33.427Z"
   },
   {
    "duration": 21,
    "start_time": "2024-08-09T10:58:43.038Z"
   },
   {
    "duration": 167,
    "start_time": "2024-08-09T10:58:48.103Z"
   },
   {
    "duration": 13,
    "start_time": "2024-08-09T14:16:55.210Z"
   },
   {
    "duration": 24,
    "start_time": "2024-08-09T14:17:00.416Z"
   },
   {
    "duration": 25,
    "start_time": "2024-08-09T14:17:26.766Z"
   },
   {
    "duration": 151,
    "start_time": "2024-08-09T14:18:07.285Z"
   },
   {
    "duration": 196,
    "start_time": "2024-08-09T14:18:27.308Z"
   },
   {
    "duration": 238,
    "start_time": "2024-08-09T14:18:31.057Z"
   },
   {
    "duration": 184,
    "start_time": "2024-08-09T14:19:16.241Z"
   },
   {
    "duration": 27,
    "start_time": "2024-08-09T14:19:32.982Z"
   },
   {
    "duration": 2423,
    "start_time": "2024-08-09T14:19:42.518Z"
   },
   {
    "duration": 9,
    "start_time": "2024-08-09T14:21:01.125Z"
   },
   {
    "duration": 20,
    "start_time": "2024-08-09T14:21:05.595Z"
   },
   {
    "duration": 242,
    "start_time": "2024-08-09T14:21:21.960Z"
   },
   {
    "duration": 38,
    "start_time": "2024-08-09T14:24:13.810Z"
   },
   {
    "duration": 38,
    "start_time": "2024-08-09T14:24:27.848Z"
   },
   {
    "duration": 365,
    "start_time": "2024-08-09T14:24:34.481Z"
   },
   {
    "duration": 118,
    "start_time": "2024-08-09T14:25:15.903Z"
   },
   {
    "duration": 120,
    "start_time": "2024-08-09T14:25:35.327Z"
   },
   {
    "duration": 37,
    "start_time": "2024-08-09T14:26:06.433Z"
   },
   {
    "duration": 377,
    "start_time": "2024-08-09T14:26:11.414Z"
   },
   {
    "duration": 120,
    "start_time": "2024-08-09T14:26:13.162Z"
   },
   {
    "duration": 511,
    "start_time": "2024-08-09T14:30:14.216Z"
   },
   {
    "duration": 499,
    "start_time": "2024-08-09T14:30:27.541Z"
   },
   {
    "duration": 482,
    "start_time": "2024-08-09T14:30:44.166Z"
   },
   {
    "duration": 515,
    "start_time": "2024-08-09T14:30:55.646Z"
   },
   {
    "duration": 506,
    "start_time": "2024-08-09T14:31:36.183Z"
   },
   {
    "duration": 606,
    "start_time": "2024-08-09T14:32:02.387Z"
   },
   {
    "duration": 570,
    "start_time": "2024-08-09T14:32:51.713Z"
   },
   {
    "duration": 620,
    "start_time": "2024-08-09T14:32:55.060Z"
   },
   {
    "duration": 929,
    "start_time": "2024-08-09T14:33:37.541Z"
   },
   {
    "duration": 1000,
    "start_time": "2024-08-09T14:33:44.697Z"
   },
   {
    "duration": 922,
    "start_time": "2024-08-09T14:33:57.885Z"
   },
   {
    "duration": 972,
    "start_time": "2024-08-09T14:34:08.985Z"
   },
   {
    "duration": 864,
    "start_time": "2024-08-09T14:34:26.824Z"
   },
   {
    "duration": 974,
    "start_time": "2024-08-09T14:34:32.312Z"
   },
   {
    "duration": 949,
    "start_time": "2024-08-09T14:34:36.320Z"
   },
   {
    "duration": 1147,
    "start_time": "2024-08-09T14:34:50.551Z"
   },
   {
    "duration": 25,
    "start_time": "2024-08-09T14:34:54.503Z"
   },
   {
    "duration": 25,
    "start_time": "2024-08-09T14:35:10.096Z"
   },
   {
    "duration": 19,
    "start_time": "2024-08-09T14:35:26.454Z"
   },
   {
    "duration": 8,
    "start_time": "2024-08-09T14:35:29.991Z"
   },
   {
    "duration": 7,
    "start_time": "2024-08-09T14:35:36.356Z"
   },
   {
    "duration": 12,
    "start_time": "2024-08-09T14:35:52.874Z"
   },
   {
    "duration": 26,
    "start_time": "2024-08-09T14:36:02.511Z"
   },
   {
    "duration": 10,
    "start_time": "2024-08-09T14:36:24.386Z"
   },
   {
    "duration": 10,
    "start_time": "2024-08-09T14:36:31.113Z"
   },
   {
    "duration": 157,
    "start_time": "2024-08-09T14:36:45.029Z"
   },
   {
    "duration": 678,
    "start_time": "2024-08-09T14:36:56.179Z"
   },
   {
    "duration": 588,
    "start_time": "2024-08-09T14:37:56.312Z"
   },
   {
    "duration": 1121,
    "start_time": "2024-08-09T14:38:14.074Z"
   },
   {
    "duration": 8,
    "start_time": "2024-08-09T14:38:39.440Z"
   },
   {
    "duration": 916,
    "start_time": "2024-08-09T14:38:43.465Z"
   },
   {
    "duration": 10,
    "start_time": "2024-08-09T14:39:05.136Z"
   },
   {
    "duration": 9,
    "start_time": "2024-08-09T14:39:09.030Z"
   },
   {
    "duration": 5,
    "start_time": "2024-08-09T14:39:18.245Z"
   },
   {
    "duration": 423,
    "start_time": "2024-08-09T14:39:40.001Z"
   },
   {
    "duration": 429,
    "start_time": "2024-08-09T14:42:51.099Z"
   },
   {
    "duration": 388,
    "start_time": "2024-08-09T14:45:54.041Z"
   },
   {
    "duration": 167,
    "start_time": "2024-08-09T14:46:36.224Z"
   },
   {
    "duration": 173,
    "start_time": "2024-08-09T14:46:43.038Z"
   },
   {
    "duration": 587,
    "start_time": "2024-08-09T14:46:47.717Z"
   },
   {
    "duration": 68,
    "start_time": "2024-08-09T14:47:19.203Z"
   },
   {
    "duration": 71,
    "start_time": "2024-08-09T14:47:36.992Z"
   },
   {
    "duration": 718,
    "start_time": "2024-08-09T14:48:08.413Z"
   },
   {
    "duration": 595,
    "start_time": "2024-08-09T14:48:12.809Z"
   },
   {
    "duration": 604,
    "start_time": "2024-08-09T14:48:29.660Z"
   },
   {
    "duration": 600,
    "start_time": "2024-08-09T14:48:35.084Z"
   },
   {
    "duration": 687,
    "start_time": "2024-08-09T14:48:40.916Z"
   },
   {
    "duration": 396,
    "start_time": "2024-08-09T14:48:47.034Z"
   },
   {
    "duration": 417,
    "start_time": "2024-08-09T14:48:50.343Z"
   },
   {
    "duration": 1306,
    "start_time": "2024-08-09T14:49:07.001Z"
   },
   {
    "duration": 615,
    "start_time": "2024-08-09T14:49:14.094Z"
   },
   {
    "duration": 570,
    "start_time": "2024-08-09T14:49:23.379Z"
   },
   {
    "duration": 688,
    "start_time": "2024-08-09T14:49:41.370Z"
   },
   {
    "duration": 626,
    "start_time": "2024-08-09T14:49:44.912Z"
   },
   {
    "duration": 646,
    "start_time": "2024-08-09T14:49:47.238Z"
   },
   {
    "duration": 580,
    "start_time": "2024-08-09T14:49:54.249Z"
   },
   {
    "duration": 188,
    "start_time": "2024-08-09T14:50:07.587Z"
   },
   {
    "duration": 704,
    "start_time": "2024-08-09T14:50:22.517Z"
   },
   {
    "duration": 398,
    "start_time": "2024-08-09T14:50:27.994Z"
   },
   {
    "duration": 71,
    "start_time": "2024-08-09T14:50:50.889Z"
   },
   {
    "duration": 72,
    "start_time": "2024-08-09T14:50:57.860Z"
   },
   {
    "duration": 430,
    "start_time": "2024-08-09T14:51:08.187Z"
   },
   {
    "duration": 417,
    "start_time": "2024-08-09T14:51:18.744Z"
   },
   {
    "duration": 643,
    "start_time": "2024-08-09T14:53:21.082Z"
   },
   {
    "duration": 89,
    "start_time": "2024-08-09T14:53:21.727Z"
   },
   {
    "duration": 15,
    "start_time": "2024-08-09T14:53:21.818Z"
   },
   {
    "duration": 37,
    "start_time": "2024-08-09T14:53:21.835Z"
   },
   {
    "duration": 11,
    "start_time": "2024-08-09T14:53:21.874Z"
   },
   {
    "duration": 25,
    "start_time": "2024-08-09T14:53:21.886Z"
   },
   {
    "duration": 29,
    "start_time": "2024-08-09T14:53:21.912Z"
   },
   {
    "duration": 126,
    "start_time": "2024-08-09T14:53:21.955Z"
   },
   {
    "duration": 4,
    "start_time": "2024-08-09T14:53:22.082Z"
   },
   {
    "duration": 1371,
    "start_time": "2024-08-09T14:53:22.088Z"
   },
   {
    "duration": 223,
    "start_time": "2024-08-09T14:53:23.460Z"
   },
   {
    "duration": 15,
    "start_time": "2024-08-09T14:53:23.685Z"
   },
   {
    "duration": 18,
    "start_time": "2024-08-09T14:53:23.702Z"
   },
   {
    "duration": 4,
    "start_time": "2024-08-09T14:53:23.722Z"
   },
   {
    "duration": 18,
    "start_time": "2024-08-09T14:53:23.727Z"
   },
   {
    "duration": 11,
    "start_time": "2024-08-09T14:53:23.747Z"
   },
   {
    "duration": 550,
    "start_time": "2024-08-09T14:53:23.760Z"
   },
   {
    "duration": 9,
    "start_time": "2024-08-09T14:53:24.311Z"
   },
   {
    "duration": 8,
    "start_time": "2024-08-09T14:53:24.321Z"
   },
   {
    "duration": 534,
    "start_time": "2024-08-09T14:53:24.330Z"
   },
   {
    "duration": 5,
    "start_time": "2024-08-09T14:53:24.866Z"
   },
   {
    "duration": 182,
    "start_time": "2024-08-09T14:53:29.212Z"
   },
   {
    "duration": 21,
    "start_time": "2024-08-09T14:54:09.305Z"
   },
   {
    "duration": 391,
    "start_time": "2024-08-09T14:54:14.162Z"
   },
   {
    "duration": 556,
    "start_time": "2024-08-09T14:54:30.323Z"
   },
   {
    "duration": 505,
    "start_time": "2024-08-09T14:54:50.121Z"
   },
   {
    "duration": 166,
    "start_time": "2024-08-09T14:56:42.450Z"
   },
   {
    "duration": 171,
    "start_time": "2024-08-09T14:56:52.158Z"
   },
   {
    "duration": 589,
    "start_time": "2024-08-09T14:57:00.845Z"
   },
   {
    "duration": 64,
    "start_time": "2024-08-09T14:57:25.684Z"
   },
   {
    "duration": 482,
    "start_time": "2024-08-09T14:57:29.679Z"
   },
   {
    "duration": 525,
    "start_time": "2024-08-09T14:57:34.930Z"
   },
   {
    "duration": 492,
    "start_time": "2024-08-09T14:58:21.389Z"
   },
   {
    "duration": 20,
    "start_time": "2024-08-09T15:16:42.074Z"
   },
   {
    "duration": 15,
    "start_time": "2024-08-09T15:16:50.843Z"
   },
   {
    "duration": 7,
    "start_time": "2024-08-09T15:19:51.188Z"
   },
   {
    "duration": 18,
    "start_time": "2024-08-09T15:20:01.929Z"
   },
   {
    "duration": 7,
    "start_time": "2024-08-09T15:20:05.744Z"
   },
   {
    "duration": 161,
    "start_time": "2024-08-09T15:20:49.498Z"
   },
   {
    "duration": 11,
    "start_time": "2024-08-09T15:21:36.934Z"
   },
   {
    "duration": 375,
    "start_time": "2024-08-09T15:21:43.349Z"
   },
   {
    "duration": 12,
    "start_time": "2024-08-09T15:22:26.949Z"
   },
   {
    "duration": 8,
    "start_time": "2024-08-09T15:24:24.931Z"
   },
   {
    "duration": 11,
    "start_time": "2024-08-09T15:24:30.089Z"
   },
   {
    "duration": 7,
    "start_time": "2024-08-09T15:24:33.341Z"
   },
   {
    "duration": 14,
    "start_time": "2024-08-09T15:24:57.714Z"
   },
   {
    "duration": 7,
    "start_time": "2024-08-09T15:25:15.158Z"
   },
   {
    "duration": 6,
    "start_time": "2024-08-09T15:25:19.430Z"
   },
   {
    "duration": 24,
    "start_time": "2024-08-09T15:26:07.065Z"
   },
   {
    "duration": 8,
    "start_time": "2024-08-09T15:26:46.567Z"
   },
   {
    "duration": 1037,
    "start_time": "2024-08-09T15:27:14.493Z"
   },
   {
    "duration": 961,
    "start_time": "2024-08-09T15:27:32.096Z"
   },
   {
    "duration": 153,
    "start_time": "2024-08-09T15:27:43.427Z"
   },
   {
    "duration": 11,
    "start_time": "2024-08-09T15:28:24.223Z"
   },
   {
    "duration": 12,
    "start_time": "2024-08-09T15:28:31.068Z"
   },
   {
    "duration": 11,
    "start_time": "2024-08-09T15:28:43.464Z"
   },
   {
    "duration": 10,
    "start_time": "2024-08-09T15:28:48.362Z"
   },
   {
    "duration": 7,
    "start_time": "2024-08-09T15:28:58.706Z"
   },
   {
    "duration": 15,
    "start_time": "2024-08-09T15:29:05.135Z"
   },
   {
    "duration": 12,
    "start_time": "2024-08-09T15:29:12.959Z"
   },
   {
    "duration": 11,
    "start_time": "2024-08-09T15:29:24.340Z"
   },
   {
    "duration": 67,
    "start_time": "2024-08-09T15:29:27.849Z"
   },
   {
    "duration": 5,
    "start_time": "2024-08-09T15:29:41.632Z"
   },
   {
    "duration": 209,
    "start_time": "2024-08-09T15:29:45.158Z"
   },
   {
    "duration": 179,
    "start_time": "2024-08-09T15:29:54.406Z"
   },
   {
    "duration": 176,
    "start_time": "2024-08-09T15:30:04.827Z"
   },
   {
    "duration": 200,
    "start_time": "2024-08-09T15:30:20.218Z"
   },
   {
    "duration": 191,
    "start_time": "2024-08-09T15:30:36.883Z"
   },
   {
    "duration": 211,
    "start_time": "2024-08-09T15:30:46.824Z"
   },
   {
    "duration": 219,
    "start_time": "2024-08-09T15:31:44.920Z"
   },
   {
    "duration": 216,
    "start_time": "2024-08-09T15:32:00.488Z"
   },
   {
    "duration": 241,
    "start_time": "2024-08-09T15:32:06.753Z"
   },
   {
    "duration": 216,
    "start_time": "2024-08-09T15:32:14.810Z"
   },
   {
    "duration": 218,
    "start_time": "2024-08-09T15:33:12.059Z"
   },
   {
    "duration": 317,
    "start_time": "2024-08-09T15:33:20.091Z"
   },
   {
    "duration": 214,
    "start_time": "2024-08-09T15:33:24.485Z"
   },
   {
    "duration": 218,
    "start_time": "2024-08-09T15:33:34.493Z"
   },
   {
    "duration": 226,
    "start_time": "2024-08-09T15:33:44.302Z"
   },
   {
    "duration": 521,
    "start_time": "2024-08-09T15:35:02.865Z"
   },
   {
    "duration": 477,
    "start_time": "2024-08-09T15:35:15.505Z"
   },
   {
    "duration": 505,
    "start_time": "2024-08-09T15:35:20.041Z"
   },
   {
    "duration": 575,
    "start_time": "2024-08-09T15:35:22.525Z"
   },
   {
    "duration": 469,
    "start_time": "2024-08-09T15:35:25.024Z"
   },
   {
    "duration": 230,
    "start_time": "2024-08-09T15:35:39.048Z"
   },
   {
    "duration": 13,
    "start_time": "2024-08-09T15:38:10.229Z"
   },
   {
    "duration": 10,
    "start_time": "2024-08-09T15:38:16.328Z"
   },
   {
    "duration": 15,
    "start_time": "2024-08-09T15:38:34.546Z"
   },
   {
    "duration": 227,
    "start_time": "2024-08-09T15:38:50.767Z"
   },
   {
    "duration": 247,
    "start_time": "2024-08-09T15:38:56.113Z"
   },
   {
    "duration": 8,
    "start_time": "2024-08-09T15:41:29.085Z"
   },
   {
    "duration": 12,
    "start_time": "2024-08-09T15:41:35.519Z"
   },
   {
    "duration": 245,
    "start_time": "2024-08-09T15:41:39.455Z"
   },
   {
    "duration": 8,
    "start_time": "2024-08-09T15:42:36.344Z"
   },
   {
    "duration": 39,
    "start_time": "2024-08-09T15:42:41.579Z"
   },
   {
    "duration": 2,
    "start_time": "2024-08-09T15:43:17.407Z"
   },
   {
    "duration": 28,
    "start_time": "2024-08-09T15:43:40.870Z"
   },
   {
    "duration": 11,
    "start_time": "2024-08-09T15:44:07.048Z"
   },
   {
    "duration": 4734,
    "start_time": "2024-08-09T15:46:22.412Z"
   },
   {
    "duration": 5361,
    "start_time": "2024-08-09T15:46:35.532Z"
   },
   {
    "duration": 4927,
    "start_time": "2024-08-09T15:46:47.863Z"
   },
   {
    "duration": 5179,
    "start_time": "2024-08-09T15:46:53.441Z"
   },
   {
    "duration": 318,
    "start_time": "2024-08-09T15:49:24.359Z"
   },
   {
    "duration": 354,
    "start_time": "2024-08-09T15:49:34.287Z"
   },
   {
    "duration": 5224,
    "start_time": "2024-08-09T15:49:47.292Z"
   },
   {
    "duration": 455,
    "start_time": "2024-08-09T15:49:56.489Z"
   },
   {
    "duration": 376,
    "start_time": "2024-08-09T15:50:06.802Z"
   },
   {
    "duration": 6123,
    "start_time": "2024-08-09T15:50:19.091Z"
   },
   {
    "duration": 396,
    "start_time": "2024-08-09T15:50:31.107Z"
   },
   {
    "duration": 5920,
    "start_time": "2024-08-09T15:51:41.480Z"
   },
   {
    "duration": 381,
    "start_time": "2024-08-09T15:51:50.947Z"
   },
   {
    "duration": 371,
    "start_time": "2024-08-09T15:53:08.938Z"
   },
   {
    "duration": 573,
    "start_time": "2024-08-09T15:53:30.562Z"
   },
   {
    "duration": 6032,
    "start_time": "2024-08-09T15:53:38.343Z"
   },
   {
    "duration": 6140,
    "start_time": "2024-08-09T15:53:45.343Z"
   },
   {
    "duration": 898,
    "start_time": "2024-08-11T08:44:34.848Z"
   },
   {
    "duration": 234,
    "start_time": "2024-08-11T08:44:35.748Z"
   },
   {
    "duration": 16,
    "start_time": "2024-08-11T08:44:35.984Z"
   },
   {
    "duration": 47,
    "start_time": "2024-08-11T08:44:36.003Z"
   },
   {
    "duration": 10,
    "start_time": "2024-08-11T08:44:36.055Z"
   },
   {
    "duration": 23,
    "start_time": "2024-08-11T08:44:36.067Z"
   },
   {
    "duration": 38,
    "start_time": "2024-08-11T08:44:36.092Z"
   },
   {
    "duration": 153,
    "start_time": "2024-08-11T08:44:36.132Z"
   },
   {
    "duration": 5,
    "start_time": "2024-08-11T08:44:36.286Z"
   },
   {
    "duration": 2247,
    "start_time": "2024-08-11T08:44:36.294Z"
   },
   {
    "duration": 664,
    "start_time": "2024-08-11T08:44:38.543Z"
   },
   {
    "duration": 21,
    "start_time": "2024-08-11T08:44:39.210Z"
   },
   {
    "duration": 14,
    "start_time": "2024-08-11T08:44:39.234Z"
   },
   {
    "duration": 8,
    "start_time": "2024-08-11T08:44:39.250Z"
   },
   {
    "duration": 7,
    "start_time": "2024-08-11T08:44:39.310Z"
   },
   {
    "duration": 23,
    "start_time": "2024-08-11T08:44:39.320Z"
   },
   {
    "duration": 748,
    "start_time": "2024-08-11T08:44:39.349Z"
   },
   {
    "duration": 16,
    "start_time": "2024-08-11T08:44:40.099Z"
   },
   {
    "duration": 10,
    "start_time": "2024-08-11T08:44:40.117Z"
   },
   {
    "duration": 713,
    "start_time": "2024-08-11T08:44:40.129Z"
   },
   {
    "duration": 10,
    "start_time": "2024-08-11T08:44:40.848Z"
   },
   {
    "duration": 9,
    "start_time": "2024-08-11T08:44:40.861Z"
   },
   {
    "duration": 261,
    "start_time": "2024-08-11T08:44:40.871Z"
   },
   {
    "duration": 39,
    "start_time": "2024-08-11T08:44:41.135Z"
   },
   {
    "duration": 54,
    "start_time": "2024-08-11T08:44:41.176Z"
   },
   {
    "duration": 6910,
    "start_time": "2024-08-11T08:44:41.232Z"
   },
   {
    "duration": 6799,
    "start_time": "2024-08-11T08:45:11.168Z"
   },
   {
    "duration": 7012,
    "start_time": "2024-08-11T08:45:24.378Z"
   },
   {
    "duration": 431,
    "start_time": "2024-08-11T08:45:36.657Z"
   },
   {
    "duration": 18,
    "start_time": "2024-08-11T09:10:38.731Z"
   },
   {
    "duration": 10,
    "start_time": "2024-08-11T09:11:27.720Z"
   },
   {
    "duration": 930,
    "start_time": "2024-08-11T09:11:40.526Z"
   },
   {
    "duration": 77,
    "start_time": "2024-08-11T09:12:20.432Z"
   },
   {
    "duration": 25,
    "start_time": "2024-08-11T09:12:23.509Z"
   },
   {
    "duration": 6263,
    "start_time": "2024-08-11T09:12:54.798Z"
   },
   {
    "duration": 6429,
    "start_time": "2024-08-11T09:13:01.963Z"
   },
   {
    "duration": 11,
    "start_time": "2024-08-11T09:13:10.637Z"
   },
   {
    "duration": 432,
    "start_time": "2024-08-11T09:13:14.631Z"
   },
   {
    "duration": 405,
    "start_time": "2024-08-11T09:13:17.036Z"
   },
   {
    "duration": 395,
    "start_time": "2024-08-11T09:13:29.571Z"
   },
   {
    "duration": 23,
    "start_time": "2024-08-11T10:03:05.115Z"
   },
   {
    "duration": 10,
    "start_time": "2024-08-11T10:03:17.767Z"
   },
   {
    "duration": 15,
    "start_time": "2024-08-11T10:07:32.797Z"
   },
   {
    "duration": 9,
    "start_time": "2024-08-11T10:07:48.645Z"
   },
   {
    "duration": 12,
    "start_time": "2024-08-11T10:07:49.831Z"
   },
   {
    "duration": 8,
    "start_time": "2024-08-11T10:08:01.156Z"
   },
   {
    "duration": 13,
    "start_time": "2024-08-11T10:08:01.934Z"
   },
   {
    "duration": 9,
    "start_time": "2024-08-11T10:08:53.228Z"
   },
   {
    "duration": 68,
    "start_time": "2024-08-11T10:10:39.292Z"
   },
   {
    "duration": 26,
    "start_time": "2024-08-11T10:10:43.570Z"
   },
   {
    "duration": 83,
    "start_time": "2024-08-11T10:11:40.966Z"
   },
   {
    "duration": 8,
    "start_time": "2024-08-11T10:11:55.983Z"
   },
   {
    "duration": 28,
    "start_time": "2024-08-11T10:12:09.286Z"
   },
   {
    "duration": 9,
    "start_time": "2024-08-11T10:13:19.783Z"
   },
   {
    "duration": 270,
    "start_time": "2024-08-11T10:13:24.861Z"
   },
   {
    "duration": 265,
    "start_time": "2024-08-11T10:13:58.339Z"
   },
   {
    "duration": 9,
    "start_time": "2024-08-11T10:17:21.486Z"
   },
   {
    "duration": 290,
    "start_time": "2024-08-11T10:17:26.188Z"
   },
   {
    "duration": 491,
    "start_time": "2024-08-11T10:17:37.510Z"
   },
   {
    "duration": 124,
    "start_time": "2024-08-11T10:19:28.411Z"
   },
   {
    "duration": 123,
    "start_time": "2024-08-11T10:20:11.449Z"
   },
   {
    "duration": 153,
    "start_time": "2024-08-11T10:20:52.767Z"
   },
   {
    "duration": 189,
    "start_time": "2024-08-11T10:25:03.530Z"
   },
   {
    "duration": 816,
    "start_time": "2024-08-11T10:27:34.975Z"
   },
   {
    "duration": 831,
    "start_time": "2024-08-11T10:28:08.143Z"
   },
   {
    "duration": 799,
    "start_time": "2024-08-11T10:28:44.564Z"
   },
   {
    "duration": 73,
    "start_time": "2024-08-11T10:32:48.833Z"
   },
   {
    "duration": 831,
    "start_time": "2024-08-11T10:33:28.885Z"
   },
   {
    "duration": 939,
    "start_time": "2024-08-11T10:33:38.257Z"
   },
   {
    "duration": 13,
    "start_time": "2024-08-11T10:34:58.287Z"
   },
   {
    "duration": 135,
    "start_time": "2024-08-11T10:35:20.078Z"
   },
   {
    "duration": 132,
    "start_time": "2024-08-11T10:35:39.544Z"
   },
   {
    "duration": 795,
    "start_time": "2024-08-11T10:35:52.452Z"
   },
   {
    "duration": 748,
    "start_time": "2024-08-11T10:36:07.038Z"
   },
   {
    "duration": 866,
    "start_time": "2024-08-11T10:36:29.486Z"
   },
   {
    "duration": 835,
    "start_time": "2024-08-11T10:36:33.946Z"
   },
   {
    "duration": 841,
    "start_time": "2024-08-11T10:36:51.583Z"
   },
   {
    "duration": 909,
    "start_time": "2024-08-11T14:05:51.233Z"
   },
   {
    "duration": 241,
    "start_time": "2024-08-11T14:05:52.144Z"
   },
   {
    "duration": 15,
    "start_time": "2024-08-11T14:05:52.387Z"
   },
   {
    "duration": 30,
    "start_time": "2024-08-11T14:05:52.404Z"
   },
   {
    "duration": 20,
    "start_time": "2024-08-11T14:05:52.436Z"
   },
   {
    "duration": 16,
    "start_time": "2024-08-11T14:05:52.460Z"
   },
   {
    "duration": 31,
    "start_time": "2024-08-11T14:05:52.477Z"
   },
   {
    "duration": 120,
    "start_time": "2024-08-11T14:05:52.509Z"
   },
   {
    "duration": 3,
    "start_time": "2024-08-11T14:05:52.631Z"
   },
   {
    "duration": 1468,
    "start_time": "2024-08-11T14:05:52.637Z"
   },
   {
    "duration": 302,
    "start_time": "2024-08-11T14:05:54.107Z"
   },
   {
    "duration": 14,
    "start_time": "2024-08-11T14:05:54.410Z"
   },
   {
    "duration": 29,
    "start_time": "2024-08-11T14:05:54.425Z"
   },
   {
    "duration": 6,
    "start_time": "2024-08-11T14:05:54.457Z"
   },
   {
    "duration": 8,
    "start_time": "2024-08-11T14:05:54.465Z"
   },
   {
    "duration": 8,
    "start_time": "2024-08-11T14:05:54.474Z"
   },
   {
    "duration": 659,
    "start_time": "2024-08-11T14:05:54.484Z"
   },
   {
    "duration": 12,
    "start_time": "2024-08-11T14:05:55.146Z"
   },
   {
    "duration": 47,
    "start_time": "2024-08-11T14:05:55.161Z"
   },
   {
    "duration": 657,
    "start_time": "2024-08-11T14:05:55.210Z"
   },
   {
    "duration": 19,
    "start_time": "2024-08-11T14:05:55.869Z"
   },
   {
    "duration": 11,
    "start_time": "2024-08-11T14:05:55.890Z"
   },
   {
    "duration": 281,
    "start_time": "2024-08-11T14:05:55.903Z"
   },
   {
    "duration": 35,
    "start_time": "2024-08-11T14:05:56.186Z"
   },
   {
    "duration": 63,
    "start_time": "2024-08-11T14:05:56.223Z"
   },
   {
    "duration": 379,
    "start_time": "2024-08-11T14:05:56.289Z"
   },
   {
    "duration": 0,
    "start_time": "2024-08-11T14:05:56.671Z"
   },
   {
    "duration": 0,
    "start_time": "2024-08-11T14:05:56.672Z"
   },
   {
    "duration": 12,
    "start_time": "2024-08-11T14:06:58.705Z"
   },
   {
    "duration": 14,
    "start_time": "2024-08-11T14:07:06.276Z"
   },
   {
    "duration": 128,
    "start_time": "2024-08-11T14:07:16.647Z"
   },
   {
    "duration": 3711,
    "start_time": "2024-08-11T14:07:21.546Z"
   },
   {
    "duration": 111,
    "start_time": "2024-08-11T14:07:31.657Z"
   },
   {
    "duration": 18,
    "start_time": "2024-08-11T14:08:23.988Z"
   },
   {
    "duration": 11,
    "start_time": "2024-08-11T14:08:31.716Z"
   },
   {
    "duration": 11,
    "start_time": "2024-08-11T14:08:56.354Z"
   },
   {
    "duration": 140,
    "start_time": "2024-08-11T14:09:11.328Z"
   },
   {
    "duration": 258,
    "start_time": "2024-08-11T14:09:44.904Z"
   },
   {
    "duration": 11,
    "start_time": "2024-08-11T14:09:50.984Z"
   },
   {
    "duration": 114,
    "start_time": "2024-08-11T14:09:56.571Z"
   },
   {
    "duration": 21,
    "start_time": "2024-08-11T14:10:02.078Z"
   },
   {
    "duration": 6,
    "start_time": "2024-08-11T14:10:51.396Z"
   },
   {
    "duration": 131,
    "start_time": "2024-08-11T14:10:52.568Z"
   },
   {
    "duration": 17,
    "start_time": "2024-08-11T14:11:24.645Z"
   },
   {
    "duration": 16,
    "start_time": "2024-08-11T14:11:44.622Z"
   },
   {
    "duration": 128,
    "start_time": "2024-08-11T14:11:54.746Z"
   },
   {
    "duration": 106,
    "start_time": "2024-08-11T14:12:13.809Z"
   },
   {
    "duration": 106,
    "start_time": "2024-08-11T14:12:49.463Z"
   },
   {
    "duration": 116,
    "start_time": "2024-08-11T14:13:06.694Z"
   },
   {
    "duration": 105,
    "start_time": "2024-08-11T14:13:21.059Z"
   },
   {
    "duration": 103,
    "start_time": "2024-08-11T14:13:26.224Z"
   },
   {
    "duration": 104,
    "start_time": "2024-08-11T14:13:35.657Z"
   },
   {
    "duration": 112,
    "start_time": "2024-08-11T14:13:39.210Z"
   },
   {
    "duration": 131,
    "start_time": "2024-08-11T14:13:46.935Z"
   },
   {
    "duration": 124,
    "start_time": "2024-08-11T14:13:52.199Z"
   },
   {
    "duration": 694,
    "start_time": "2024-08-11T14:14:11.814Z"
   },
   {
    "duration": 103,
    "start_time": "2024-08-11T14:14:12.510Z"
   },
   {
    "duration": 16,
    "start_time": "2024-08-11T14:14:12.615Z"
   },
   {
    "duration": 39,
    "start_time": "2024-08-11T14:14:12.633Z"
   },
   {
    "duration": 11,
    "start_time": "2024-08-11T14:14:12.675Z"
   },
   {
    "duration": 20,
    "start_time": "2024-08-11T14:14:12.688Z"
   },
   {
    "duration": 53,
    "start_time": "2024-08-11T14:14:12.710Z"
   },
   {
    "duration": 135,
    "start_time": "2024-08-11T14:14:12.765Z"
   },
   {
    "duration": 4,
    "start_time": "2024-08-11T14:14:12.901Z"
   },
   {
    "duration": 1479,
    "start_time": "2024-08-11T14:14:12.909Z"
   },
   {
    "duration": 227,
    "start_time": "2024-08-11T14:14:14.390Z"
   },
   {
    "duration": 13,
    "start_time": "2024-08-11T14:14:14.619Z"
   },
   {
    "duration": 14,
    "start_time": "2024-08-11T14:14:14.653Z"
   },
   {
    "duration": 4,
    "start_time": "2024-08-11T14:14:14.669Z"
   },
   {
    "duration": 5,
    "start_time": "2024-08-11T14:14:14.675Z"
   },
   {
    "duration": 7,
    "start_time": "2024-08-11T14:14:14.681Z"
   },
   {
    "duration": 633,
    "start_time": "2024-08-11T14:14:14.689Z"
   },
   {
    "duration": 10,
    "start_time": "2024-08-11T14:14:15.324Z"
   },
   {
    "duration": 17,
    "start_time": "2024-08-11T14:14:15.351Z"
   },
   {
    "duration": 659,
    "start_time": "2024-08-11T14:14:15.370Z"
   },
   {
    "duration": 6,
    "start_time": "2024-08-11T14:14:16.031Z"
   },
   {
    "duration": 23,
    "start_time": "2024-08-11T14:14:16.039Z"
   },
   {
    "duration": 247,
    "start_time": "2024-08-11T14:14:16.064Z"
   },
   {
    "duration": 56,
    "start_time": "2024-08-11T14:14:16.313Z"
   },
   {
    "duration": 26,
    "start_time": "2024-08-11T14:14:16.370Z"
   },
   {
    "duration": 383,
    "start_time": "2024-08-11T14:14:16.398Z"
   },
   {
    "duration": 0,
    "start_time": "2024-08-11T14:14:16.782Z"
   },
   {
    "duration": 0,
    "start_time": "2024-08-11T14:14:16.784Z"
   },
   {
    "duration": 1,
    "start_time": "2024-08-11T14:14:16.788Z"
   },
   {
    "duration": 39,
    "start_time": "2024-08-11T14:14:27.320Z"
   },
   {
    "duration": 9,
    "start_time": "2024-08-11T14:14:28.128Z"
   },
   {
    "duration": 115,
    "start_time": "2024-08-11T14:14:28.478Z"
   },
   {
    "duration": 3,
    "start_time": "2024-08-11T14:20:13.712Z"
   },
   {
    "duration": 210,
    "start_time": "2024-08-11T14:20:17.299Z"
   },
   {
    "duration": 152,
    "start_time": "2024-08-11T14:20:21.824Z"
   },
   {
    "duration": 217,
    "start_time": "2024-08-11T14:20:25.326Z"
   },
   {
    "duration": 177,
    "start_time": "2024-08-11T14:20:34.345Z"
   },
   {
    "duration": 329,
    "start_time": "2024-08-11T14:20:42.739Z"
   },
   {
    "duration": 185,
    "start_time": "2024-08-11T14:21:06.491Z"
   },
   {
    "duration": 145,
    "start_time": "2024-08-11T14:21:08.891Z"
   },
   {
    "duration": 217,
    "start_time": "2024-08-11T14:21:13.902Z"
   },
   {
    "duration": 222,
    "start_time": "2024-08-11T14:22:06.439Z"
   },
   {
    "duration": 210,
    "start_time": "2024-08-11T14:22:11.883Z"
   },
   {
    "duration": 270,
    "start_time": "2024-08-11T14:22:27.024Z"
   },
   {
    "duration": 339,
    "start_time": "2024-08-11T14:22:39.050Z"
   },
   {
    "duration": 252,
    "start_time": "2024-08-11T14:22:50.256Z"
   },
   {
    "duration": 272,
    "start_time": "2024-08-11T14:23:01.866Z"
   },
   {
    "duration": 130,
    "start_time": "2024-08-11T14:23:36.213Z"
   },
   {
    "duration": 145,
    "start_time": "2024-08-11T14:23:39.084Z"
   },
   {
    "duration": 154,
    "start_time": "2024-08-11T14:23:42.828Z"
   },
   {
    "duration": 128,
    "start_time": "2024-08-11T14:23:48.153Z"
   },
   {
    "duration": 176,
    "start_time": "2024-08-11T14:24:36.831Z"
   },
   {
    "duration": 201,
    "start_time": "2024-08-11T14:24:45.911Z"
   },
   {
    "duration": 66,
    "start_time": "2024-08-11T14:25:21.898Z"
   },
   {
    "duration": 325,
    "start_time": "2024-08-11T14:25:28.845Z"
   },
   {
    "duration": 209,
    "start_time": "2024-08-11T14:25:35.487Z"
   },
   {
    "duration": 227,
    "start_time": "2024-08-11T14:25:39.399Z"
   },
   {
    "duration": 205,
    "start_time": "2024-08-11T14:25:44.576Z"
   },
   {
    "duration": 204,
    "start_time": "2024-08-11T14:25:48.992Z"
   },
   {
    "duration": 267,
    "start_time": "2024-08-11T14:25:59.883Z"
   },
   {
    "duration": 308,
    "start_time": "2024-08-11T14:26:03.190Z"
   },
   {
    "duration": 217,
    "start_time": "2024-08-11T14:26:05.761Z"
   },
   {
    "duration": 278,
    "start_time": "2024-08-11T14:26:29.558Z"
   },
   {
    "duration": 284,
    "start_time": "2024-08-11T14:26:38.692Z"
   },
   {
    "duration": 703,
    "start_time": "2024-08-11T14:27:33.291Z"
   },
   {
    "duration": 839,
    "start_time": "2024-08-11T14:28:04.680Z"
   },
   {
    "duration": 699,
    "start_time": "2024-08-11T14:28:10.234Z"
   },
   {
    "duration": 810,
    "start_time": "2024-08-11T14:28:25.485Z"
   },
   {
    "duration": 718,
    "start_time": "2024-08-11T14:28:42.207Z"
   },
   {
    "duration": 661,
    "start_time": "2024-08-11T14:28:48.067Z"
   },
   {
    "duration": 818,
    "start_time": "2024-08-11T14:28:56.292Z"
   },
   {
    "duration": 117,
    "start_time": "2024-08-11T14:29:03.417Z"
   },
   {
    "duration": 123,
    "start_time": "2024-08-11T14:29:27.082Z"
   },
   {
    "duration": 741,
    "start_time": "2024-08-11T14:29:46.756Z"
   },
   {
    "duration": 620,
    "start_time": "2024-08-11T14:30:34.386Z"
   },
   {
    "duration": 878,
    "start_time": "2024-08-11T14:30:42.835Z"
   },
   {
    "duration": 152,
    "start_time": "2024-08-11T14:30:49.460Z"
   },
   {
    "duration": 713,
    "start_time": "2024-08-11T14:30:55.615Z"
   },
   {
    "duration": 822,
    "start_time": "2024-08-11T14:31:09.343Z"
   },
   {
    "duration": 719,
    "start_time": "2024-08-11T14:31:39.941Z"
   },
   {
    "duration": 81,
    "start_time": "2024-08-11T14:32:22.462Z"
   },
   {
    "duration": 71,
    "start_time": "2024-08-11T14:32:34.920Z"
   },
   {
    "duration": 696,
    "start_time": "2024-08-11T14:32:41.669Z"
   },
   {
    "duration": 685,
    "start_time": "2024-08-11T14:33:00.259Z"
   },
   {
    "duration": 90,
    "start_time": "2024-08-11T14:33:00.947Z"
   },
   {
    "duration": 29,
    "start_time": "2024-08-11T14:33:01.040Z"
   },
   {
    "duration": 43,
    "start_time": "2024-08-11T14:33:01.071Z"
   },
   {
    "duration": 55,
    "start_time": "2024-08-11T14:33:01.118Z"
   },
   {
    "duration": 99,
    "start_time": "2024-08-11T14:33:01.175Z"
   },
   {
    "duration": 91,
    "start_time": "2024-08-11T14:33:01.275Z"
   },
   {
    "duration": 176,
    "start_time": "2024-08-11T14:33:01.368Z"
   },
   {
    "duration": 7,
    "start_time": "2024-08-11T14:33:01.547Z"
   },
   {
    "duration": 1479,
    "start_time": "2024-08-11T14:33:01.557Z"
   },
   {
    "duration": 544,
    "start_time": "2024-08-11T14:33:03.038Z"
   },
   {
    "duration": 79,
    "start_time": "2024-08-11T14:33:03.584Z"
   },
   {
    "duration": 93,
    "start_time": "2024-08-11T14:33:03.667Z"
   },
   {
    "duration": 12,
    "start_time": "2024-08-11T14:33:03.763Z"
   },
   {
    "duration": 208,
    "start_time": "2024-08-11T14:33:03.777Z"
   },
   {
    "duration": 72,
    "start_time": "2024-08-11T14:33:03.987Z"
   },
   {
    "duration": 765,
    "start_time": "2024-08-11T14:33:04.062Z"
   },
   {
    "duration": 8,
    "start_time": "2024-08-11T14:33:04.828Z"
   },
   {
    "duration": 20,
    "start_time": "2024-08-11T14:33:04.847Z"
   },
   {
    "duration": 719,
    "start_time": "2024-08-11T14:33:04.870Z"
   },
   {
    "duration": 7,
    "start_time": "2024-08-11T14:33:05.591Z"
   },
   {
    "duration": 31,
    "start_time": "2024-08-11T14:33:05.600Z"
   },
   {
    "duration": 268,
    "start_time": "2024-08-11T14:33:05.633Z"
   },
   {
    "duration": 57,
    "start_time": "2024-08-11T14:33:05.904Z"
   },
   {
    "duration": 25,
    "start_time": "2024-08-11T14:33:05.964Z"
   },
   {
    "duration": 373,
    "start_time": "2024-08-11T14:33:05.991Z"
   },
   {
    "duration": 0,
    "start_time": "2024-08-11T14:33:06.365Z"
   },
   {
    "duration": 0,
    "start_time": "2024-08-11T14:33:06.367Z"
   },
   {
    "duration": 0,
    "start_time": "2024-08-11T14:33:06.368Z"
   },
   {
    "duration": 0,
    "start_time": "2024-08-11T14:33:06.370Z"
   },
   {
    "duration": 28,
    "start_time": "2024-08-11T14:33:12.437Z"
   },
   {
    "duration": 9,
    "start_time": "2024-08-11T14:33:13.396Z"
   },
   {
    "duration": 731,
    "start_time": "2024-08-11T14:33:14.029Z"
   },
   {
    "duration": 840,
    "start_time": "2024-08-11T14:33:15.524Z"
   },
   {
    "duration": 12,
    "start_time": "2024-08-11T14:34:36.188Z"
   },
   {
    "duration": 756,
    "start_time": "2024-08-11T14:34:58.133Z"
   },
   {
    "duration": 690,
    "start_time": "2024-08-11T14:35:36.667Z"
   },
   {
    "duration": 809,
    "start_time": "2024-08-11T14:35:40.833Z"
   },
   {
    "duration": 712,
    "start_time": "2024-08-11T14:38:47.225Z"
   },
   {
    "duration": 725,
    "start_time": "2024-08-11T14:39:40.757Z"
   },
   {
    "duration": 876,
    "start_time": "2024-08-11T14:39:52.482Z"
   },
   {
    "duration": 733,
    "start_time": "2024-08-11T14:40:06.018Z"
   },
   {
    "duration": 779,
    "start_time": "2024-08-11T14:40:38.605Z"
   },
   {
    "duration": 696,
    "start_time": "2024-08-11T14:40:46.418Z"
   },
   {
    "duration": 704,
    "start_time": "2024-08-11T14:41:07.803Z"
   },
   {
    "duration": 1078,
    "start_time": "2024-08-11T14:42:16.526Z"
   },
   {
    "duration": 145,
    "start_time": "2024-08-11T14:43:28.035Z"
   },
   {
    "duration": 152,
    "start_time": "2024-08-11T14:43:46.361Z"
   },
   {
    "duration": 123,
    "start_time": "2024-08-11T14:44:13.740Z"
   },
   {
    "duration": 758,
    "start_time": "2024-08-11T14:44:54.681Z"
   },
   {
    "duration": 950,
    "start_time": "2024-08-11T14:45:12.203Z"
   },
   {
    "duration": 691,
    "start_time": "2024-08-11T14:45:32.482Z"
   },
   {
    "duration": 729,
    "start_time": "2024-08-11T14:49:06.321Z"
   },
   {
    "duration": 688,
    "start_time": "2024-08-11T14:50:00.389Z"
   },
   {
    "duration": 708,
    "start_time": "2024-08-11T14:53:26.146Z"
   },
   {
    "duration": 766,
    "start_time": "2024-08-11T14:53:33.978Z"
   },
   {
    "duration": 945,
    "start_time": "2024-08-11T15:01:39.247Z"
   },
   {
    "duration": 18,
    "start_time": "2024-08-11T15:01:54.382Z"
   },
   {
    "duration": 10,
    "start_time": "2024-08-11T15:02:27.108Z"
   },
   {
    "duration": 10,
    "start_time": "2024-08-11T15:03:10.198Z"
   },
   {
    "duration": 521,
    "start_time": "2024-08-11T15:03:39.506Z"
   },
   {
    "duration": 687,
    "start_time": "2024-08-11T15:10:42.734Z"
   },
   {
    "duration": 237,
    "start_time": "2024-08-11T15:11:45.664Z"
   },
   {
    "duration": 158,
    "start_time": "2024-08-11T15:11:50.108Z"
   },
   {
    "duration": 6,
    "start_time": "2024-08-11T15:12:38.204Z"
   },
   {
    "duration": 157,
    "start_time": "2024-08-11T15:12:49.609Z"
   },
   {
    "duration": 165,
    "start_time": "2024-08-11T15:19:56.130Z"
   },
   {
    "duration": 317,
    "start_time": "2024-08-11T15:21:09.351Z"
   },
   {
    "duration": 188,
    "start_time": "2024-08-11T15:21:27.388Z"
   },
   {
    "duration": 189,
    "start_time": "2024-08-11T15:21:52.526Z"
   },
   {
    "duration": 190,
    "start_time": "2024-08-11T15:22:05.212Z"
   },
   {
    "duration": 178,
    "start_time": "2024-08-11T15:22:08.893Z"
   },
   {
    "duration": 157,
    "start_time": "2024-08-11T15:22:13.683Z"
   },
   {
    "duration": 168,
    "start_time": "2024-08-11T15:22:18.588Z"
   },
   {
    "duration": 159,
    "start_time": "2024-08-11T15:22:30.201Z"
   },
   {
    "duration": 258,
    "start_time": "2024-08-11T15:22:37.814Z"
   },
   {
    "duration": 872,
    "start_time": "2024-08-13T10:31:41.140Z"
   },
   {
    "duration": 279,
    "start_time": "2024-08-13T10:31:42.014Z"
   },
   {
    "duration": 13,
    "start_time": "2024-08-13T10:31:42.295Z"
   },
   {
    "duration": 30,
    "start_time": "2024-08-13T10:31:42.310Z"
   },
   {
    "duration": 18,
    "start_time": "2024-08-13T10:31:42.342Z"
   },
   {
    "duration": 49,
    "start_time": "2024-08-13T10:31:42.362Z"
   },
   {
    "duration": 35,
    "start_time": "2024-08-13T10:31:42.413Z"
   },
   {
    "duration": 135,
    "start_time": "2024-08-13T10:31:42.450Z"
   },
   {
    "duration": 3,
    "start_time": "2024-08-13T10:31:42.587Z"
   },
   {
    "duration": 1293,
    "start_time": "2024-08-13T10:31:42.593Z"
   },
   {
    "duration": 221,
    "start_time": "2024-08-13T10:31:43.887Z"
   },
   {
    "duration": 13,
    "start_time": "2024-08-13T10:31:44.109Z"
   },
   {
    "duration": 11,
    "start_time": "2024-08-13T10:31:44.124Z"
   },
   {
    "duration": 3,
    "start_time": "2024-08-13T10:31:44.137Z"
   },
   {
    "duration": 6,
    "start_time": "2024-08-13T10:31:44.141Z"
   },
   {
    "duration": 6,
    "start_time": "2024-08-13T10:31:44.148Z"
   },
   {
    "duration": 852,
    "start_time": "2024-08-13T10:31:44.156Z"
   },
   {
    "duration": 9,
    "start_time": "2024-08-13T10:31:45.009Z"
   },
   {
    "duration": 72,
    "start_time": "2024-08-13T10:31:45.019Z"
   },
   {
    "duration": 1037,
    "start_time": "2024-08-13T10:31:45.092Z"
   },
   {
    "duration": 7,
    "start_time": "2024-08-13T10:31:46.131Z"
   },
   {
    "duration": 12,
    "start_time": "2024-08-13T10:31:46.140Z"
   },
   {
    "duration": 217,
    "start_time": "2024-08-13T10:31:46.154Z"
   },
   {
    "duration": 42,
    "start_time": "2024-08-13T10:31:46.373Z"
   },
   {
    "duration": 26,
    "start_time": "2024-08-13T10:31:46.417Z"
   },
   {
    "duration": 371,
    "start_time": "2024-08-13T10:31:46.445Z"
   },
   {
    "duration": 0,
    "start_time": "2024-08-13T10:31:46.819Z"
   },
   {
    "duration": 0,
    "start_time": "2024-08-13T10:31:46.820Z"
   },
   {
    "duration": 0,
    "start_time": "2024-08-13T10:31:46.821Z"
   },
   {
    "duration": 0,
    "start_time": "2024-08-13T10:31:46.822Z"
   },
   {
    "duration": 0,
    "start_time": "2024-08-13T10:31:46.824Z"
   },
   {
    "duration": 0,
    "start_time": "2024-08-13T10:31:46.826Z"
   },
   {
    "duration": 0,
    "start_time": "2024-08-13T10:31:46.827Z"
   },
   {
    "duration": 0,
    "start_time": "2024-08-13T10:31:46.828Z"
   },
   {
    "duration": 11,
    "start_time": "2024-08-13T11:03:55.708Z"
   },
   {
    "duration": 6,
    "start_time": "2024-08-13T11:03:59.215Z"
   },
   {
    "duration": 5,
    "start_time": "2024-08-13T11:04:07.548Z"
   },
   {
    "duration": 8,
    "start_time": "2024-08-13T11:05:37.580Z"
   },
   {
    "duration": 4,
    "start_time": "2024-08-13T11:05:43.609Z"
   },
   {
    "duration": 5,
    "start_time": "2024-08-13T11:05:51.135Z"
   },
   {
    "duration": 23,
    "start_time": "2024-08-13T11:05:58.824Z"
   },
   {
    "duration": 7,
    "start_time": "2024-08-13T11:06:15.741Z"
   },
   {
    "duration": 6,
    "start_time": "2024-08-13T11:06:18.748Z"
   },
   {
    "duration": 180,
    "start_time": "2024-08-13T11:07:32.873Z"
   },
   {
    "duration": 178,
    "start_time": "2024-08-13T11:07:50.493Z"
   },
   {
    "duration": 198,
    "start_time": "2024-08-13T11:07:55.842Z"
   },
   {
    "duration": 201,
    "start_time": "2024-08-13T11:12:00.192Z"
   },
   {
    "duration": 3,
    "start_time": "2024-08-13T11:12:50.565Z"
   },
   {
    "duration": 4,
    "start_time": "2024-08-13T11:12:56.872Z"
   },
   {
    "duration": 632,
    "start_time": "2024-08-13T11:13:14.222Z"
   },
   {
    "duration": 87,
    "start_time": "2024-08-13T11:13:14.856Z"
   },
   {
    "duration": 14,
    "start_time": "2024-08-13T11:13:14.944Z"
   },
   {
    "duration": 46,
    "start_time": "2024-08-13T11:13:14.960Z"
   },
   {
    "duration": 10,
    "start_time": "2024-08-13T11:13:15.008Z"
   },
   {
    "duration": 45,
    "start_time": "2024-08-13T11:13:15.020Z"
   },
   {
    "duration": 55,
    "start_time": "2024-08-13T11:13:15.067Z"
   },
   {
    "duration": 181,
    "start_time": "2024-08-13T11:13:15.124Z"
   },
   {
    "duration": 3,
    "start_time": "2024-08-13T11:13:15.307Z"
   },
   {
    "duration": 1556,
    "start_time": "2024-08-13T11:13:15.312Z"
   },
   {
    "duration": 224,
    "start_time": "2024-08-13T11:13:16.869Z"
   },
   {
    "duration": 13,
    "start_time": "2024-08-13T11:13:17.095Z"
   },
   {
    "duration": 25,
    "start_time": "2024-08-13T11:13:17.110Z"
   },
   {
    "duration": 4,
    "start_time": "2024-08-13T11:13:17.136Z"
   },
   {
    "duration": 5,
    "start_time": "2024-08-13T11:13:17.142Z"
   },
   {
    "duration": 7,
    "start_time": "2024-08-13T11:13:17.149Z"
   },
   {
    "duration": 552,
    "start_time": "2024-08-13T11:13:17.158Z"
   },
   {
    "duration": 8,
    "start_time": "2024-08-13T11:13:17.712Z"
   },
   {
    "duration": 28,
    "start_time": "2024-08-13T11:13:17.721Z"
   },
   {
    "duration": 550,
    "start_time": "2024-08-13T11:13:17.751Z"
   },
   {
    "duration": 6,
    "start_time": "2024-08-13T11:13:18.302Z"
   },
   {
    "duration": 11,
    "start_time": "2024-08-13T11:13:18.310Z"
   },
   {
    "duration": 237,
    "start_time": "2024-08-13T11:13:18.322Z"
   },
   {
    "duration": 42,
    "start_time": "2024-08-13T11:13:18.561Z"
   },
   {
    "duration": 25,
    "start_time": "2024-08-13T11:13:18.605Z"
   },
   {
    "duration": 362,
    "start_time": "2024-08-13T11:13:18.631Z"
   },
   {
    "duration": 1,
    "start_time": "2024-08-13T11:13:18.994Z"
   },
   {
    "duration": 0,
    "start_time": "2024-08-13T11:13:18.996Z"
   },
   {
    "duration": 0,
    "start_time": "2024-08-13T11:13:18.997Z"
   },
   {
    "duration": 0,
    "start_time": "2024-08-13T11:13:18.998Z"
   },
   {
    "duration": 0,
    "start_time": "2024-08-13T11:13:18.999Z"
   },
   {
    "duration": 0,
    "start_time": "2024-08-13T11:13:19.000Z"
   },
   {
    "duration": 0,
    "start_time": "2024-08-13T11:13:19.001Z"
   },
   {
    "duration": 0,
    "start_time": "2024-08-13T11:13:19.002Z"
   },
   {
    "duration": 0,
    "start_time": "2024-08-13T11:13:19.003Z"
   },
   {
    "duration": 0,
    "start_time": "2024-08-13T11:13:19.004Z"
   },
   {
    "duration": 0,
    "start_time": "2024-08-13T11:13:19.005Z"
   },
   {
    "duration": 0,
    "start_time": "2024-08-13T11:13:19.006Z"
   },
   {
    "duration": 19,
    "start_time": "2024-08-13T11:13:25.062Z"
   },
   {
    "duration": 8,
    "start_time": "2024-08-13T11:13:25.495Z"
   },
   {
    "duration": 665,
    "start_time": "2024-08-13T11:13:25.700Z"
   },
   {
    "duration": 720,
    "start_time": "2024-08-13T11:13:26.367Z"
   },
   {
    "duration": 13,
    "start_time": "2024-08-13T11:13:27.416Z"
   },
   {
    "duration": 9,
    "start_time": "2024-08-13T11:13:27.477Z"
   },
   {
    "duration": 152,
    "start_time": "2024-08-13T11:13:27.564Z"
   },
   {
    "duration": 154,
    "start_time": "2024-08-13T11:13:27.731Z"
   },
   {
    "duration": 5,
    "start_time": "2024-08-13T11:13:27.994Z"
   },
   {
    "duration": 6,
    "start_time": "2024-08-13T11:13:28.148Z"
   },
   {
    "duration": 217,
    "start_time": "2024-08-13T11:13:28.241Z"
   },
   {
    "duration": 4,
    "start_time": "2024-08-13T11:13:28.459Z"
   },
   {
    "duration": 13,
    "start_time": "2024-08-13T11:14:27.728Z"
   },
   {
    "duration": 215,
    "start_time": "2024-08-13T11:15:48.872Z"
   },
   {
    "duration": 138,
    "start_time": "2024-08-13T11:16:15.663Z"
   },
   {
    "duration": 227,
    "start_time": "2024-08-13T11:16:20.227Z"
   },
   {
    "duration": 176,
    "start_time": "2024-08-13T11:16:32.625Z"
   },
   {
    "duration": 232,
    "start_time": "2024-08-13T11:16:52.561Z"
   },
   {
    "duration": 170,
    "start_time": "2024-08-13T11:17:41.464Z"
   },
   {
    "duration": 319,
    "start_time": "2024-08-13T11:17:44.091Z"
   },
   {
    "duration": 14,
    "start_time": "2024-08-13T11:18:01.929Z"
   },
   {
    "duration": 293,
    "start_time": "2024-08-13T11:19:06.094Z"
   },
   {
    "duration": 252,
    "start_time": "2024-08-13T11:19:31.897Z"
   },
   {
    "duration": 245,
    "start_time": "2024-08-13T11:19:36.932Z"
   },
   {
    "duration": 258,
    "start_time": "2024-08-13T11:19:55.644Z"
   },
   {
    "duration": 257,
    "start_time": "2024-08-13T11:20:22.311Z"
   },
   {
    "duration": 257,
    "start_time": "2024-08-13T11:25:26.572Z"
   },
   {
    "duration": 274,
    "start_time": "2024-08-13T11:25:34.350Z"
   },
   {
    "duration": 258,
    "start_time": "2024-08-13T11:25:39.342Z"
   },
   {
    "duration": 255,
    "start_time": "2024-08-13T11:25:50.047Z"
   },
   {
    "duration": 263,
    "start_time": "2024-08-13T11:25:56.107Z"
   },
   {
    "duration": 359,
    "start_time": "2024-08-13T11:26:08.459Z"
   },
   {
    "duration": 260,
    "start_time": "2024-08-13T11:26:13.708Z"
   },
   {
    "duration": 272,
    "start_time": "2024-08-13T11:27:04.990Z"
   },
   {
    "duration": 8,
    "start_time": "2024-08-13T11:35:38.282Z"
   },
   {
    "duration": 43,
    "start_time": "2024-08-13T11:35:43.036Z"
   },
   {
    "duration": 13,
    "start_time": "2024-08-13T11:39:55.941Z"
   },
   {
    "duration": 10,
    "start_time": "2024-08-13T11:40:03.550Z"
   },
   {
    "duration": 9,
    "start_time": "2024-08-13T11:40:08.687Z"
   },
   {
    "duration": 4,
    "start_time": "2024-08-13T11:40:16.097Z"
   },
   {
    "duration": 5,
    "start_time": "2024-08-13T11:40:22.904Z"
   },
   {
    "duration": 12,
    "start_time": "2024-08-13T11:40:32.700Z"
   },
   {
    "duration": 12,
    "start_time": "2024-08-13T11:40:41.030Z"
   },
   {
    "duration": 13,
    "start_time": "2024-08-13T11:40:47.125Z"
   },
   {
    "duration": 669,
    "start_time": "2024-08-13T12:48:13.249Z"
   },
   {
    "duration": 86,
    "start_time": "2024-08-13T12:48:13.920Z"
   },
   {
    "duration": 14,
    "start_time": "2024-08-13T12:48:14.008Z"
   },
   {
    "duration": 17,
    "start_time": "2024-08-13T12:48:14.024Z"
   },
   {
    "duration": 9,
    "start_time": "2024-08-13T12:48:14.043Z"
   },
   {
    "duration": 39,
    "start_time": "2024-08-13T12:48:14.054Z"
   },
   {
    "duration": 22,
    "start_time": "2024-08-13T12:48:14.095Z"
   },
   {
    "duration": 127,
    "start_time": "2024-08-13T12:48:14.118Z"
   },
   {
    "duration": 4,
    "start_time": "2024-08-13T12:48:14.246Z"
   },
   {
    "duration": 1316,
    "start_time": "2024-08-13T12:48:14.253Z"
   },
   {
    "duration": 226,
    "start_time": "2024-08-13T12:48:15.571Z"
   },
   {
    "duration": 14,
    "start_time": "2024-08-13T12:48:15.798Z"
   },
   {
    "duration": 35,
    "start_time": "2024-08-13T12:48:15.814Z"
   },
   {
    "duration": 3,
    "start_time": "2024-08-13T12:48:15.851Z"
   },
   {
    "duration": 11,
    "start_time": "2024-08-13T12:48:15.856Z"
   },
   {
    "duration": 37,
    "start_time": "2024-08-13T12:48:15.869Z"
   },
   {
    "duration": 562,
    "start_time": "2024-08-13T12:48:15.907Z"
   },
   {
    "duration": 17,
    "start_time": "2024-08-13T12:48:16.471Z"
   },
   {
    "duration": 9,
    "start_time": "2024-08-13T12:48:16.489Z"
   },
   {
    "duration": 562,
    "start_time": "2024-08-13T12:48:16.499Z"
   },
   {
    "duration": 7,
    "start_time": "2024-08-13T12:48:17.062Z"
   },
   {
    "duration": 10,
    "start_time": "2024-08-13T12:48:17.070Z"
   },
   {
    "duration": 218,
    "start_time": "2024-08-13T12:48:17.081Z"
   },
   {
    "duration": 35,
    "start_time": "2024-08-13T12:48:17.301Z"
   },
   {
    "duration": 25,
    "start_time": "2024-08-13T12:48:17.338Z"
   },
   {
    "duration": 363,
    "start_time": "2024-08-13T12:48:17.384Z"
   },
   {
    "duration": 0,
    "start_time": "2024-08-13T12:48:17.749Z"
   },
   {
    "duration": 0,
    "start_time": "2024-08-13T12:48:17.750Z"
   },
   {
    "duration": 0,
    "start_time": "2024-08-13T12:48:17.751Z"
   },
   {
    "duration": 0,
    "start_time": "2024-08-13T12:48:17.752Z"
   },
   {
    "duration": 0,
    "start_time": "2024-08-13T12:48:17.753Z"
   },
   {
    "duration": 0,
    "start_time": "2024-08-13T12:48:17.753Z"
   },
   {
    "duration": 0,
    "start_time": "2024-08-13T12:48:17.755Z"
   },
   {
    "duration": 0,
    "start_time": "2024-08-13T12:48:17.756Z"
   },
   {
    "duration": 0,
    "start_time": "2024-08-13T12:48:17.757Z"
   },
   {
    "duration": 0,
    "start_time": "2024-08-13T12:48:17.758Z"
   },
   {
    "duration": 0,
    "start_time": "2024-08-13T12:48:17.759Z"
   },
   {
    "duration": 0,
    "start_time": "2024-08-13T12:48:17.759Z"
   },
   {
    "duration": 0,
    "start_time": "2024-08-13T12:48:17.760Z"
   },
   {
    "duration": 13,
    "start_time": "2024-08-13T12:48:20.658Z"
   },
   {
    "duration": 21,
    "start_time": "2024-08-13T12:48:27.694Z"
   },
   {
    "duration": 8,
    "start_time": "2024-08-13T12:48:28.276Z"
   },
   {
    "duration": 697,
    "start_time": "2024-08-13T12:48:28.355Z"
   },
   {
    "duration": 753,
    "start_time": "2024-08-13T12:48:29.054Z"
   },
   {
    "duration": 11,
    "start_time": "2024-08-13T12:48:29.809Z"
   },
   {
    "duration": 48,
    "start_time": "2024-08-13T12:48:29.822Z"
   },
   {
    "duration": 157,
    "start_time": "2024-08-13T12:48:29.872Z"
   },
   {
    "duration": 164,
    "start_time": "2024-08-13T12:48:30.030Z"
   },
   {
    "duration": 5,
    "start_time": "2024-08-13T12:48:30.195Z"
   },
   {
    "duration": 261,
    "start_time": "2024-08-13T12:48:30.201Z"
   },
   {
    "duration": 411,
    "start_time": "2024-08-13T12:48:30.463Z"
   },
   {
    "duration": 38,
    "start_time": "2024-08-13T12:48:30.876Z"
   },
   {
    "duration": 68,
    "start_time": "2024-08-13T12:48:30.916Z"
   },
   {
    "duration": 7,
    "start_time": "2024-08-13T12:49:16.862Z"
   },
   {
    "duration": 7,
    "start_time": "2024-08-13T12:49:21.391Z"
   },
   {
    "duration": 7,
    "start_time": "2024-08-13T12:49:25.943Z"
   },
   {
    "duration": 7,
    "start_time": "2024-08-13T12:49:28.565Z"
   },
   {
    "duration": 5,
    "start_time": "2024-08-13T12:50:48.265Z"
   },
   {
    "duration": 9,
    "start_time": "2024-08-13T12:50:53.715Z"
   },
   {
    "duration": 6,
    "start_time": "2024-08-13T12:51:40.428Z"
   },
   {
    "duration": 10,
    "start_time": "2024-08-13T12:52:35.375Z"
   },
   {
    "duration": 9,
    "start_time": "2024-08-13T12:52:48.863Z"
   },
   {
    "duration": 10,
    "start_time": "2024-08-13T12:54:22.247Z"
   },
   {
    "duration": 10,
    "start_time": "2024-08-13T12:54:41.181Z"
   },
   {
    "duration": 11,
    "start_time": "2024-08-13T12:54:47.664Z"
   },
   {
    "duration": 10,
    "start_time": "2024-08-13T12:55:03.284Z"
   },
   {
    "duration": 10,
    "start_time": "2024-08-13T12:55:18.167Z"
   },
   {
    "duration": 9,
    "start_time": "2024-08-13T12:55:38.343Z"
   },
   {
    "duration": 22,
    "start_time": "2024-08-13T12:57:03.883Z"
   },
   {
    "duration": 8,
    "start_time": "2024-08-13T13:12:45.670Z"
   },
   {
    "duration": 365,
    "start_time": "2024-08-13T13:12:56.684Z"
   },
   {
    "duration": 144,
    "start_time": "2024-08-13T13:13:05.654Z"
   },
   {
    "duration": 106,
    "start_time": "2024-08-13T13:16:49.009Z"
   },
   {
    "duration": 113,
    "start_time": "2024-08-13T13:17:41.931Z"
   },
   {
    "duration": 118,
    "start_time": "2024-08-13T13:17:47.169Z"
   },
   {
    "duration": 201,
    "start_time": "2024-08-13T13:18:08.204Z"
   },
   {
    "duration": 116,
    "start_time": "2024-08-13T13:18:15.836Z"
   },
   {
    "duration": 140,
    "start_time": "2024-08-13T13:18:27.614Z"
   },
   {
    "duration": 115,
    "start_time": "2024-08-13T13:19:29.485Z"
   },
   {
    "duration": 113,
    "start_time": "2024-08-13T13:19:37.921Z"
   },
   {
    "duration": 141,
    "start_time": "2024-08-13T13:19:47.843Z"
   },
   {
    "duration": 156,
    "start_time": "2024-08-13T13:20:02.749Z"
   },
   {
    "duration": 149,
    "start_time": "2024-08-13T13:20:08.720Z"
   },
   {
    "duration": 184,
    "start_time": "2024-08-13T13:20:40.471Z"
   },
   {
    "duration": 193,
    "start_time": "2024-08-13T13:20:53.668Z"
   },
   {
    "duration": 249,
    "start_time": "2024-08-13T13:20:57.853Z"
   },
   {
    "duration": 295,
    "start_time": "2024-08-13T13:21:05.595Z"
   },
   {
    "duration": 173,
    "start_time": "2024-08-13T13:21:21.859Z"
   },
   {
    "duration": 144,
    "start_time": "2024-08-13T13:22:11.389Z"
   },
   {
    "duration": 138,
    "start_time": "2024-08-13T13:22:16.885Z"
   },
   {
    "duration": 149,
    "start_time": "2024-08-13T13:22:23.433Z"
   },
   {
    "duration": 198,
    "start_time": "2024-08-13T13:22:34.518Z"
   },
   {
    "duration": 163,
    "start_time": "2024-08-13T13:22:40.677Z"
   },
   {
    "duration": 111,
    "start_time": "2024-08-13T13:23:28.946Z"
   },
   {
    "duration": 177,
    "start_time": "2024-08-13T13:23:40.616Z"
   },
   {
    "duration": 197,
    "start_time": "2024-08-13T13:23:58.391Z"
   },
   {
    "duration": 177,
    "start_time": "2024-08-13T13:24:12.857Z"
   },
   {
    "duration": 180,
    "start_time": "2024-08-13T13:24:28.893Z"
   },
   {
    "duration": 200,
    "start_time": "2024-08-13T13:24:37.166Z"
   },
   {
    "duration": 209,
    "start_time": "2024-08-13T13:24:58.452Z"
   },
   {
    "duration": 238,
    "start_time": "2024-08-13T13:25:13.887Z"
   },
   {
    "duration": 230,
    "start_time": "2024-08-13T13:25:20.475Z"
   },
   {
    "duration": 194,
    "start_time": "2024-08-13T13:26:10.703Z"
   },
   {
    "duration": 246,
    "start_time": "2024-08-13T13:26:23.519Z"
   },
   {
    "duration": 214,
    "start_time": "2024-08-13T13:26:37.917Z"
   },
   {
    "duration": 197,
    "start_time": "2024-08-13T13:26:46.335Z"
   },
   {
    "duration": 207,
    "start_time": "2024-08-13T13:26:51.627Z"
   },
   {
    "duration": 8,
    "start_time": "2024-08-13T13:28:06.003Z"
   },
   {
    "duration": 211,
    "start_time": "2024-08-13T13:28:35.380Z"
   },
   {
    "duration": 179,
    "start_time": "2024-08-13T13:28:53.561Z"
   },
   {
    "duration": 1288,
    "start_time": "2024-08-13T13:29:55.531Z"
   },
   {
    "duration": 33,
    "start_time": "2024-08-13T13:30:13.361Z"
   },
   {
    "duration": 485,
    "start_time": "2024-08-13T13:30:29.762Z"
   },
   {
    "duration": 466,
    "start_time": "2024-08-13T13:31:30.009Z"
   },
   {
    "duration": 507,
    "start_time": "2024-08-13T13:31:44.417Z"
   },
   {
    "duration": 504,
    "start_time": "2024-08-13T13:31:56.441Z"
   },
   {
    "duration": 611,
    "start_time": "2024-08-13T13:32:09.255Z"
   },
   {
    "duration": 484,
    "start_time": "2024-08-13T13:32:31.122Z"
   },
   {
    "duration": 352,
    "start_time": "2024-08-13T13:32:55.332Z"
   },
   {
    "duration": 528,
    "start_time": "2024-08-13T13:33:39.018Z"
   },
   {
    "duration": 635,
    "start_time": "2024-08-13T13:34:45.382Z"
   },
   {
    "duration": 523,
    "start_time": "2024-08-13T13:35:22.293Z"
   },
   {
    "duration": 185,
    "start_time": "2024-08-13T13:35:40.252Z"
   },
   {
    "duration": 165,
    "start_time": "2024-08-13T13:35:45.352Z"
   },
   {
    "duration": 172,
    "start_time": "2024-08-13T13:36:20.942Z"
   },
   {
    "duration": 168,
    "start_time": "2024-08-13T13:36:31.805Z"
   },
   {
    "duration": 243,
    "start_time": "2024-08-13T13:36:52.983Z"
   },
   {
    "duration": 265,
    "start_time": "2024-08-13T13:37:02.391Z"
   },
   {
    "duration": 170,
    "start_time": "2024-08-13T13:37:16.840Z"
   },
   {
    "duration": 283,
    "start_time": "2024-08-13T13:37:21.283Z"
   },
   {
    "duration": 165,
    "start_time": "2024-08-13T13:37:26.730Z"
   },
   {
    "duration": 8,
    "start_time": "2024-08-13T13:38:21.383Z"
   },
   {
    "duration": 50,
    "start_time": "2024-08-13T13:39:55.717Z"
   },
   {
    "duration": 201,
    "start_time": "2024-08-13T13:40:00.329Z"
   },
   {
    "duration": 123,
    "start_time": "2024-08-13T13:40:11.527Z"
   },
   {
    "duration": 153,
    "start_time": "2024-08-13T13:40:19.002Z"
   },
   {
    "duration": 143,
    "start_time": "2024-08-13T13:41:07.668Z"
   },
   {
    "duration": 387,
    "start_time": "2024-08-13T13:41:42.044Z"
   },
   {
    "duration": 433,
    "start_time": "2024-08-13T13:42:01.913Z"
   },
   {
    "duration": 543,
    "start_time": "2024-08-13T13:42:07.388Z"
   },
   {
    "duration": 431,
    "start_time": "2024-08-13T13:42:31.524Z"
   },
   {
    "duration": 451,
    "start_time": "2024-08-13T13:42:39.096Z"
   },
   {
    "duration": 423,
    "start_time": "2024-08-13T13:42:45.209Z"
   },
   {
    "duration": 452,
    "start_time": "2024-08-13T13:42:50.590Z"
   },
   {
    "duration": 425,
    "start_time": "2024-08-13T13:42:55.200Z"
   },
   {
    "duration": 580,
    "start_time": "2024-08-13T13:43:04.220Z"
   },
   {
    "duration": 422,
    "start_time": "2024-08-13T13:44:27.972Z"
   },
   {
    "duration": 7,
    "start_time": "2024-08-13T13:48:03.739Z"
   },
   {
    "duration": 8,
    "start_time": "2024-08-13T13:48:08.875Z"
   },
   {
    "duration": 138,
    "start_time": "2024-08-13T13:48:47.186Z"
   },
   {
    "duration": 375,
    "start_time": "2024-08-13T13:48:58.547Z"
   },
   {
    "duration": 49,
    "start_time": "2024-08-13T13:49:28.825Z"
   },
   {
    "duration": 46,
    "start_time": "2024-08-13T13:50:24.887Z"
   },
   {
    "duration": 48,
    "start_time": "2024-08-13T13:51:00.548Z"
   },
   {
    "duration": 55,
    "start_time": "2024-08-13T13:51:11.452Z"
   },
   {
    "duration": 353,
    "start_time": "2024-08-13T13:51:20.059Z"
   },
   {
    "duration": 23,
    "start_time": "2024-08-13T13:52:41.017Z"
   },
   {
    "duration": 1008,
    "start_time": "2024-08-13T13:53:18.019Z"
   },
   {
    "duration": 470,
    "start_time": "2024-08-13T13:53:42.159Z"
   },
   {
    "duration": 23,
    "start_time": "2024-08-13T13:58:16.959Z"
   },
   {
    "duration": 4,
    "start_time": "2024-08-13T13:58:17.840Z"
   },
   {
    "duration": 57,
    "start_time": "2024-08-13T13:58:32.988Z"
   },
   {
    "duration": 366,
    "start_time": "2024-08-13T13:58:40.404Z"
   },
   {
    "duration": 65,
    "start_time": "2024-08-13T13:59:07.419Z"
   },
   {
    "duration": 7,
    "start_time": "2024-08-13T13:59:35.821Z"
   },
   {
    "duration": 52,
    "start_time": "2024-08-13T13:59:42.381Z"
   },
   {
    "duration": 507,
    "start_time": "2024-08-13T14:00:16.718Z"
   },
   {
    "duration": 10,
    "start_time": "2024-08-13T14:00:23.822Z"
   },
   {
    "duration": 10,
    "start_time": "2024-08-13T14:01:41.212Z"
   },
   {
    "duration": 12,
    "start_time": "2024-08-13T14:02:11.918Z"
   },
   {
    "duration": 11,
    "start_time": "2024-08-13T14:02:33.242Z"
   },
   {
    "duration": 10,
    "start_time": "2024-08-13T14:02:47.774Z"
   },
   {
    "duration": 6,
    "start_time": "2024-08-13T14:02:52.492Z"
   },
   {
    "duration": 11,
    "start_time": "2024-08-13T14:02:54.237Z"
   },
   {
    "duration": 146,
    "start_time": "2024-08-13T14:03:31.344Z"
   },
   {
    "duration": 11,
    "start_time": "2024-08-13T14:05:10.688Z"
   },
   {
    "duration": 12,
    "start_time": "2024-08-13T14:05:14.865Z"
   },
   {
    "duration": 12,
    "start_time": "2024-08-13T14:05:27.327Z"
   },
   {
    "duration": 12,
    "start_time": "2024-08-13T14:05:39.846Z"
   },
   {
    "duration": 11,
    "start_time": "2024-08-13T14:05:46.916Z"
   },
   {
    "duration": 13,
    "start_time": "2024-08-13T14:05:49.695Z"
   },
   {
    "duration": 13,
    "start_time": "2024-08-13T14:07:26.071Z"
   },
   {
    "duration": 41,
    "start_time": "2024-08-13T14:07:58.483Z"
   },
   {
    "duration": 37,
    "start_time": "2024-08-13T14:08:12.597Z"
   },
   {
    "duration": 42,
    "start_time": "2024-08-13T14:08:19.056Z"
   },
   {
    "duration": 26,
    "start_time": "2024-08-13T14:08:23.510Z"
   },
   {
    "duration": 28,
    "start_time": "2024-08-13T14:08:31.450Z"
   },
   {
    "duration": 31,
    "start_time": "2024-08-13T14:08:38.784Z"
   },
   {
    "duration": 21,
    "start_time": "2024-08-13T14:11:07.813Z"
   },
   {
    "duration": 9,
    "start_time": "2024-08-13T14:11:49.467Z"
   },
   {
    "duration": 25,
    "start_time": "2024-08-13T14:12:05.893Z"
   },
   {
    "duration": 23,
    "start_time": "2024-08-13T14:17:37.019Z"
   },
   {
    "duration": 20,
    "start_time": "2024-08-13T14:17:47.278Z"
   },
   {
    "duration": 24,
    "start_time": "2024-08-13T14:18:01.997Z"
   },
   {
    "duration": 33,
    "start_time": "2024-08-13T14:18:08.399Z"
   },
   {
    "duration": 24,
    "start_time": "2024-08-13T14:18:26.474Z"
   },
   {
    "duration": 10,
    "start_time": "2024-08-13T14:18:39.890Z"
   },
   {
    "duration": 25,
    "start_time": "2024-08-13T14:18:49.084Z"
   },
   {
    "duration": 6,
    "start_time": "2024-08-13T14:30:30.054Z"
   },
   {
    "duration": 13,
    "start_time": "2024-08-13T14:31:17.519Z"
   },
   {
    "duration": 449,
    "start_time": "2024-08-13T14:31:37.070Z"
   },
   {
    "duration": 13,
    "start_time": "2024-08-13T14:31:44.313Z"
   },
   {
    "duration": 9,
    "start_time": "2024-08-13T14:31:57.699Z"
   },
   {
    "duration": 9,
    "start_time": "2024-08-13T14:32:42.243Z"
   },
   {
    "duration": 11,
    "start_time": "2024-08-13T14:33:35.480Z"
   },
   {
    "duration": 11,
    "start_time": "2024-08-13T14:33:41.373Z"
   },
   {
    "duration": 11,
    "start_time": "2024-08-13T14:33:47.704Z"
   },
   {
    "duration": 25,
    "start_time": "2024-08-13T14:38:46.970Z"
   },
   {
    "duration": 11,
    "start_time": "2024-08-13T14:39:09.772Z"
   },
   {
    "duration": 12,
    "start_time": "2024-08-13T14:40:23.664Z"
   },
   {
    "duration": 13,
    "start_time": "2024-08-13T14:40:52.275Z"
   },
   {
    "duration": 17,
    "start_time": "2024-08-13T14:44:58.404Z"
   },
   {
    "duration": 12,
    "start_time": "2024-08-13T14:45:00.971Z"
   },
   {
    "duration": 11,
    "start_time": "2024-08-13T14:46:22.764Z"
   },
   {
    "duration": 363,
    "start_time": "2024-08-13T14:47:41.327Z"
   },
   {
    "duration": 5455,
    "start_time": "2024-08-13T14:47:48.121Z"
   },
   {
    "duration": 1068,
    "start_time": "2024-08-13T14:48:01.092Z"
   },
   {
    "duration": 88,
    "start_time": "2024-08-13T14:48:02.162Z"
   },
   {
    "duration": 144,
    "start_time": "2024-08-13T14:48:02.251Z"
   },
   {
    "duration": 102,
    "start_time": "2024-08-13T14:48:02.397Z"
   },
   {
    "duration": 41,
    "start_time": "2024-08-13T14:48:02.500Z"
   },
   {
    "duration": 96,
    "start_time": "2024-08-13T14:48:02.542Z"
   },
   {
    "duration": 127,
    "start_time": "2024-08-13T14:48:02.639Z"
   },
   {
    "duration": 133,
    "start_time": "2024-08-13T14:48:02.768Z"
   },
   {
    "duration": 4,
    "start_time": "2024-08-13T14:48:02.903Z"
   },
   {
    "duration": 1287,
    "start_time": "2024-08-13T14:48:02.909Z"
   },
   {
    "duration": 213,
    "start_time": "2024-08-13T14:48:04.197Z"
   },
   {
    "duration": 13,
    "start_time": "2024-08-13T14:48:04.412Z"
   },
   {
    "duration": 27,
    "start_time": "2024-08-13T14:48:04.427Z"
   },
   {
    "duration": 7,
    "start_time": "2024-08-13T14:48:04.455Z"
   },
   {
    "duration": 7,
    "start_time": "2024-08-13T14:48:04.464Z"
   },
   {
    "duration": 12,
    "start_time": "2024-08-13T14:48:04.472Z"
   },
   {
    "duration": 511,
    "start_time": "2024-08-13T14:48:04.486Z"
   },
   {
    "duration": 8,
    "start_time": "2024-08-13T14:48:04.999Z"
   },
   {
    "duration": 29,
    "start_time": "2024-08-13T14:48:05.008Z"
   },
   {
    "duration": 678,
    "start_time": "2024-08-13T14:48:05.038Z"
   },
   {
    "duration": 7,
    "start_time": "2024-08-13T14:48:05.718Z"
   },
   {
    "duration": 8,
    "start_time": "2024-08-13T14:48:05.726Z"
   },
   {
    "duration": 201,
    "start_time": "2024-08-13T14:48:05.735Z"
   },
   {
    "duration": 47,
    "start_time": "2024-08-13T14:48:05.937Z"
   },
   {
    "duration": 28,
    "start_time": "2024-08-13T14:48:05.986Z"
   },
   {
    "duration": 5452,
    "start_time": "2024-08-13T14:48:06.015Z"
   },
   {
    "duration": 29,
    "start_time": "2024-08-13T14:48:11.468Z"
   },
   {
    "duration": 7,
    "start_time": "2024-08-13T14:48:11.501Z"
   },
   {
    "duration": 657,
    "start_time": "2024-08-13T14:48:11.509Z"
   },
   {
    "duration": 652,
    "start_time": "2024-08-13T14:48:12.167Z"
   },
   {
    "duration": 11,
    "start_time": "2024-08-13T14:48:12.821Z"
   },
   {
    "duration": 19,
    "start_time": "2024-08-13T14:48:12.834Z"
   },
   {
    "duration": 357,
    "start_time": "2024-08-13T14:48:12.854Z"
   },
   {
    "duration": 157,
    "start_time": "2024-08-13T14:48:13.213Z"
   },
   {
    "duration": 14,
    "start_time": "2024-08-13T14:48:13.372Z"
   },
   {
    "duration": 57,
    "start_time": "2024-08-13T14:48:13.388Z"
   },
   {
    "duration": 254,
    "start_time": "2024-08-13T14:48:13.447Z"
   },
   {
    "duration": 22,
    "start_time": "2024-08-13T14:48:13.703Z"
   },
   {
    "duration": 371,
    "start_time": "2024-08-13T14:48:13.727Z"
   },
   {
    "duration": 23,
    "start_time": "2024-08-13T14:48:14.100Z"
   },
   {
    "duration": 428,
    "start_time": "2024-08-13T14:48:14.125Z"
   },
   {
    "duration": 34,
    "start_time": "2024-08-13T14:48:14.555Z"
   },
   {
    "duration": 23,
    "start_time": "2024-08-13T14:48:14.591Z"
   },
   {
    "duration": 13,
    "start_time": "2024-08-13T14:48:14.615Z"
   },
   {
    "duration": 23,
    "start_time": "2024-08-13T14:48:14.629Z"
   },
   {
    "duration": 36,
    "start_time": "2024-08-13T14:48:14.654Z"
   },
   {
    "duration": 1200,
    "start_time": "2024-08-13T15:05:18.854Z"
   },
   {
    "duration": 87,
    "start_time": "2024-08-13T15:05:20.056Z"
   },
   {
    "duration": 14,
    "start_time": "2024-08-13T15:05:20.144Z"
   },
   {
    "duration": 27,
    "start_time": "2024-08-13T15:05:20.160Z"
   },
   {
    "duration": 9,
    "start_time": "2024-08-13T15:05:20.189Z"
   },
   {
    "duration": 18,
    "start_time": "2024-08-13T15:05:20.199Z"
   },
   {
    "duration": 38,
    "start_time": "2024-08-13T15:05:20.219Z"
   },
   {
    "duration": 111,
    "start_time": "2024-08-13T15:05:20.259Z"
   },
   {
    "duration": 4,
    "start_time": "2024-08-13T15:05:20.371Z"
   },
   {
    "duration": 1266,
    "start_time": "2024-08-13T15:05:20.383Z"
   },
   {
    "duration": 220,
    "start_time": "2024-08-13T15:05:21.650Z"
   },
   {
    "duration": 17,
    "start_time": "2024-08-13T15:05:21.871Z"
   },
   {
    "duration": 19,
    "start_time": "2024-08-13T15:05:21.890Z"
   },
   {
    "duration": 9,
    "start_time": "2024-08-13T15:05:21.911Z"
   },
   {
    "duration": 20,
    "start_time": "2024-08-13T15:05:21.922Z"
   },
   {
    "duration": 57,
    "start_time": "2024-08-13T15:05:21.943Z"
   },
   {
    "duration": 526,
    "start_time": "2024-08-13T15:05:22.002Z"
   },
   {
    "duration": 8,
    "start_time": "2024-08-13T15:05:22.530Z"
   },
   {
    "duration": 22,
    "start_time": "2024-08-13T15:05:22.539Z"
   },
   {
    "duration": 623,
    "start_time": "2024-08-13T15:05:22.562Z"
   },
   {
    "duration": 7,
    "start_time": "2024-08-13T15:05:23.187Z"
   },
   {
    "duration": 37,
    "start_time": "2024-08-13T15:05:23.195Z"
   },
   {
    "duration": 241,
    "start_time": "2024-08-13T15:05:23.233Z"
   },
   {
    "duration": 42,
    "start_time": "2024-08-13T15:05:23.475Z"
   },
   {
    "duration": 26,
    "start_time": "2024-08-13T15:05:23.519Z"
   },
   {
    "duration": 5412,
    "start_time": "2024-08-13T15:05:23.546Z"
   },
   {
    "duration": 27,
    "start_time": "2024-08-13T15:05:28.960Z"
   },
   {
    "duration": 7,
    "start_time": "2024-08-13T15:05:28.990Z"
   },
   {
    "duration": 722,
    "start_time": "2024-08-13T15:05:28.998Z"
   },
   {
    "duration": 632,
    "start_time": "2024-08-13T15:05:29.722Z"
   },
   {
    "duration": 12,
    "start_time": "2024-08-13T15:05:30.355Z"
   },
   {
    "duration": 96,
    "start_time": "2024-08-13T15:05:30.369Z"
   },
   {
    "duration": 389,
    "start_time": "2024-08-13T15:05:30.467Z"
   },
   {
    "duration": 163,
    "start_time": "2024-08-13T15:05:30.858Z"
   },
   {
    "duration": 7,
    "start_time": "2024-08-13T15:05:31.023Z"
   },
   {
    "duration": 321,
    "start_time": "2024-08-13T15:05:31.032Z"
   },
   {
    "duration": 36,
    "start_time": "2024-08-13T15:05:31.355Z"
   },
   {
    "duration": 363,
    "start_time": "2024-08-13T15:05:31.393Z"
   },
   {
    "duration": 37,
    "start_time": "2024-08-13T15:05:31.757Z"
   },
   {
    "duration": 379,
    "start_time": "2024-08-13T15:05:31.796Z"
   },
   {
    "duration": 34,
    "start_time": "2024-08-13T15:05:32.176Z"
   },
   {
    "duration": 40,
    "start_time": "2024-08-13T15:05:32.212Z"
   },
   {
    "duration": 37,
    "start_time": "2024-08-13T15:05:32.253Z"
   },
   {
    "duration": 84,
    "start_time": "2024-08-13T15:05:32.291Z"
   },
   {
    "duration": 42,
    "start_time": "2024-08-13T15:05:32.376Z"
   },
   {
    "duration": 1234,
    "start_time": "2024-08-13T15:36:24.488Z"
   },
   {
    "duration": 254,
    "start_time": "2024-08-13T15:36:25.724Z"
   },
   {
    "duration": 14,
    "start_time": "2024-08-13T15:36:25.980Z"
   },
   {
    "duration": 19,
    "start_time": "2024-08-13T15:36:25.995Z"
   },
   {
    "duration": 10,
    "start_time": "2024-08-13T15:36:26.016Z"
   },
   {
    "duration": 35,
    "start_time": "2024-08-13T15:36:26.028Z"
   },
   {
    "duration": 22,
    "start_time": "2024-08-13T15:36:26.065Z"
   },
   {
    "duration": 124,
    "start_time": "2024-08-13T15:36:26.088Z"
   },
   {
    "duration": 3,
    "start_time": "2024-08-13T15:36:26.214Z"
   },
   {
    "duration": 1270,
    "start_time": "2024-08-13T15:36:26.219Z"
   },
   {
    "duration": 219,
    "start_time": "2024-08-13T15:36:27.491Z"
   },
   {
    "duration": 13,
    "start_time": "2024-08-13T15:36:27.712Z"
   },
   {
    "duration": 9,
    "start_time": "2024-08-13T15:36:27.726Z"
   },
   {
    "duration": 4,
    "start_time": "2024-08-13T15:36:27.753Z"
   },
   {
    "duration": 5,
    "start_time": "2024-08-13T15:36:27.758Z"
   },
   {
    "duration": 44,
    "start_time": "2024-08-13T15:36:27.765Z"
   },
   {
    "duration": 462,
    "start_time": "2024-08-13T15:36:27.811Z"
   },
   {
    "duration": 8,
    "start_time": "2024-08-13T15:36:28.275Z"
   },
   {
    "duration": 7,
    "start_time": "2024-08-13T15:36:28.284Z"
   },
   {
    "duration": 576,
    "start_time": "2024-08-13T15:36:28.293Z"
   },
   {
    "duration": 6,
    "start_time": "2024-08-13T15:36:28.870Z"
   },
   {
    "duration": 15,
    "start_time": "2024-08-13T15:36:28.877Z"
   },
   {
    "duration": 221,
    "start_time": "2024-08-13T15:36:28.894Z"
   },
   {
    "duration": 47,
    "start_time": "2024-08-13T15:36:29.117Z"
   },
   {
    "duration": 24,
    "start_time": "2024-08-13T15:36:29.165Z"
   },
   {
    "duration": 5407,
    "start_time": "2024-08-13T15:36:29.191Z"
   },
   {
    "duration": 18,
    "start_time": "2024-08-13T15:36:34.600Z"
   },
   {
    "duration": 7,
    "start_time": "2024-08-13T15:36:34.620Z"
   },
   {
    "duration": 738,
    "start_time": "2024-08-13T15:36:34.629Z"
   },
   {
    "duration": 674,
    "start_time": "2024-08-13T15:36:35.368Z"
   },
   {
    "duration": 17,
    "start_time": "2024-08-13T15:36:36.043Z"
   },
   {
    "duration": 13,
    "start_time": "2024-08-13T15:36:36.062Z"
   },
   {
    "duration": 360,
    "start_time": "2024-08-13T15:36:36.076Z"
   },
   {
    "duration": 172,
    "start_time": "2024-08-13T15:36:36.438Z"
   },
   {
    "duration": 8,
    "start_time": "2024-08-13T15:36:36.611Z"
   },
   {
    "duration": 281,
    "start_time": "2024-08-13T15:36:36.621Z"
   },
   {
    "duration": 22,
    "start_time": "2024-08-13T15:36:36.903Z"
   },
   {
    "duration": 388,
    "start_time": "2024-08-13T15:36:36.926Z"
   },
   {
    "duration": 21,
    "start_time": "2024-08-13T15:36:37.316Z"
   },
   {
    "duration": 377,
    "start_time": "2024-08-13T15:36:37.352Z"
   },
   {
    "duration": 35,
    "start_time": "2024-08-13T15:36:37.734Z"
   },
   {
    "duration": 18,
    "start_time": "2024-08-13T15:36:37.770Z"
   },
   {
    "duration": 11,
    "start_time": "2024-08-13T15:36:37.790Z"
   },
   {
    "duration": 50,
    "start_time": "2024-08-13T15:36:37.803Z"
   },
   {
    "duration": 12,
    "start_time": "2024-08-13T15:36:37.854Z"
   },
   {
    "duration": 298,
    "start_time": "2024-08-13T16:07:28.097Z"
   },
   {
    "duration": 5,
    "start_time": "2024-08-13T16:26:03.125Z"
   },
   {
    "duration": 5,
    "start_time": "2024-08-13T16:26:33.754Z"
   },
   {
    "duration": 11,
    "start_time": "2024-08-13T16:26:41.602Z"
   },
   {
    "duration": 6,
    "start_time": "2024-08-13T16:26:47.977Z"
   },
   {
    "duration": 4,
    "start_time": "2024-08-13T16:27:46.400Z"
   },
   {
    "duration": 1110,
    "start_time": "2024-08-13T16:27:57.367Z"
   },
   {
    "duration": 88,
    "start_time": "2024-08-13T16:27:58.479Z"
   },
   {
    "duration": 14,
    "start_time": "2024-08-13T16:27:58.569Z"
   },
   {
    "duration": 19,
    "start_time": "2024-08-13T16:27:58.585Z"
   },
   {
    "duration": 5,
    "start_time": "2024-08-13T16:27:58.606Z"
   },
   {
    "duration": 12,
    "start_time": "2024-08-13T16:27:58.612Z"
   },
   {
    "duration": 9,
    "start_time": "2024-08-13T16:27:58.625Z"
   },
   {
    "duration": 13,
    "start_time": "2024-08-13T16:27:58.636Z"
   },
   {
    "duration": 34,
    "start_time": "2024-08-13T16:27:58.651Z"
   },
   {
    "duration": 833,
    "start_time": "2024-08-13T16:27:58.686Z"
   },
   {
    "duration": 0,
    "start_time": "2024-08-13T16:27:59.523Z"
   },
   {
    "duration": 0,
    "start_time": "2024-08-13T16:27:59.525Z"
   },
   {
    "duration": 0,
    "start_time": "2024-08-13T16:27:59.526Z"
   },
   {
    "duration": 0,
    "start_time": "2024-08-13T16:27:59.527Z"
   },
   {
    "duration": 0,
    "start_time": "2024-08-13T16:27:59.528Z"
   },
   {
    "duration": 0,
    "start_time": "2024-08-13T16:27:59.529Z"
   },
   {
    "duration": 0,
    "start_time": "2024-08-13T16:27:59.530Z"
   },
   {
    "duration": 0,
    "start_time": "2024-08-13T16:27:59.532Z"
   },
   {
    "duration": 0,
    "start_time": "2024-08-13T16:27:59.533Z"
   },
   {
    "duration": 0,
    "start_time": "2024-08-13T16:27:59.534Z"
   },
   {
    "duration": 0,
    "start_time": "2024-08-13T16:27:59.535Z"
   },
   {
    "duration": 0,
    "start_time": "2024-08-13T16:27:59.536Z"
   },
   {
    "duration": 0,
    "start_time": "2024-08-13T16:27:59.538Z"
   },
   {
    "duration": 0,
    "start_time": "2024-08-13T16:27:59.539Z"
   },
   {
    "duration": 0,
    "start_time": "2024-08-13T16:27:59.540Z"
   },
   {
    "duration": 0,
    "start_time": "2024-08-13T16:27:59.541Z"
   },
   {
    "duration": 0,
    "start_time": "2024-08-13T16:27:59.543Z"
   },
   {
    "duration": 0,
    "start_time": "2024-08-13T16:27:59.543Z"
   },
   {
    "duration": 0,
    "start_time": "2024-08-13T16:27:59.544Z"
   },
   {
    "duration": 0,
    "start_time": "2024-08-13T16:27:59.545Z"
   },
   {
    "duration": 0,
    "start_time": "2024-08-13T16:27:59.546Z"
   },
   {
    "duration": 0,
    "start_time": "2024-08-13T16:27:59.547Z"
   },
   {
    "duration": 0,
    "start_time": "2024-08-13T16:27:59.549Z"
   },
   {
    "duration": 0,
    "start_time": "2024-08-13T16:27:59.550Z"
   },
   {
    "duration": 0,
    "start_time": "2024-08-13T16:27:59.551Z"
   },
   {
    "duration": 0,
    "start_time": "2024-08-13T16:27:59.552Z"
   },
   {
    "duration": 0,
    "start_time": "2024-08-13T16:27:59.553Z"
   },
   {
    "duration": 0,
    "start_time": "2024-08-13T16:27:59.554Z"
   },
   {
    "duration": 0,
    "start_time": "2024-08-13T16:27:59.555Z"
   },
   {
    "duration": 0,
    "start_time": "2024-08-13T16:27:59.556Z"
   },
   {
    "duration": 0,
    "start_time": "2024-08-13T16:27:59.557Z"
   },
   {
    "duration": 0,
    "start_time": "2024-08-13T16:27:59.558Z"
   },
   {
    "duration": 0,
    "start_time": "2024-08-13T16:27:59.559Z"
   },
   {
    "duration": 0,
    "start_time": "2024-08-13T16:27:59.584Z"
   },
   {
    "duration": 0,
    "start_time": "2024-08-13T16:27:59.585Z"
   },
   {
    "duration": 0,
    "start_time": "2024-08-13T16:27:59.586Z"
   },
   {
    "duration": 0,
    "start_time": "2024-08-13T16:27:59.587Z"
   },
   {
    "duration": 0,
    "start_time": "2024-08-13T16:27:59.588Z"
   },
   {
    "duration": 0,
    "start_time": "2024-08-13T16:27:59.589Z"
   },
   {
    "duration": 6,
    "start_time": "2024-08-13T16:28:18.013Z"
   },
   {
    "duration": 1210,
    "start_time": "2024-08-13T16:28:27.868Z"
   },
   {
    "duration": 95,
    "start_time": "2024-08-13T16:28:29.081Z"
   },
   {
    "duration": 20,
    "start_time": "2024-08-13T16:28:29.178Z"
   },
   {
    "duration": 25,
    "start_time": "2024-08-13T16:28:29.200Z"
   },
   {
    "duration": 6,
    "start_time": "2024-08-13T16:28:29.227Z"
   },
   {
    "duration": 7,
    "start_time": "2024-08-13T16:28:29.235Z"
   },
   {
    "duration": 10,
    "start_time": "2024-08-13T16:28:29.244Z"
   },
   {
    "duration": 39,
    "start_time": "2024-08-13T16:28:29.256Z"
   },
   {
    "duration": 14,
    "start_time": "2024-08-13T16:28:29.296Z"
   },
   {
    "duration": 28,
    "start_time": "2024-08-13T16:28:29.311Z"
   },
   {
    "duration": 45,
    "start_time": "2024-08-13T16:28:29.341Z"
   },
   {
    "duration": 133,
    "start_time": "2024-08-13T16:28:29.388Z"
   },
   {
    "duration": 4,
    "start_time": "2024-08-13T16:28:29.522Z"
   },
   {
    "duration": 1317,
    "start_time": "2024-08-13T16:28:29.529Z"
   },
   {
    "duration": 264,
    "start_time": "2024-08-13T16:28:30.848Z"
   },
   {
    "duration": 13,
    "start_time": "2024-08-13T16:28:31.113Z"
   },
   {
    "duration": 14,
    "start_time": "2024-08-13T16:28:31.183Z"
   },
   {
    "duration": 34,
    "start_time": "2024-08-13T16:28:31.198Z"
   },
   {
    "duration": 84,
    "start_time": "2024-08-13T16:28:31.234Z"
   },
   {
    "duration": 39,
    "start_time": "2024-08-13T16:28:31.319Z"
   },
   {
    "duration": 831,
    "start_time": "2024-08-13T16:28:31.360Z"
   },
   {
    "duration": 8,
    "start_time": "2024-08-13T16:28:32.193Z"
   },
   {
    "duration": 86,
    "start_time": "2024-08-13T16:28:32.203Z"
   },
   {
    "duration": 665,
    "start_time": "2024-08-13T16:28:32.291Z"
   },
   {
    "duration": 6,
    "start_time": "2024-08-13T16:28:32.958Z"
   },
   {
    "duration": 16,
    "start_time": "2024-08-13T16:28:32.965Z"
   },
   {
    "duration": 212,
    "start_time": "2024-08-13T16:28:32.983Z"
   },
   {
    "duration": 35,
    "start_time": "2024-08-13T16:28:33.197Z"
   },
   {
    "duration": 25,
    "start_time": "2024-08-13T16:28:33.234Z"
   },
   {
    "duration": 5498,
    "start_time": "2024-08-13T16:28:33.260Z"
   },
   {
    "duration": 328,
    "start_time": "2024-08-13T16:28:38.760Z"
   },
   {
    "duration": 19,
    "start_time": "2024-08-13T16:28:39.090Z"
   },
   {
    "duration": 8,
    "start_time": "2024-08-13T16:28:39.110Z"
   },
   {
    "duration": 738,
    "start_time": "2024-08-13T16:28:39.119Z"
   },
   {
    "duration": 828,
    "start_time": "2024-08-13T16:28:39.858Z"
   },
   {
    "duration": 11,
    "start_time": "2024-08-13T16:28:40.688Z"
   },
   {
    "duration": 11,
    "start_time": "2024-08-13T16:28:40.701Z"
   },
   {
    "duration": 180,
    "start_time": "2024-08-13T16:28:40.713Z"
   },
   {
    "duration": 171,
    "start_time": "2024-08-13T16:28:40.894Z"
   },
   {
    "duration": 18,
    "start_time": "2024-08-13T16:28:41.067Z"
   },
   {
    "duration": 262,
    "start_time": "2024-08-13T16:28:41.089Z"
   },
   {
    "duration": 31,
    "start_time": "2024-08-13T16:28:41.353Z"
   },
   {
    "duration": 383,
    "start_time": "2024-08-13T16:28:41.386Z"
   },
   {
    "duration": 27,
    "start_time": "2024-08-13T16:28:41.770Z"
   },
   {
    "duration": 380,
    "start_time": "2024-08-13T16:28:41.798Z"
   },
   {
    "duration": 26,
    "start_time": "2024-08-13T16:28:42.184Z"
   },
   {
    "duration": 70,
    "start_time": "2024-08-13T16:28:42.211Z"
   },
   {
    "duration": 36,
    "start_time": "2024-08-13T16:28:42.282Z"
   },
   {
    "duration": 112,
    "start_time": "2024-08-13T16:28:42.320Z"
   },
   {
    "duration": 16,
    "start_time": "2024-08-13T16:28:42.434Z"
   },
   {
    "duration": 8,
    "start_time": "2024-08-13T16:28:47.377Z"
   },
   {
    "duration": 21,
    "start_time": "2024-08-13T16:28:49.251Z"
   },
   {
    "duration": 16,
    "start_time": "2024-08-13T16:29:21.213Z"
   },
   {
    "duration": 6,
    "start_time": "2024-08-13T16:30:12.513Z"
   },
   {
    "duration": 8,
    "start_time": "2024-08-13T16:30:20.147Z"
   },
   {
    "duration": 23,
    "start_time": "2024-08-13T16:30:26.854Z"
   },
   {
    "duration": 7,
    "start_time": "2024-08-13T16:30:34.098Z"
   },
   {
    "duration": 5,
    "start_time": "2024-08-13T16:30:38.143Z"
   },
   {
    "duration": 6,
    "start_time": "2024-08-13T16:31:45.595Z"
   },
   {
    "duration": 1131,
    "start_time": "2024-08-13T16:31:55.704Z"
   },
   {
    "duration": 88,
    "start_time": "2024-08-13T16:31:56.837Z"
   },
   {
    "duration": 15,
    "start_time": "2024-08-13T16:31:56.927Z"
   },
   {
    "duration": 20,
    "start_time": "2024-08-13T16:31:56.944Z"
   },
   {
    "duration": 21,
    "start_time": "2024-08-13T16:31:56.966Z"
   },
   {
    "duration": 6,
    "start_time": "2024-08-13T16:31:56.989Z"
   },
   {
    "duration": 10,
    "start_time": "2024-08-13T16:31:56.997Z"
   },
   {
    "duration": 19,
    "start_time": "2024-08-13T16:31:57.008Z"
   },
   {
    "duration": 16,
    "start_time": "2024-08-13T16:31:57.028Z"
   },
   {
    "duration": 9,
    "start_time": "2024-08-13T16:31:57.046Z"
   },
   {
    "duration": 139,
    "start_time": "2024-08-13T16:31:57.056Z"
   },
   {
    "duration": 3,
    "start_time": "2024-08-13T16:31:57.197Z"
   },
   {
    "duration": 1901,
    "start_time": "2024-08-13T16:31:57.201Z"
   },
   {
    "duration": 414,
    "start_time": "2024-08-13T16:31:59.104Z"
   },
   {
    "duration": 14,
    "start_time": "2024-08-13T16:31:59.519Z"
   },
   {
    "duration": 14,
    "start_time": "2024-08-13T16:31:59.534Z"
   },
   {
    "duration": 11,
    "start_time": "2024-08-13T16:31:59.549Z"
   },
   {
    "duration": 26,
    "start_time": "2024-08-13T16:31:59.561Z"
   },
   {
    "duration": 14,
    "start_time": "2024-08-13T16:31:59.589Z"
   },
   {
    "duration": 497,
    "start_time": "2024-08-13T16:31:59.604Z"
   },
   {
    "duration": 9,
    "start_time": "2024-08-13T16:32:00.102Z"
   },
   {
    "duration": 20,
    "start_time": "2024-08-13T16:32:00.113Z"
   },
   {
    "duration": 642,
    "start_time": "2024-08-13T16:32:00.135Z"
   },
   {
    "duration": 6,
    "start_time": "2024-08-13T16:32:00.778Z"
   },
   {
    "duration": 52,
    "start_time": "2024-08-13T16:32:00.786Z"
   },
   {
    "duration": 280,
    "start_time": "2024-08-13T16:32:00.839Z"
   },
   {
    "duration": 35,
    "start_time": "2024-08-13T16:32:01.120Z"
   },
   {
    "duration": 35,
    "start_time": "2024-08-13T16:32:01.158Z"
   },
   {
    "duration": 5547,
    "start_time": "2024-08-13T16:32:01.194Z"
   },
   {
    "duration": 321,
    "start_time": "2024-08-13T16:32:06.743Z"
   },
   {
    "duration": 28,
    "start_time": "2024-08-13T16:32:07.066Z"
   },
   {
    "duration": 41,
    "start_time": "2024-08-13T16:32:07.096Z"
   },
   {
    "duration": 692,
    "start_time": "2024-08-13T16:32:07.138Z"
   },
   {
    "duration": 858,
    "start_time": "2024-08-13T16:32:07.833Z"
   },
   {
    "duration": 13,
    "start_time": "2024-08-13T16:32:08.693Z"
   },
   {
    "duration": 9,
    "start_time": "2024-08-13T16:32:08.708Z"
   },
   {
    "duration": 181,
    "start_time": "2024-08-13T16:32:08.719Z"
   },
   {
    "duration": 165,
    "start_time": "2024-08-13T16:32:08.902Z"
   },
   {
    "duration": 7,
    "start_time": "2024-08-13T16:32:09.069Z"
   },
   {
    "duration": 307,
    "start_time": "2024-08-13T16:32:09.084Z"
   },
   {
    "duration": 23,
    "start_time": "2024-08-13T16:32:09.393Z"
   },
   {
    "duration": 373,
    "start_time": "2024-08-13T16:32:09.418Z"
   },
   {
    "duration": 25,
    "start_time": "2024-08-13T16:32:09.793Z"
   },
   {
    "duration": 387,
    "start_time": "2024-08-13T16:32:09.820Z"
   },
   {
    "duration": 28,
    "start_time": "2024-08-13T16:32:10.209Z"
   },
   {
    "duration": 35,
    "start_time": "2024-08-13T16:32:10.239Z"
   },
   {
    "duration": 17,
    "start_time": "2024-08-13T16:32:10.275Z"
   },
   {
    "duration": 18,
    "start_time": "2024-08-13T16:32:10.294Z"
   },
   {
    "duration": 21,
    "start_time": "2024-08-13T16:32:10.314Z"
   },
   {
    "duration": 5,
    "start_time": "2024-08-13T16:32:26.057Z"
   },
   {
    "duration": 1175,
    "start_time": "2024-08-13T16:32:32.888Z"
   },
   {
    "duration": 89,
    "start_time": "2024-08-13T16:32:34.064Z"
   },
   {
    "duration": 14,
    "start_time": "2024-08-13T16:32:34.156Z"
   },
   {
    "duration": 55,
    "start_time": "2024-08-13T16:32:34.172Z"
   },
   {
    "duration": 18,
    "start_time": "2024-08-13T16:32:34.229Z"
   },
   {
    "duration": 19,
    "start_time": "2024-08-13T16:32:34.248Z"
   },
   {
    "duration": 31,
    "start_time": "2024-08-13T16:32:34.268Z"
   },
   {
    "duration": 14,
    "start_time": "2024-08-13T16:32:34.301Z"
   },
   {
    "duration": 17,
    "start_time": "2024-08-13T16:32:34.317Z"
   },
   {
    "duration": 39,
    "start_time": "2024-08-13T16:32:34.336Z"
   },
   {
    "duration": 164,
    "start_time": "2024-08-13T16:32:34.377Z"
   },
   {
    "duration": 3,
    "start_time": "2024-08-13T16:32:34.543Z"
   },
   {
    "duration": 2066,
    "start_time": "2024-08-13T16:32:34.547Z"
   },
   {
    "duration": 243,
    "start_time": "2024-08-13T16:32:36.615Z"
   },
   {
    "duration": 14,
    "start_time": "2024-08-13T16:32:36.860Z"
   },
   {
    "duration": 22,
    "start_time": "2024-08-13T16:32:36.876Z"
   },
   {
    "duration": 6,
    "start_time": "2024-08-13T16:32:36.900Z"
   },
   {
    "duration": 26,
    "start_time": "2024-08-13T16:32:36.908Z"
   },
   {
    "duration": 10,
    "start_time": "2024-08-13T16:32:36.937Z"
   },
   {
    "duration": 482,
    "start_time": "2024-08-13T16:32:36.949Z"
   },
   {
    "duration": 9,
    "start_time": "2024-08-13T16:32:37.434Z"
   },
   {
    "duration": 103,
    "start_time": "2024-08-13T16:32:37.444Z"
   },
   {
    "duration": 636,
    "start_time": "2024-08-13T16:32:37.549Z"
   },
   {
    "duration": 6,
    "start_time": "2024-08-13T16:32:38.186Z"
   },
   {
    "duration": 93,
    "start_time": "2024-08-13T16:32:38.194Z"
   },
   {
    "duration": 239,
    "start_time": "2024-08-13T16:32:38.289Z"
   },
   {
    "duration": 36,
    "start_time": "2024-08-13T16:32:38.530Z"
   },
   {
    "duration": 26,
    "start_time": "2024-08-13T16:32:38.583Z"
   },
   {
    "duration": 5467,
    "start_time": "2024-08-13T16:32:38.611Z"
   },
   {
    "duration": 325,
    "start_time": "2024-08-13T16:32:44.084Z"
   },
   {
    "duration": 20,
    "start_time": "2024-08-13T16:32:44.410Z"
   },
   {
    "duration": 7,
    "start_time": "2024-08-13T16:32:44.432Z"
   },
   {
    "duration": 727,
    "start_time": "2024-08-13T16:32:44.440Z"
   },
   {
    "duration": 874,
    "start_time": "2024-08-13T16:32:45.169Z"
   },
   {
    "duration": 12,
    "start_time": "2024-08-13T16:32:46.044Z"
   },
   {
    "duration": 27,
    "start_time": "2024-08-13T16:32:46.058Z"
   },
   {
    "duration": 176,
    "start_time": "2024-08-13T16:32:46.087Z"
   },
   {
    "duration": 176,
    "start_time": "2024-08-13T16:32:46.265Z"
   },
   {
    "duration": 7,
    "start_time": "2024-08-13T16:32:46.443Z"
   },
   {
    "duration": 298,
    "start_time": "2024-08-13T16:32:46.452Z"
   },
   {
    "duration": 37,
    "start_time": "2024-08-13T16:32:46.751Z"
   },
   {
    "duration": 369,
    "start_time": "2024-08-13T16:32:46.790Z"
   },
   {
    "duration": 40,
    "start_time": "2024-08-13T16:32:47.161Z"
   },
   {
    "duration": 384,
    "start_time": "2024-08-13T16:32:47.203Z"
   },
   {
    "duration": 27,
    "start_time": "2024-08-13T16:32:47.588Z"
   },
   {
    "duration": 28,
    "start_time": "2024-08-13T16:32:47.616Z"
   },
   {
    "duration": 25,
    "start_time": "2024-08-13T16:32:47.645Z"
   },
   {
    "duration": 47,
    "start_time": "2024-08-13T16:32:47.672Z"
   },
   {
    "duration": 14,
    "start_time": "2024-08-13T16:32:47.721Z"
   },
   {
    "duration": 8,
    "start_time": "2024-08-13T16:35:02.284Z"
   },
   {
    "duration": 15,
    "start_time": "2024-08-13T16:35:05.399Z"
   },
   {
    "duration": 15,
    "start_time": "2024-08-13T16:35:10.569Z"
   },
   {
    "duration": 1026,
    "start_time": "2024-08-13T16:35:32.733Z"
   },
   {
    "duration": 88,
    "start_time": "2024-08-13T16:35:33.761Z"
   },
   {
    "duration": 17,
    "start_time": "2024-08-13T16:35:33.851Z"
   },
   {
    "duration": 23,
    "start_time": "2024-08-13T16:35:33.870Z"
   },
   {
    "duration": 5,
    "start_time": "2024-08-13T16:35:33.895Z"
   },
   {
    "duration": 60,
    "start_time": "2024-08-13T16:35:33.902Z"
   },
   {
    "duration": 16,
    "start_time": "2024-08-13T16:35:33.963Z"
   },
   {
    "duration": 31,
    "start_time": "2024-08-13T16:35:33.980Z"
   },
   {
    "duration": 9,
    "start_time": "2024-08-13T16:35:34.013Z"
   },
   {
    "duration": 10,
    "start_time": "2024-08-13T16:35:34.025Z"
   },
   {
    "duration": 11,
    "start_time": "2024-08-13T16:35:34.037Z"
   },
   {
    "duration": 94,
    "start_time": "2024-08-13T16:35:34.049Z"
   },
   {
    "duration": 0,
    "start_time": "2024-08-13T16:35:34.145Z"
   },
   {
    "duration": 0,
    "start_time": "2024-08-13T16:35:34.146Z"
   },
   {
    "duration": 0,
    "start_time": "2024-08-13T16:35:34.147Z"
   },
   {
    "duration": 0,
    "start_time": "2024-08-13T16:35:34.149Z"
   },
   {
    "duration": 0,
    "start_time": "2024-08-13T16:35:34.150Z"
   },
   {
    "duration": 0,
    "start_time": "2024-08-13T16:35:34.151Z"
   },
   {
    "duration": 0,
    "start_time": "2024-08-13T16:35:34.152Z"
   },
   {
    "duration": 0,
    "start_time": "2024-08-13T16:35:34.153Z"
   },
   {
    "duration": 0,
    "start_time": "2024-08-13T16:35:34.154Z"
   },
   {
    "duration": 0,
    "start_time": "2024-08-13T16:35:34.155Z"
   },
   {
    "duration": 0,
    "start_time": "2024-08-13T16:35:34.156Z"
   },
   {
    "duration": 0,
    "start_time": "2024-08-13T16:35:34.157Z"
   },
   {
    "duration": 0,
    "start_time": "2024-08-13T16:35:34.158Z"
   },
   {
    "duration": 0,
    "start_time": "2024-08-13T16:35:34.184Z"
   },
   {
    "duration": 0,
    "start_time": "2024-08-13T16:35:34.185Z"
   },
   {
    "duration": 0,
    "start_time": "2024-08-13T16:35:34.186Z"
   },
   {
    "duration": 0,
    "start_time": "2024-08-13T16:35:34.188Z"
   },
   {
    "duration": 0,
    "start_time": "2024-08-13T16:35:34.189Z"
   },
   {
    "duration": 0,
    "start_time": "2024-08-13T16:35:34.190Z"
   },
   {
    "duration": 0,
    "start_time": "2024-08-13T16:35:34.192Z"
   },
   {
    "duration": 0,
    "start_time": "2024-08-13T16:35:34.193Z"
   },
   {
    "duration": 0,
    "start_time": "2024-08-13T16:35:34.194Z"
   },
   {
    "duration": 0,
    "start_time": "2024-08-13T16:35:34.195Z"
   },
   {
    "duration": 0,
    "start_time": "2024-08-13T16:35:34.197Z"
   },
   {
    "duration": 0,
    "start_time": "2024-08-13T16:35:34.198Z"
   },
   {
    "duration": 0,
    "start_time": "2024-08-13T16:35:34.200Z"
   },
   {
    "duration": 0,
    "start_time": "2024-08-13T16:35:34.201Z"
   },
   {
    "duration": 0,
    "start_time": "2024-08-13T16:35:34.202Z"
   },
   {
    "duration": 0,
    "start_time": "2024-08-13T16:35:34.204Z"
   },
   {
    "duration": 0,
    "start_time": "2024-08-13T16:35:34.205Z"
   },
   {
    "duration": 0,
    "start_time": "2024-08-13T16:35:34.206Z"
   },
   {
    "duration": 0,
    "start_time": "2024-08-13T16:35:34.208Z"
   },
   {
    "duration": 0,
    "start_time": "2024-08-13T16:35:34.209Z"
   },
   {
    "duration": 0,
    "start_time": "2024-08-13T16:35:34.210Z"
   },
   {
    "duration": 0,
    "start_time": "2024-08-13T16:35:34.212Z"
   },
   {
    "duration": 0,
    "start_time": "2024-08-13T16:35:34.213Z"
   },
   {
    "duration": 0,
    "start_time": "2024-08-13T16:35:34.214Z"
   },
   {
    "duration": 0,
    "start_time": "2024-08-13T16:35:34.216Z"
   },
   {
    "duration": 18,
    "start_time": "2024-08-13T16:35:40.330Z"
   },
   {
    "duration": 25,
    "start_time": "2024-08-13T16:35:53.576Z"
   },
   {
    "duration": 7,
    "start_time": "2024-08-13T16:36:05.498Z"
   },
   {
    "duration": 4,
    "start_time": "2024-08-13T16:36:12.563Z"
   },
   {
    "duration": 1287,
    "start_time": "2024-08-13T16:39:45.079Z"
   },
   {
    "duration": 207,
    "start_time": "2024-08-13T16:39:47.363Z"
   },
   {
    "duration": 14,
    "start_time": "2024-08-13T16:39:49.244Z"
   },
   {
    "duration": 8,
    "start_time": "2024-08-13T16:39:50.088Z"
   },
   {
    "duration": 4,
    "start_time": "2024-08-13T16:39:56.477Z"
   },
   {
    "duration": 4,
    "start_time": "2024-08-13T16:40:00.895Z"
   },
   {
    "duration": 4,
    "start_time": "2024-08-13T16:40:03.696Z"
   },
   {
    "duration": 487,
    "start_time": "2024-08-13T16:40:06.910Z"
   },
   {
    "duration": 8,
    "start_time": "2024-08-13T16:40:17.796Z"
   },
   {
    "duration": 8,
    "start_time": "2024-08-13T16:40:19.078Z"
   },
   {
    "duration": 512,
    "start_time": "2024-08-13T16:40:20.460Z"
   },
   {
    "duration": 1241,
    "start_time": "2024-08-14T08:57:06.451Z"
   },
   {
    "duration": 241,
    "start_time": "2024-08-14T08:57:07.693Z"
   },
   {
    "duration": 14,
    "start_time": "2024-08-14T09:00:19.902Z"
   },
   {
    "duration": 17,
    "start_time": "2024-08-14T09:00:23.053Z"
   },
   {
    "duration": 7,
    "start_time": "2024-08-14T09:01:18.041Z"
   },
   {
    "duration": 7,
    "start_time": "2024-08-14T09:01:49.884Z"
   },
   {
    "duration": 22,
    "start_time": "2024-08-14T09:02:00.264Z"
   },
   {
    "duration": 9,
    "start_time": "2024-08-14T09:02:43.391Z"
   },
   {
    "duration": 15,
    "start_time": "2024-08-14T09:02:46.381Z"
   },
   {
    "duration": 6,
    "start_time": "2024-08-14T09:08:57.768Z"
   },
   {
    "duration": 2,
    "start_time": "2024-08-14T09:09:51.078Z"
   },
   {
    "duration": 3,
    "start_time": "2024-08-14T09:09:57.207Z"
   },
   {
    "duration": 2,
    "start_time": "2024-08-14T09:10:04.984Z"
   },
   {
    "duration": 1055,
    "start_time": "2024-08-14T09:10:28.439Z"
   },
   {
    "duration": 21,
    "start_time": "2024-08-14T09:10:51.889Z"
   },
   {
    "duration": 9,
    "start_time": "2024-08-14T09:11:14.004Z"
   },
   {
    "duration": 14,
    "start_time": "2024-08-14T09:11:16.930Z"
   },
   {
    "duration": 10,
    "start_time": "2024-08-14T09:12:00.997Z"
   },
   {
    "duration": 17,
    "start_time": "2024-08-14T09:12:19.293Z"
   },
   {
    "duration": 10,
    "start_time": "2024-08-14T09:12:22.494Z"
   },
   {
    "duration": 5,
    "start_time": "2024-08-14T09:12:24.265Z"
   },
   {
    "duration": 6,
    "start_time": "2024-08-14T09:12:27.000Z"
   },
   {
    "duration": 4,
    "start_time": "2024-08-14T09:12:28.517Z"
   },
   {
    "duration": 1253,
    "start_time": "2024-08-14T09:12:35.266Z"
   },
   {
    "duration": 205,
    "start_time": "2024-08-14T09:12:37.608Z"
   },
   {
    "duration": 13,
    "start_time": "2024-08-14T09:12:41.432Z"
   },
   {
    "duration": 8,
    "start_time": "2024-08-14T09:12:44.983Z"
   },
   {
    "duration": 3,
    "start_time": "2024-08-14T09:12:52.209Z"
   },
   {
    "duration": 5,
    "start_time": "2024-08-14T09:12:53.702Z"
   },
   {
    "duration": 5,
    "start_time": "2024-08-14T09:13:00.612Z"
   },
   {
    "duration": 568,
    "start_time": "2024-08-14T09:25:49.839Z"
   },
   {
    "duration": 8,
    "start_time": "2024-08-14T09:25:57.252Z"
   },
   {
    "duration": 8,
    "start_time": "2024-08-14T09:25:59.533Z"
   },
   {
    "duration": 34,
    "start_time": "2024-08-14T09:29:03.827Z"
   },
   {
    "duration": 17,
    "start_time": "2024-08-14T09:29:08.948Z"
   },
   {
    "duration": 19,
    "start_time": "2024-08-14T09:45:29.939Z"
   },
   {
    "duration": 11,
    "start_time": "2024-08-14T09:45:38.012Z"
   },
   {
    "duration": 23,
    "start_time": "2024-08-14T09:45:41.036Z"
   },
   {
    "duration": 6,
    "start_time": "2024-08-14T09:56:03.396Z"
   },
   {
    "duration": 8,
    "start_time": "2024-08-14T09:56:11.056Z"
   },
   {
    "duration": 23,
    "start_time": "2024-08-14T09:56:33.999Z"
   },
   {
    "duration": 22,
    "start_time": "2024-08-14T09:56:53.207Z"
   },
   {
    "duration": 1124,
    "start_time": "2024-08-14T09:57:15.684Z"
   },
   {
    "duration": 87,
    "start_time": "2024-08-14T09:57:16.810Z"
   },
   {
    "duration": 14,
    "start_time": "2024-08-14T09:57:16.899Z"
   },
   {
    "duration": 23,
    "start_time": "2024-08-14T09:57:16.915Z"
   },
   {
    "duration": 5,
    "start_time": "2024-08-14T09:57:16.939Z"
   },
   {
    "duration": 35,
    "start_time": "2024-08-14T09:57:16.946Z"
   },
   {
    "duration": 46,
    "start_time": "2024-08-14T09:57:16.982Z"
   },
   {
    "duration": 16,
    "start_time": "2024-08-14T09:57:17.029Z"
   },
   {
    "duration": 13,
    "start_time": "2024-08-14T09:57:17.046Z"
   },
   {
    "duration": 14,
    "start_time": "2024-08-14T09:57:17.062Z"
   },
   {
    "duration": 19,
    "start_time": "2024-08-14T09:57:17.078Z"
   },
   {
    "duration": 5,
    "start_time": "2024-08-14T09:57:17.098Z"
   },
   {
    "duration": 6,
    "start_time": "2024-08-14T09:57:17.124Z"
   },
   {
    "duration": 8,
    "start_time": "2024-08-14T09:57:17.132Z"
   },
   {
    "duration": 1396,
    "start_time": "2024-08-14T09:57:17.141Z"
   },
   {
    "duration": 424,
    "start_time": "2024-08-14T09:57:18.539Z"
   },
   {
    "duration": 66,
    "start_time": "2024-08-14T09:57:18.965Z"
   },
   {
    "duration": 8,
    "start_time": "2024-08-14T09:57:19.033Z"
   },
   {
    "duration": 4,
    "start_time": "2024-08-14T09:57:19.043Z"
   },
   {
    "duration": 5,
    "start_time": "2024-08-14T09:57:19.049Z"
   },
   {
    "duration": 5,
    "start_time": "2024-08-14T09:57:19.056Z"
   },
   {
    "duration": 886,
    "start_time": "2024-08-14T09:57:19.063Z"
   },
   {
    "duration": 8,
    "start_time": "2024-08-14T09:57:19.951Z"
   },
   {
    "duration": 9,
    "start_time": "2024-08-14T09:57:19.960Z"
   },
   {
    "duration": 682,
    "start_time": "2024-08-14T09:57:19.971Z"
   },
   {
    "duration": 18,
    "start_time": "2024-08-14T09:57:20.655Z"
   },
   {
    "duration": 10,
    "start_time": "2024-08-14T09:57:20.675Z"
   },
   {
    "duration": 38,
    "start_time": "2024-08-14T09:57:20.690Z"
   },
   {
    "duration": 12,
    "start_time": "2024-08-14T09:57:20.730Z"
   },
   {
    "duration": 0,
    "start_time": "2024-08-14T09:57:20.744Z"
   },
   {
    "duration": 0,
    "start_time": "2024-08-14T09:57:20.745Z"
   },
   {
    "duration": 0,
    "start_time": "2024-08-14T09:57:20.747Z"
   },
   {
    "duration": 0,
    "start_time": "2024-08-14T09:57:20.748Z"
   },
   {
    "duration": 0,
    "start_time": "2024-08-14T09:57:20.750Z"
   },
   {
    "duration": 0,
    "start_time": "2024-08-14T09:57:20.751Z"
   },
   {
    "duration": 0,
    "start_time": "2024-08-14T09:57:20.753Z"
   },
   {
    "duration": 0,
    "start_time": "2024-08-14T09:57:20.754Z"
   },
   {
    "duration": 0,
    "start_time": "2024-08-14T09:57:20.755Z"
   },
   {
    "duration": 0,
    "start_time": "2024-08-14T09:57:20.757Z"
   },
   {
    "duration": 0,
    "start_time": "2024-08-14T09:57:20.759Z"
   },
   {
    "duration": 0,
    "start_time": "2024-08-14T09:57:20.760Z"
   },
   {
    "duration": 0,
    "start_time": "2024-08-14T09:57:20.762Z"
   },
   {
    "duration": 0,
    "start_time": "2024-08-14T09:57:20.763Z"
   },
   {
    "duration": 0,
    "start_time": "2024-08-14T09:57:20.764Z"
   },
   {
    "duration": 0,
    "start_time": "2024-08-14T09:57:20.766Z"
   },
   {
    "duration": 0,
    "start_time": "2024-08-14T09:57:20.767Z"
   },
   {
    "duration": 0,
    "start_time": "2024-08-14T09:57:20.769Z"
   },
   {
    "duration": 1,
    "start_time": "2024-08-14T09:57:20.770Z"
   },
   {
    "duration": 0,
    "start_time": "2024-08-14T09:57:20.772Z"
   },
   {
    "duration": 0,
    "start_time": "2024-08-14T09:57:20.773Z"
   },
   {
    "duration": 0,
    "start_time": "2024-08-14T09:57:20.775Z"
   },
   {
    "duration": 0,
    "start_time": "2024-08-14T09:57:20.776Z"
   },
   {
    "duration": 0,
    "start_time": "2024-08-14T09:57:20.777Z"
   },
   {
    "duration": 0,
    "start_time": "2024-08-14T09:57:20.778Z"
   },
   {
    "duration": 0,
    "start_time": "2024-08-14T09:57:20.825Z"
   },
   {
    "duration": 0,
    "start_time": "2024-08-14T09:57:20.827Z"
   },
   {
    "duration": 1112,
    "start_time": "2024-08-14T09:59:04.089Z"
   },
   {
    "duration": 86,
    "start_time": "2024-08-14T09:59:05.202Z"
   },
   {
    "duration": 14,
    "start_time": "2024-08-14T09:59:05.290Z"
   },
   {
    "duration": 23,
    "start_time": "2024-08-14T09:59:05.307Z"
   },
   {
    "duration": 5,
    "start_time": "2024-08-14T09:59:05.331Z"
   },
   {
    "duration": 8,
    "start_time": "2024-08-14T09:59:05.337Z"
   },
   {
    "duration": 25,
    "start_time": "2024-08-14T09:59:05.347Z"
   },
   {
    "duration": 15,
    "start_time": "2024-08-14T09:59:05.373Z"
   },
   {
    "duration": 67,
    "start_time": "2024-08-14T09:59:05.390Z"
   },
   {
    "duration": 14,
    "start_time": "2024-08-14T09:59:05.461Z"
   },
   {
    "duration": 9,
    "start_time": "2024-08-14T09:59:05.477Z"
   },
   {
    "duration": 4,
    "start_time": "2024-08-14T09:59:05.488Z"
   },
   {
    "duration": 7,
    "start_time": "2024-08-14T09:59:05.493Z"
   },
   {
    "duration": 3,
    "start_time": "2024-08-14T09:59:05.502Z"
   },
   {
    "duration": 1287,
    "start_time": "2024-08-14T09:59:05.506Z"
   },
   {
    "duration": 210,
    "start_time": "2024-08-14T09:59:06.795Z"
   },
   {
    "duration": 19,
    "start_time": "2024-08-14T09:59:07.006Z"
   },
   {
    "duration": 29,
    "start_time": "2024-08-14T09:59:07.027Z"
   },
   {
    "duration": 8,
    "start_time": "2024-08-14T09:59:07.057Z"
   },
   {
    "duration": 6,
    "start_time": "2024-08-14T09:59:07.066Z"
   },
   {
    "duration": 6,
    "start_time": "2024-08-14T09:59:07.074Z"
   },
   {
    "duration": 465,
    "start_time": "2024-08-14T09:59:07.081Z"
   },
   {
    "duration": 8,
    "start_time": "2024-08-14T09:59:07.548Z"
   },
   {
    "duration": 11,
    "start_time": "2024-08-14T09:59:07.558Z"
   },
   {
    "duration": 610,
    "start_time": "2024-08-14T09:59:07.571Z"
   },
   {
    "duration": 16,
    "start_time": "2024-08-14T09:59:08.182Z"
   },
   {
    "duration": 22,
    "start_time": "2024-08-14T09:59:08.199Z"
   },
   {
    "duration": 0,
    "start_time": "2024-08-14T09:59:08.223Z"
   },
   {
    "duration": 0,
    "start_time": "2024-08-14T09:59:08.224Z"
   },
   {
    "duration": 0,
    "start_time": "2024-08-14T09:59:08.225Z"
   },
   {
    "duration": 0,
    "start_time": "2024-08-14T09:59:08.227Z"
   },
   {
    "duration": 0,
    "start_time": "2024-08-14T09:59:08.228Z"
   },
   {
    "duration": 0,
    "start_time": "2024-08-14T09:59:08.229Z"
   },
   {
    "duration": 0,
    "start_time": "2024-08-14T09:59:08.230Z"
   },
   {
    "duration": 0,
    "start_time": "2024-08-14T09:59:08.232Z"
   },
   {
    "duration": 0,
    "start_time": "2024-08-14T09:59:08.233Z"
   },
   {
    "duration": 0,
    "start_time": "2024-08-14T09:59:08.234Z"
   },
   {
    "duration": 0,
    "start_time": "2024-08-14T09:59:08.235Z"
   },
   {
    "duration": 0,
    "start_time": "2024-08-14T09:59:08.236Z"
   },
   {
    "duration": 0,
    "start_time": "2024-08-14T09:59:08.237Z"
   },
   {
    "duration": 0,
    "start_time": "2024-08-14T09:59:08.238Z"
   },
   {
    "duration": 0,
    "start_time": "2024-08-14T09:59:08.239Z"
   },
   {
    "duration": 0,
    "start_time": "2024-08-14T09:59:08.240Z"
   },
   {
    "duration": 0,
    "start_time": "2024-08-14T09:59:08.241Z"
   },
   {
    "duration": 0,
    "start_time": "2024-08-14T09:59:08.242Z"
   },
   {
    "duration": 0,
    "start_time": "2024-08-14T09:59:08.243Z"
   },
   {
    "duration": 0,
    "start_time": "2024-08-14T09:59:08.244Z"
   },
   {
    "duration": 0,
    "start_time": "2024-08-14T09:59:08.245Z"
   },
   {
    "duration": 0,
    "start_time": "2024-08-14T09:59:08.246Z"
   },
   {
    "duration": 0,
    "start_time": "2024-08-14T09:59:08.247Z"
   },
   {
    "duration": 0,
    "start_time": "2024-08-14T09:59:08.248Z"
   },
   {
    "duration": 0,
    "start_time": "2024-08-14T09:59:08.249Z"
   },
   {
    "duration": 0,
    "start_time": "2024-08-14T09:59:08.251Z"
   },
   {
    "duration": 0,
    "start_time": "2024-08-14T09:59:08.252Z"
   },
   {
    "duration": 0,
    "start_time": "2024-08-14T09:59:08.253Z"
   },
   {
    "duration": 0,
    "start_time": "2024-08-14T09:59:08.254Z"
   },
   {
    "duration": 0,
    "start_time": "2024-08-14T09:59:08.255Z"
   },
   {
    "duration": 13,
    "start_time": "2024-08-14T10:00:20.083Z"
   },
   {
    "duration": 4,
    "start_time": "2024-08-14T10:03:22.738Z"
   },
   {
    "duration": 13,
    "start_time": "2024-08-14T10:03:28.195Z"
   },
   {
    "duration": 12,
    "start_time": "2024-08-14T10:03:37.345Z"
   },
   {
    "duration": 1182,
    "start_time": "2024-08-14T10:03:54.096Z"
   },
   {
    "duration": 87,
    "start_time": "2024-08-14T10:03:55.279Z"
   },
   {
    "duration": 14,
    "start_time": "2024-08-14T10:03:55.368Z"
   },
   {
    "duration": 20,
    "start_time": "2024-08-14T10:03:55.384Z"
   },
   {
    "duration": 56,
    "start_time": "2024-08-14T10:03:55.406Z"
   },
   {
    "duration": 14,
    "start_time": "2024-08-14T10:03:55.464Z"
   },
   {
    "duration": 23,
    "start_time": "2024-08-14T10:03:55.480Z"
   },
   {
    "duration": 16,
    "start_time": "2024-08-14T10:03:55.505Z"
   },
   {
    "duration": 15,
    "start_time": "2024-08-14T10:03:55.523Z"
   },
   {
    "duration": 14,
    "start_time": "2024-08-14T10:03:55.543Z"
   },
   {
    "duration": 15,
    "start_time": "2024-08-14T10:03:55.558Z"
   },
   {
    "duration": 5,
    "start_time": "2024-08-14T10:03:55.574Z"
   },
   {
    "duration": 14,
    "start_time": "2024-08-14T10:03:55.580Z"
   },
   {
    "duration": 15,
    "start_time": "2024-08-14T10:03:55.595Z"
   },
   {
    "duration": 1349,
    "start_time": "2024-08-14T10:03:55.611Z"
   },
   {
    "duration": 478,
    "start_time": "2024-08-14T10:03:56.962Z"
   },
   {
    "duration": 14,
    "start_time": "2024-08-14T10:03:57.441Z"
   },
   {
    "duration": 68,
    "start_time": "2024-08-14T10:03:57.456Z"
   },
   {
    "duration": 3,
    "start_time": "2024-08-14T10:03:57.526Z"
   },
   {
    "duration": 25,
    "start_time": "2024-08-14T10:03:57.530Z"
   },
   {
    "duration": 15,
    "start_time": "2024-08-14T10:03:57.556Z"
   },
   {
    "duration": 858,
    "start_time": "2024-08-14T10:03:57.573Z"
   },
   {
    "duration": 8,
    "start_time": "2024-08-14T10:03:58.433Z"
   },
   {
    "duration": 18,
    "start_time": "2024-08-14T10:03:58.442Z"
   },
   {
    "duration": 599,
    "start_time": "2024-08-14T10:03:58.462Z"
   },
   {
    "duration": 17,
    "start_time": "2024-08-14T10:03:59.062Z"
   },
   {
    "duration": 25,
    "start_time": "2024-08-14T10:03:59.080Z"
   },
   {
    "duration": 8,
    "start_time": "2024-08-14T10:03:59.109Z"
   },
   {
    "duration": 0,
    "start_time": "2024-08-14T10:03:59.118Z"
   },
   {
    "duration": 0,
    "start_time": "2024-08-14T10:03:59.119Z"
   },
   {
    "duration": 0,
    "start_time": "2024-08-14T10:03:59.121Z"
   },
   {
    "duration": 0,
    "start_time": "2024-08-14T10:03:59.121Z"
   },
   {
    "duration": 0,
    "start_time": "2024-08-14T10:03:59.123Z"
   },
   {
    "duration": 0,
    "start_time": "2024-08-14T10:03:59.124Z"
   },
   {
    "duration": 0,
    "start_time": "2024-08-14T10:03:59.125Z"
   },
   {
    "duration": 0,
    "start_time": "2024-08-14T10:03:59.126Z"
   },
   {
    "duration": 0,
    "start_time": "2024-08-14T10:03:59.127Z"
   },
   {
    "duration": 0,
    "start_time": "2024-08-14T10:03:59.128Z"
   },
   {
    "duration": 0,
    "start_time": "2024-08-14T10:03:59.129Z"
   },
   {
    "duration": 0,
    "start_time": "2024-08-14T10:03:59.130Z"
   },
   {
    "duration": 0,
    "start_time": "2024-08-14T10:03:59.131Z"
   },
   {
    "duration": 0,
    "start_time": "2024-08-14T10:03:59.132Z"
   },
   {
    "duration": 0,
    "start_time": "2024-08-14T10:03:59.133Z"
   },
   {
    "duration": 0,
    "start_time": "2024-08-14T10:03:59.135Z"
   },
   {
    "duration": 0,
    "start_time": "2024-08-14T10:03:59.136Z"
   },
   {
    "duration": 0,
    "start_time": "2024-08-14T10:03:59.137Z"
   },
   {
    "duration": 0,
    "start_time": "2024-08-14T10:03:59.138Z"
   },
   {
    "duration": 0,
    "start_time": "2024-08-14T10:03:59.139Z"
   },
   {
    "duration": 0,
    "start_time": "2024-08-14T10:03:59.141Z"
   },
   {
    "duration": 0,
    "start_time": "2024-08-14T10:03:59.142Z"
   },
   {
    "duration": 0,
    "start_time": "2024-08-14T10:03:59.143Z"
   },
   {
    "duration": 0,
    "start_time": "2024-08-14T10:03:59.144Z"
   },
   {
    "duration": 0,
    "start_time": "2024-08-14T10:03:59.145Z"
   },
   {
    "duration": 0,
    "start_time": "2024-08-14T10:03:59.147Z"
   },
   {
    "duration": 7,
    "start_time": "2024-08-14T10:04:07.088Z"
   },
   {
    "duration": 7,
    "start_time": "2024-08-14T10:04:10.716Z"
   },
   {
    "duration": 191,
    "start_time": "2024-08-14T10:04:15.755Z"
   },
   {
    "duration": 43,
    "start_time": "2024-08-14T10:05:06.264Z"
   },
   {
    "duration": 25,
    "start_time": "2024-08-14T10:05:13.827Z"
   },
   {
    "duration": 15,
    "start_time": "2024-08-14T10:05:14.659Z"
   },
   {
    "duration": 44,
    "start_time": "2024-08-14T10:05:16.205Z"
   },
   {
    "duration": 3217,
    "start_time": "2024-08-14T10:05:31.524Z"
   },
   {
    "duration": 3303,
    "start_time": "2024-08-14T10:05:59.782Z"
   },
   {
    "duration": 3137,
    "start_time": "2024-08-14T10:06:04.395Z"
   },
   {
    "duration": 3443,
    "start_time": "2024-08-14T10:06:17.228Z"
   },
   {
    "duration": 3265,
    "start_time": "2024-08-14T10:06:36.074Z"
   },
   {
    "duration": 300,
    "start_time": "2024-08-14T10:06:49.456Z"
   },
   {
    "duration": 279,
    "start_time": "2024-08-14T10:07:08.297Z"
   },
   {
    "duration": 280,
    "start_time": "2024-08-14T10:08:50.887Z"
   },
   {
    "duration": 19,
    "start_time": "2024-08-14T10:11:02.790Z"
   },
   {
    "duration": 7,
    "start_time": "2024-08-14T10:12:57.073Z"
   },
   {
    "duration": 597,
    "start_time": "2024-08-14T10:14:21.702Z"
   },
   {
    "duration": 10,
    "start_time": "2024-08-14T10:16:10.768Z"
   },
   {
    "duration": 8,
    "start_time": "2024-08-14T10:16:12.891Z"
   },
   {
    "duration": 157,
    "start_time": "2024-08-14T10:16:14.847Z"
   },
   {
    "duration": 154,
    "start_time": "2024-08-14T10:16:29.088Z"
   },
   {
    "duration": 13,
    "start_time": "2024-08-14T10:17:42.279Z"
   },
   {
    "duration": 10,
    "start_time": "2024-08-14T10:17:49.792Z"
   },
   {
    "duration": 10,
    "start_time": "2024-08-14T10:18:35.626Z"
   },
   {
    "duration": 14,
    "start_time": "2024-08-14T10:18:40.191Z"
   },
   {
    "duration": 9,
    "start_time": "2024-08-14T10:18:57.957Z"
   },
   {
    "duration": 8,
    "start_time": "2024-08-14T10:19:07.105Z"
   },
   {
    "duration": 9,
    "start_time": "2024-08-14T10:19:13.598Z"
   },
   {
    "duration": 39,
    "start_time": "2024-08-14T10:19:20.394Z"
   },
   {
    "duration": 159,
    "start_time": "2024-08-14T10:19:26.907Z"
   },
   {
    "duration": 11,
    "start_time": "2024-08-14T10:19:32.376Z"
   },
   {
    "duration": 10,
    "start_time": "2024-08-14T10:19:34.691Z"
   },
   {
    "duration": 174,
    "start_time": "2024-08-14T10:19:38.524Z"
   },
   {
    "duration": 179,
    "start_time": "2024-08-14T10:19:56.057Z"
   },
   {
    "duration": 9,
    "start_time": "2024-08-14T10:21:00.613Z"
   },
   {
    "duration": 5,
    "start_time": "2024-08-14T10:21:04.578Z"
   },
   {
    "duration": 10,
    "start_time": "2024-08-14T10:21:11.479Z"
   },
   {
    "duration": 4,
    "start_time": "2024-08-14T10:21:15.190Z"
   },
   {
    "duration": 13,
    "start_time": "2024-08-14T10:21:33.327Z"
   },
   {
    "duration": 10,
    "start_time": "2024-08-14T10:21:39.681Z"
   },
   {
    "duration": 12,
    "start_time": "2024-08-14T10:21:44.273Z"
   },
   {
    "duration": 15,
    "start_time": "2024-08-14T10:22:20.146Z"
   },
   {
    "duration": 5,
    "start_time": "2024-08-14T10:22:25.972Z"
   },
   {
    "duration": 49,
    "start_time": "2024-08-14T10:24:14.667Z"
   },
   {
    "duration": 62,
    "start_time": "2024-08-14T10:24:27.823Z"
   },
   {
    "duration": 9,
    "start_time": "2024-08-14T10:35:35.916Z"
   },
   {
    "duration": 10,
    "start_time": "2024-08-14T10:37:42.682Z"
   },
   {
    "duration": 12,
    "start_time": "2024-08-14T10:38:57.339Z"
   },
   {
    "duration": 51,
    "start_time": "2024-08-14T10:39:45.204Z"
   },
   {
    "duration": 10,
    "start_time": "2024-08-14T10:39:52.906Z"
   },
   {
    "duration": 192,
    "start_time": "2024-08-14T10:46:27.779Z"
   },
   {
    "duration": 178,
    "start_time": "2024-08-14T10:46:42.224Z"
   },
   {
    "duration": 61,
    "start_time": "2024-08-14T10:47:11.118Z"
   },
   {
    "duration": 177,
    "start_time": "2024-08-14T10:47:16.139Z"
   },
   {
    "duration": 240,
    "start_time": "2024-08-14T10:49:36.982Z"
   },
   {
    "duration": 230,
    "start_time": "2024-08-14T10:49:57.841Z"
   },
   {
    "duration": 264,
    "start_time": "2024-08-14T10:51:36.126Z"
   },
   {
    "duration": 260,
    "start_time": "2024-08-14T10:51:54.467Z"
   },
   {
    "duration": 246,
    "start_time": "2024-08-14T10:53:08.388Z"
   },
   {
    "duration": 283,
    "start_time": "2024-08-14T10:53:29.623Z"
   },
   {
    "duration": 327,
    "start_time": "2024-08-14T10:53:36.443Z"
   },
   {
    "duration": 262,
    "start_time": "2024-08-14T10:54:06.747Z"
   },
   {
    "duration": 252,
    "start_time": "2024-08-14T10:55:19.152Z"
   },
   {
    "duration": 286,
    "start_time": "2024-08-14T10:55:37.384Z"
   },
   {
    "duration": 268,
    "start_time": "2024-08-14T10:55:41.059Z"
   },
   {
    "duration": 298,
    "start_time": "2024-08-14T10:55:49.451Z"
   },
   {
    "duration": 354,
    "start_time": "2024-08-14T10:56:38.596Z"
   },
   {
    "duration": 53,
    "start_time": "2024-08-14T10:59:08.935Z"
   },
   {
    "duration": 369,
    "start_time": "2024-08-14T10:59:30.436Z"
   },
   {
    "duration": 381,
    "start_time": "2024-08-14T10:59:50.070Z"
   },
   {
    "duration": 369,
    "start_time": "2024-08-14T11:00:26.531Z"
   },
   {
    "duration": 8,
    "start_time": "2024-08-14T11:01:09.403Z"
   },
   {
    "duration": 408,
    "start_time": "2024-08-14T11:01:12.958Z"
   },
   {
    "duration": 500,
    "start_time": "2024-08-14T11:02:13.735Z"
   },
   {
    "duration": 6,
    "start_time": "2024-08-14T11:05:52.707Z"
   },
   {
    "duration": 260,
    "start_time": "2024-08-14T11:06:17.879Z"
   },
   {
    "duration": 268,
    "start_time": "2024-08-14T11:06:36.124Z"
   },
   {
    "duration": 261,
    "start_time": "2024-08-14T11:06:43.995Z"
   },
   {
    "duration": 255,
    "start_time": "2024-08-14T11:06:59.309Z"
   },
   {
    "duration": 132,
    "start_time": "2024-08-14T11:12:38.062Z"
   },
   {
    "duration": 137,
    "start_time": "2024-08-14T11:12:58.081Z"
   },
   {
    "duration": 149,
    "start_time": "2024-08-14T11:13:06.190Z"
   },
   {
    "duration": 8,
    "start_time": "2024-08-14T11:13:21.226Z"
   },
   {
    "duration": 154,
    "start_time": "2024-08-14T11:13:43.396Z"
   },
   {
    "duration": 145,
    "start_time": "2024-08-14T11:13:58.343Z"
   },
   {
    "duration": 155,
    "start_time": "2024-08-14T11:14:05.914Z"
   },
   {
    "duration": 273,
    "start_time": "2024-08-14T11:14:23.821Z"
   },
   {
    "duration": 214,
    "start_time": "2024-08-14T11:15:03.151Z"
   },
   {
    "duration": 211,
    "start_time": "2024-08-14T11:15:13.731Z"
   },
   {
    "duration": 78,
    "start_time": "2024-08-14T11:16:26.406Z"
   },
   {
    "duration": 4,
    "start_time": "2024-08-14T11:16:32.145Z"
   },
   {
    "duration": 4,
    "start_time": "2024-08-14T11:16:40.883Z"
   },
   {
    "duration": 227,
    "start_time": "2024-08-14T11:16:46.378Z"
   },
   {
    "duration": 228,
    "start_time": "2024-08-14T11:17:01.653Z"
   },
   {
    "duration": 250,
    "start_time": "2024-08-14T11:17:09.469Z"
   },
   {
    "duration": 235,
    "start_time": "2024-08-14T11:17:13.451Z"
   },
   {
    "duration": 265,
    "start_time": "2024-08-14T11:17:40.049Z"
   },
   {
    "duration": 260,
    "start_time": "2024-08-14T11:17:57.005Z"
   },
   {
    "duration": 238,
    "start_time": "2024-08-14T11:19:37.526Z"
   },
   {
    "duration": 233,
    "start_time": "2024-08-14T11:20:36.259Z"
   },
   {
    "duration": 351,
    "start_time": "2024-08-14T11:21:36.514Z"
   },
   {
    "duration": 278,
    "start_time": "2024-08-14T11:21:49.187Z"
   },
   {
    "duration": 21,
    "start_time": "2024-08-14T11:23:53.582Z"
   },
   {
    "duration": 357,
    "start_time": "2024-08-14T11:23:56.027Z"
   },
   {
    "duration": 22,
    "start_time": "2024-08-14T11:25:29.581Z"
   },
   {
    "duration": 348,
    "start_time": "2024-08-14T11:25:33.097Z"
   },
   {
    "duration": 30,
    "start_time": "2024-08-14T11:27:43.227Z"
   },
   {
    "duration": 287,
    "start_time": "2024-08-14T11:32:17.028Z"
   },
   {
    "duration": 13,
    "start_time": "2024-08-14T11:34:00.209Z"
   },
   {
    "duration": 18,
    "start_time": "2024-08-14T11:34:07.275Z"
   },
   {
    "duration": 11,
    "start_time": "2024-08-14T11:34:10.773Z"
   },
   {
    "duration": 14,
    "start_time": "2024-08-14T11:36:12.121Z"
   },
   {
    "duration": 18,
    "start_time": "2024-08-14T11:36:31.505Z"
   },
   {
    "duration": 17,
    "start_time": "2024-08-14T11:36:42.032Z"
   },
   {
    "duration": 16,
    "start_time": "2024-08-14T11:37:20.482Z"
   },
   {
    "duration": 15,
    "start_time": "2024-08-14T11:37:37.982Z"
   },
   {
    "duration": 15,
    "start_time": "2024-08-14T11:37:49.393Z"
   },
   {
    "duration": 66,
    "start_time": "2024-08-14T11:40:07.668Z"
   },
   {
    "duration": 9,
    "start_time": "2024-08-14T11:40:16.639Z"
   },
   {
    "duration": 18,
    "start_time": "2024-08-14T11:40:20.714Z"
   },
   {
    "duration": 17,
    "start_time": "2024-08-14T11:40:21.718Z"
   },
   {
    "duration": 6,
    "start_time": "2024-08-14T11:53:04.691Z"
   },
   {
    "duration": 187,
    "start_time": "2024-08-14T11:53:06.492Z"
   },
   {
    "duration": 1105,
    "start_time": "2024-08-14T12:11:54.697Z"
   },
   {
    "duration": 87,
    "start_time": "2024-08-14T12:11:55.804Z"
   },
   {
    "duration": 15,
    "start_time": "2024-08-14T12:11:55.892Z"
   },
   {
    "duration": 22,
    "start_time": "2024-08-14T12:11:55.909Z"
   },
   {
    "duration": 5,
    "start_time": "2024-08-14T12:11:55.933Z"
   },
   {
    "duration": 12,
    "start_time": "2024-08-14T12:11:55.940Z"
   },
   {
    "duration": 22,
    "start_time": "2024-08-14T12:11:55.954Z"
   },
   {
    "duration": 16,
    "start_time": "2024-08-14T12:11:55.978Z"
   },
   {
    "duration": 37,
    "start_time": "2024-08-14T12:11:55.995Z"
   },
   {
    "duration": 14,
    "start_time": "2024-08-14T12:11:56.036Z"
   },
   {
    "duration": 19,
    "start_time": "2024-08-14T12:11:56.052Z"
   },
   {
    "duration": 20,
    "start_time": "2024-08-14T12:11:56.072Z"
   },
   {
    "duration": 10,
    "start_time": "2024-08-14T12:11:56.094Z"
   },
   {
    "duration": 9,
    "start_time": "2024-08-14T12:11:56.105Z"
   },
   {
    "duration": 1287,
    "start_time": "2024-08-14T12:11:56.123Z"
   },
   {
    "duration": 212,
    "start_time": "2024-08-14T12:11:57.412Z"
   },
   {
    "duration": 13,
    "start_time": "2024-08-14T12:11:57.626Z"
   },
   {
    "duration": 20,
    "start_time": "2024-08-14T12:11:57.641Z"
   },
   {
    "duration": 15,
    "start_time": "2024-08-14T12:11:57.662Z"
   },
   {
    "duration": 6,
    "start_time": "2024-08-14T12:11:57.678Z"
   },
   {
    "duration": 30,
    "start_time": "2024-08-14T12:11:57.685Z"
   },
   {
    "duration": 504,
    "start_time": "2024-08-14T12:11:57.716Z"
   },
   {
    "duration": 9,
    "start_time": "2024-08-14T12:11:58.225Z"
   },
   {
    "duration": 20,
    "start_time": "2024-08-14T12:11:58.235Z"
   },
   {
    "duration": 620,
    "start_time": "2024-08-14T12:11:58.257Z"
   },
   {
    "duration": 17,
    "start_time": "2024-08-14T12:11:58.879Z"
   },
   {
    "duration": 68,
    "start_time": "2024-08-14T12:11:58.897Z"
   },
   {
    "duration": 12,
    "start_time": "2024-08-14T12:11:58.968Z"
   },
   {
    "duration": 7,
    "start_time": "2024-08-14T12:11:58.981Z"
   },
   {
    "duration": 192,
    "start_time": "2024-08-14T12:11:58.990Z"
   },
   {
    "duration": 25,
    "start_time": "2024-08-14T12:11:59.183Z"
   },
   {
    "duration": 29,
    "start_time": "2024-08-14T12:11:59.209Z"
   },
   {
    "duration": 370,
    "start_time": "2024-08-14T12:11:59.240Z"
   },
   {
    "duration": 33,
    "start_time": "2024-08-14T12:11:59.613Z"
   },
   {
    "duration": 9,
    "start_time": "2024-08-14T12:11:59.648Z"
   },
   {
    "duration": 687,
    "start_time": "2024-08-14T12:11:59.660Z"
   },
   {
    "duration": 14,
    "start_time": "2024-08-14T12:12:00.348Z"
   },
   {
    "duration": 74,
    "start_time": "2024-08-14T12:12:00.363Z"
   },
   {
    "duration": 216,
    "start_time": "2024-08-14T12:12:00.438Z"
   },
   {
    "duration": 197,
    "start_time": "2024-08-14T12:12:00.656Z"
   },
   {
    "duration": 5,
    "start_time": "2024-08-14T12:12:00.854Z"
   },
   {
    "duration": 498,
    "start_time": "2024-08-14T12:12:00.860Z"
   },
   {
    "duration": 402,
    "start_time": "2024-08-14T12:12:01.360Z"
   },
   {
    "duration": 5,
    "start_time": "2024-08-14T12:12:01.764Z"
   },
   {
    "duration": 360,
    "start_time": "2024-08-14T12:12:01.771Z"
   },
   {
    "duration": 20,
    "start_time": "2024-08-14T12:12:02.133Z"
   },
   {
    "duration": 483,
    "start_time": "2024-08-14T12:12:02.154Z"
   },
   {
    "duration": 20,
    "start_time": "2024-08-14T12:12:02.639Z"
   },
   {
    "duration": 409,
    "start_time": "2024-08-14T12:12:02.661Z"
   },
   {
    "duration": 23,
    "start_time": "2024-08-14T12:12:03.071Z"
   },
   {
    "duration": 36,
    "start_time": "2024-08-14T12:12:03.095Z"
   },
   {
    "duration": 32,
    "start_time": "2024-08-14T12:12:03.133Z"
   },
   {
    "duration": 36,
    "start_time": "2024-08-14T12:12:03.166Z"
   },
   {
    "duration": 48,
    "start_time": "2024-08-14T12:12:03.204Z"
   },
   {
    "duration": 1167,
    "start_time": "2024-08-14T16:06:13.736Z"
   },
   {
    "duration": 81,
    "start_time": "2024-08-14T16:06:14.905Z"
   },
   {
    "duration": 13,
    "start_time": "2024-08-14T16:06:14.988Z"
   },
   {
    "duration": 47,
    "start_time": "2024-08-14T16:06:15.003Z"
   },
   {
    "duration": 31,
    "start_time": "2024-08-14T16:06:15.052Z"
   },
   {
    "duration": 64,
    "start_time": "2024-08-14T16:06:15.084Z"
   },
   {
    "duration": 49,
    "start_time": "2024-08-14T16:06:15.150Z"
   },
   {
    "duration": 31,
    "start_time": "2024-08-14T16:06:15.201Z"
   },
   {
    "duration": 34,
    "start_time": "2024-08-14T16:06:15.233Z"
   },
   {
    "duration": 49,
    "start_time": "2024-08-14T16:06:15.271Z"
   },
   {
    "duration": 54,
    "start_time": "2024-08-14T16:06:15.322Z"
   },
   {
    "duration": 51,
    "start_time": "2024-08-14T16:06:15.377Z"
   },
   {
    "duration": 34,
    "start_time": "2024-08-14T16:06:15.430Z"
   },
   {
    "duration": 10,
    "start_time": "2024-08-14T16:06:15.465Z"
   },
   {
    "duration": 1345,
    "start_time": "2024-08-14T16:06:15.476Z"
   },
   {
    "duration": 205,
    "start_time": "2024-08-14T16:06:16.823Z"
   },
   {
    "duration": 17,
    "start_time": "2024-08-14T16:06:17.029Z"
   },
   {
    "duration": 11,
    "start_time": "2024-08-14T16:06:17.047Z"
   },
   {
    "duration": 7,
    "start_time": "2024-08-14T16:06:17.060Z"
   },
   {
    "duration": 41,
    "start_time": "2024-08-14T16:06:17.069Z"
   },
   {
    "duration": 13,
    "start_time": "2024-08-14T16:06:17.112Z"
   },
   {
    "duration": 462,
    "start_time": "2024-08-14T16:06:17.126Z"
   },
   {
    "duration": 8,
    "start_time": "2024-08-14T16:06:17.589Z"
   },
   {
    "duration": 7,
    "start_time": "2024-08-14T16:06:17.599Z"
   },
   {
    "duration": 607,
    "start_time": "2024-08-14T16:06:17.608Z"
   },
   {
    "duration": 15,
    "start_time": "2024-08-14T16:06:18.216Z"
   },
   {
    "duration": 21,
    "start_time": "2024-08-14T16:06:18.233Z"
   },
   {
    "duration": 6,
    "start_time": "2024-08-14T16:06:18.258Z"
   },
   {
    "duration": 7,
    "start_time": "2024-08-14T16:06:18.266Z"
   },
   {
    "duration": 199,
    "start_time": "2024-08-14T16:06:18.275Z"
   },
   {
    "duration": 26,
    "start_time": "2024-08-14T16:06:18.476Z"
   },
   {
    "duration": 14,
    "start_time": "2024-08-14T16:06:18.503Z"
   },
   {
    "duration": 388,
    "start_time": "2024-08-14T16:06:18.519Z"
   },
   {
    "duration": 20,
    "start_time": "2024-08-14T16:06:18.909Z"
   },
   {
    "duration": 22,
    "start_time": "2024-08-14T16:06:18.931Z"
   },
   {
    "duration": 691,
    "start_time": "2024-08-14T16:06:18.955Z"
   },
   {
    "duration": 13,
    "start_time": "2024-08-14T16:06:19.648Z"
   },
   {
    "duration": 191,
    "start_time": "2024-08-14T16:06:19.663Z"
   },
   {
    "duration": 200,
    "start_time": "2024-08-14T16:06:19.855Z"
   },
   {
    "duration": 191,
    "start_time": "2024-08-14T16:06:20.057Z"
   },
   {
    "duration": 5,
    "start_time": "2024-08-14T16:06:20.249Z"
   },
   {
    "duration": 452,
    "start_time": "2024-08-14T16:06:20.255Z"
   },
   {
    "duration": 383,
    "start_time": "2024-08-14T16:06:20.709Z"
   },
   {
    "duration": 6,
    "start_time": "2024-08-14T16:06:21.094Z"
   },
   {
    "duration": 316,
    "start_time": "2024-08-14T16:06:21.102Z"
   },
   {
    "duration": 37,
    "start_time": "2024-08-14T16:06:21.420Z"
   },
   {
    "duration": 458,
    "start_time": "2024-08-14T16:06:21.459Z"
   },
   {
    "duration": 30,
    "start_time": "2024-08-14T16:06:21.918Z"
   },
   {
    "duration": 371,
    "start_time": "2024-08-14T16:06:21.950Z"
   },
   {
    "duration": 31,
    "start_time": "2024-08-14T16:06:22.323Z"
   },
   {
    "duration": 28,
    "start_time": "2024-08-14T16:06:22.356Z"
   },
   {
    "duration": 39,
    "start_time": "2024-08-14T16:06:22.385Z"
   },
   {
    "duration": 29,
    "start_time": "2024-08-14T16:06:22.426Z"
   },
   {
    "duration": 30,
    "start_time": "2024-08-14T16:06:22.456Z"
   },
   {
    "duration": 19,
    "start_time": "2024-08-14T16:07:10.815Z"
   },
   {
    "duration": 77,
    "start_time": "2024-08-14T16:12:00.689Z"
   },
   {
    "duration": 21,
    "start_time": "2024-08-14T16:12:25.643Z"
   },
   {
    "duration": 282,
    "start_time": "2024-08-14T16:13:06.765Z"
   },
   {
    "duration": 1372,
    "start_time": "2024-08-14T16:23:22.897Z"
   },
   {
    "duration": 217,
    "start_time": "2024-08-14T16:23:24.271Z"
   },
   {
    "duration": 14,
    "start_time": "2024-08-14T16:23:24.490Z"
   },
   {
    "duration": 31,
    "start_time": "2024-08-14T16:23:24.507Z"
   },
   {
    "duration": 9,
    "start_time": "2024-08-14T16:23:24.539Z"
   },
   {
    "duration": 50,
    "start_time": "2024-08-14T16:23:24.550Z"
   },
   {
    "duration": 39,
    "start_time": "2024-08-14T16:23:24.602Z"
   },
   {
    "duration": 17,
    "start_time": "2024-08-14T16:23:24.643Z"
   },
   {
    "duration": 34,
    "start_time": "2024-08-14T16:23:24.662Z"
   },
   {
    "duration": 9,
    "start_time": "2024-08-14T16:23:24.698Z"
   },
   {
    "duration": 14,
    "start_time": "2024-08-14T16:23:24.709Z"
   },
   {
    "duration": 31,
    "start_time": "2024-08-14T16:23:24.724Z"
   },
   {
    "duration": 14,
    "start_time": "2024-08-14T16:23:24.757Z"
   },
   {
    "duration": 9,
    "start_time": "2024-08-14T16:23:24.773Z"
   },
   {
    "duration": 20,
    "start_time": "2024-08-14T16:23:24.784Z"
   },
   {
    "duration": 1337,
    "start_time": "2024-08-14T16:23:24.806Z"
   },
   {
    "duration": 212,
    "start_time": "2024-08-14T16:23:26.146Z"
   },
   {
    "duration": 14,
    "start_time": "2024-08-14T16:23:26.359Z"
   },
   {
    "duration": 24,
    "start_time": "2024-08-14T16:23:26.374Z"
   },
   {
    "duration": 4,
    "start_time": "2024-08-14T16:23:26.400Z"
   },
   {
    "duration": 13,
    "start_time": "2024-08-14T16:23:26.405Z"
   },
   {
    "duration": 7,
    "start_time": "2024-08-14T16:23:26.419Z"
   },
   {
    "duration": 489,
    "start_time": "2024-08-14T16:23:26.427Z"
   },
   {
    "duration": 8,
    "start_time": "2024-08-14T16:23:26.918Z"
   },
   {
    "duration": 29,
    "start_time": "2024-08-14T16:23:26.927Z"
   },
   {
    "duration": 660,
    "start_time": "2024-08-14T16:23:26.957Z"
   },
   {
    "duration": 17,
    "start_time": "2024-08-14T16:23:27.619Z"
   },
   {
    "duration": 14,
    "start_time": "2024-08-14T16:23:27.640Z"
   },
   {
    "duration": 16,
    "start_time": "2024-08-14T16:23:27.655Z"
   },
   {
    "duration": 15,
    "start_time": "2024-08-14T16:23:27.672Z"
   },
   {
    "duration": 268,
    "start_time": "2024-08-14T16:23:27.689Z"
   },
   {
    "duration": 24,
    "start_time": "2024-08-14T16:23:27.959Z"
   },
   {
    "duration": 16,
    "start_time": "2024-08-14T16:23:27.985Z"
   },
   {
    "duration": 310,
    "start_time": "2024-08-14T16:23:28.003Z"
   },
   {
    "duration": 18,
    "start_time": "2024-08-14T16:23:28.315Z"
   },
   {
    "duration": 16,
    "start_time": "2024-08-14T16:23:28.335Z"
   },
   {
    "duration": 726,
    "start_time": "2024-08-14T16:23:28.352Z"
   },
   {
    "duration": 292,
    "start_time": "2024-08-14T16:23:29.080Z"
   },
   {
    "duration": 13,
    "start_time": "2024-08-14T16:23:29.374Z"
   },
   {
    "duration": 44,
    "start_time": "2024-08-14T16:23:29.389Z"
   },
   {
    "duration": 194,
    "start_time": "2024-08-14T16:23:29.435Z"
   },
   {
    "duration": 191,
    "start_time": "2024-08-14T16:23:29.631Z"
   },
   {
    "duration": 5,
    "start_time": "2024-08-14T16:23:29.824Z"
   },
   {
    "duration": 487,
    "start_time": "2024-08-14T16:23:29.831Z"
   },
   {
    "duration": 398,
    "start_time": "2024-08-14T16:23:30.320Z"
   },
   {
    "duration": 639,
    "start_time": "2024-08-14T16:23:30.720Z"
   },
   {
    "duration": 1624,
    "start_time": "2024-08-14T16:23:31.361Z"
   },
   {
    "duration": 24,
    "start_time": "2024-08-14T16:23:32.987Z"
   },
   {
    "duration": 383,
    "start_time": "2024-08-14T16:23:33.013Z"
   },
   {
    "duration": 22,
    "start_time": "2024-08-14T16:23:33.399Z"
   },
   {
    "duration": 423,
    "start_time": "2024-08-14T16:23:33.423Z"
   },
   {
    "duration": 24,
    "start_time": "2024-08-14T16:23:33.848Z"
   },
   {
    "duration": 16,
    "start_time": "2024-08-14T16:23:33.874Z"
   },
   {
    "duration": 33,
    "start_time": "2024-08-14T16:23:33.892Z"
   },
   {
    "duration": 33,
    "start_time": "2024-08-14T16:23:33.927Z"
   },
   {
    "duration": 16,
    "start_time": "2024-08-14T16:23:33.962Z"
   },
   {
    "duration": 283,
    "start_time": "2024-08-14T16:24:31.654Z"
   },
   {
    "duration": 1242,
    "start_time": "2024-08-15T05:37:09.450Z"
   },
   {
    "duration": 203,
    "start_time": "2024-08-15T05:37:10.694Z"
   },
   {
    "duration": 14,
    "start_time": "2024-08-15T05:37:10.899Z"
   },
   {
    "duration": 21,
    "start_time": "2024-08-15T05:37:10.916Z"
   },
   {
    "duration": 11,
    "start_time": "2024-08-15T05:37:10.938Z"
   },
   {
    "duration": 12,
    "start_time": "2024-08-15T05:37:10.951Z"
   },
   {
    "duration": 24,
    "start_time": "2024-08-15T05:37:10.964Z"
   },
   {
    "duration": 39,
    "start_time": "2024-08-15T05:37:10.989Z"
   },
   {
    "duration": 25,
    "start_time": "2024-08-15T05:37:11.030Z"
   },
   {
    "duration": 24,
    "start_time": "2024-08-15T05:37:11.058Z"
   },
   {
    "duration": 22,
    "start_time": "2024-08-15T05:37:11.083Z"
   },
   {
    "duration": 13,
    "start_time": "2024-08-15T05:37:11.107Z"
   },
   {
    "duration": 5,
    "start_time": "2024-08-15T05:37:11.121Z"
   },
   {
    "duration": 19,
    "start_time": "2024-08-15T05:37:11.127Z"
   },
   {
    "duration": 23,
    "start_time": "2024-08-15T05:37:11.147Z"
   },
   {
    "duration": 1303,
    "start_time": "2024-08-15T05:37:11.171Z"
   },
   {
    "duration": 231,
    "start_time": "2024-08-15T05:37:12.476Z"
   },
   {
    "duration": 13,
    "start_time": "2024-08-15T05:37:12.709Z"
   },
   {
    "duration": 23,
    "start_time": "2024-08-15T05:37:12.724Z"
   },
   {
    "duration": 4,
    "start_time": "2024-08-15T05:37:12.749Z"
   },
   {
    "duration": 5,
    "start_time": "2024-08-15T05:37:12.755Z"
   },
   {
    "duration": 5,
    "start_time": "2024-08-15T05:37:12.762Z"
   },
   {
    "duration": 514,
    "start_time": "2024-08-15T05:37:12.768Z"
   },
   {
    "duration": 9,
    "start_time": "2024-08-15T05:37:13.283Z"
   },
   {
    "duration": 9,
    "start_time": "2024-08-15T05:37:13.294Z"
   },
   {
    "duration": 628,
    "start_time": "2024-08-15T05:37:13.305Z"
   },
   {
    "duration": 16,
    "start_time": "2024-08-15T05:37:13.935Z"
   },
   {
    "duration": 7,
    "start_time": "2024-08-15T05:37:13.956Z"
   },
   {
    "duration": 7,
    "start_time": "2024-08-15T05:37:13.964Z"
   },
   {
    "duration": 7,
    "start_time": "2024-08-15T05:37:13.973Z"
   },
   {
    "duration": 281,
    "start_time": "2024-08-15T05:37:13.982Z"
   },
   {
    "duration": 27,
    "start_time": "2024-08-15T05:37:14.265Z"
   },
   {
    "duration": 16,
    "start_time": "2024-08-15T05:37:14.294Z"
   },
   {
    "duration": 328,
    "start_time": "2024-08-15T05:37:14.311Z"
   },
   {
    "duration": 23,
    "start_time": "2024-08-15T05:37:14.641Z"
   },
   {
    "duration": 11,
    "start_time": "2024-08-15T05:37:14.666Z"
   },
   {
    "duration": 303,
    "start_time": "2024-08-15T05:37:14.678Z"
   },
   {
    "duration": 306,
    "start_time": "2024-08-15T05:37:14.983Z"
   },
   {
    "duration": 14,
    "start_time": "2024-08-15T05:37:15.290Z"
   },
   {
    "duration": 42,
    "start_time": "2024-08-15T05:37:15.305Z"
   },
   {
    "duration": 217,
    "start_time": "2024-08-15T05:37:15.349Z"
   },
   {
    "duration": 192,
    "start_time": "2024-08-15T05:37:15.568Z"
   },
   {
    "duration": 5,
    "start_time": "2024-08-15T05:37:15.761Z"
   },
   {
    "duration": 394,
    "start_time": "2024-08-15T05:37:15.767Z"
   },
   {
    "duration": 410,
    "start_time": "2024-08-15T05:37:16.163Z"
   },
   {
    "duration": 8,
    "start_time": "2024-08-15T05:37:16.576Z"
   },
   {
    "duration": 413,
    "start_time": "2024-08-15T05:37:16.586Z"
   },
   {
    "duration": 26,
    "start_time": "2024-08-15T05:37:17.001Z"
   },
   {
    "duration": 374,
    "start_time": "2024-08-15T05:37:17.046Z"
   },
   {
    "duration": 31,
    "start_time": "2024-08-15T05:37:17.422Z"
   },
   {
    "duration": 395,
    "start_time": "2024-08-15T05:37:17.455Z"
   },
   {
    "duration": 25,
    "start_time": "2024-08-15T05:37:17.852Z"
   },
   {
    "duration": 19,
    "start_time": "2024-08-15T05:37:17.879Z"
   },
   {
    "duration": 23,
    "start_time": "2024-08-15T05:37:17.899Z"
   },
   {
    "duration": 18,
    "start_time": "2024-08-15T05:37:17.946Z"
   },
   {
    "duration": 22,
    "start_time": "2024-08-15T05:37:17.966Z"
   },
   {
    "duration": 1318,
    "start_time": "2024-08-15T13:34:07.993Z"
   },
   {
    "duration": 265,
    "start_time": "2024-08-15T13:34:09.313Z"
   },
   {
    "duration": 13,
    "start_time": "2024-08-15T13:34:09.580Z"
   },
   {
    "duration": 17,
    "start_time": "2024-08-15T13:34:09.595Z"
   },
   {
    "duration": 4,
    "start_time": "2024-08-15T13:34:09.613Z"
   },
   {
    "duration": 34,
    "start_time": "2024-08-15T13:34:09.619Z"
   },
   {
    "duration": 26,
    "start_time": "2024-08-15T13:34:09.655Z"
   },
   {
    "duration": 15,
    "start_time": "2024-08-15T13:34:09.682Z"
   },
   {
    "duration": 23,
    "start_time": "2024-08-15T13:34:09.698Z"
   },
   {
    "duration": 30,
    "start_time": "2024-08-15T13:34:09.723Z"
   },
   {
    "duration": 18,
    "start_time": "2024-08-15T13:34:09.756Z"
   },
   {
    "duration": 12,
    "start_time": "2024-08-15T13:34:09.775Z"
   },
   {
    "duration": 5,
    "start_time": "2024-08-15T13:34:09.788Z"
   },
   {
    "duration": 23,
    "start_time": "2024-08-15T13:34:09.794Z"
   },
   {
    "duration": 3,
    "start_time": "2024-08-15T13:34:09.819Z"
   },
   {
    "duration": 1296,
    "start_time": "2024-08-15T13:34:09.824Z"
   },
   {
    "duration": 220,
    "start_time": "2024-08-15T13:34:11.121Z"
   },
   {
    "duration": 25,
    "start_time": "2024-08-15T13:34:11.342Z"
   },
   {
    "duration": 9,
    "start_time": "2024-08-15T13:34:11.369Z"
   },
   {
    "duration": 3,
    "start_time": "2024-08-15T13:34:11.380Z"
   },
   {
    "duration": 5,
    "start_time": "2024-08-15T13:34:11.384Z"
   },
   {
    "duration": 522,
    "start_time": "2024-08-15T13:34:11.390Z"
   },
   {
    "duration": 9,
    "start_time": "2024-08-15T13:34:11.913Z"
   },
   {
    "duration": 7,
    "start_time": "2024-08-15T13:34:11.923Z"
   },
   {
    "duration": 635,
    "start_time": "2024-08-15T13:34:11.931Z"
   },
   {
    "duration": 14,
    "start_time": "2024-08-15T13:34:12.568Z"
   },
   {
    "duration": 7,
    "start_time": "2024-08-15T13:34:12.584Z"
   },
   {
    "duration": 7,
    "start_time": "2024-08-15T13:34:12.594Z"
   },
   {
    "duration": 11,
    "start_time": "2024-08-15T13:34:12.602Z"
   },
   {
    "duration": 280,
    "start_time": "2024-08-15T13:34:12.615Z"
   },
   {
    "duration": 23,
    "start_time": "2024-08-15T13:34:12.896Z"
   },
   {
    "duration": 14,
    "start_time": "2024-08-15T13:34:12.921Z"
   },
   {
    "duration": 422,
    "start_time": "2024-08-15T13:34:12.936Z"
   },
   {
    "duration": 24,
    "start_time": "2024-08-15T13:34:13.360Z"
   },
   {
    "duration": 8,
    "start_time": "2024-08-15T13:34:13.386Z"
   },
   {
    "duration": 342,
    "start_time": "2024-08-15T13:34:13.396Z"
   },
   {
    "duration": 497,
    "start_time": "2024-08-15T13:34:13.740Z"
   },
   {
    "duration": 26,
    "start_time": "2024-08-15T13:34:14.239Z"
   },
   {
    "duration": 25,
    "start_time": "2024-08-15T13:34:14.267Z"
   },
   {
    "duration": 217,
    "start_time": "2024-08-15T13:34:14.294Z"
   },
   {
    "duration": 204,
    "start_time": "2024-08-15T13:34:14.512Z"
   },
   {
    "duration": 5,
    "start_time": "2024-08-15T13:34:14.718Z"
   },
   {
    "duration": 406,
    "start_time": "2024-08-15T13:34:14.725Z"
   },
   {
    "duration": 383,
    "start_time": "2024-08-15T13:34:15.132Z"
   },
   {
    "duration": 7,
    "start_time": "2024-08-15T13:34:15.517Z"
   },
   {
    "duration": 397,
    "start_time": "2024-08-15T13:34:15.525Z"
   },
   {
    "duration": 20,
    "start_time": "2024-08-15T13:34:15.924Z"
   },
   {
    "duration": 373,
    "start_time": "2024-08-15T13:34:15.953Z"
   },
   {
    "duration": 34,
    "start_time": "2024-08-15T13:34:16.328Z"
   },
   {
    "duration": 383,
    "start_time": "2024-08-15T13:34:16.364Z"
   },
   {
    "duration": 28,
    "start_time": "2024-08-15T13:34:16.752Z"
   },
   {
    "duration": 17,
    "start_time": "2024-08-15T13:34:16.781Z"
   },
   {
    "duration": 19,
    "start_time": "2024-08-15T13:34:16.800Z"
   },
   {
    "duration": 47,
    "start_time": "2024-08-15T13:34:16.821Z"
   },
   {
    "duration": 24,
    "start_time": "2024-08-15T13:34:16.870Z"
   }
  ],
  "kernelspec": {
   "display_name": "Python 3 (ipykernel)",
   "language": "python",
   "name": "python3"
  },
  "language_info": {
   "codemirror_mode": {
    "name": "ipython",
    "version": 3
   },
   "file_extension": ".py",
   "mimetype": "text/x-python",
   "name": "python",
   "nbconvert_exporter": "python",
   "pygments_lexer": "ipython3",
   "version": "3.11.7"
  },
  "toc": {
   "base_numbering": 1,
   "nav_menu": {
    "height": "142.995px",
    "width": "315.998px"
   },
   "number_sections": true,
   "sideBar": true,
   "skip_h1_title": true,
   "title_cell": "Table of Contents",
   "title_sidebar": "Contents",
   "toc_cell": false,
   "toc_position": {
    "height": "calc(100% - 180px)",
    "left": "10px",
    "top": "150px",
    "width": "320px"
   },
   "toc_section_display": true,
   "toc_window_display": false
  }
 },
 "nbformat": 4,
 "nbformat_minor": 4
}
